{
 "cells": [
  {
   "cell_type": "markdown",
   "metadata": {},
   "source": [
    "# VacationPy\n",
    "----\n",
    "\n",
    "#### Note\n",
    "* Keep an eye on your API usage. Use https://developers.google.com/maps/reporting/gmp-reporting as reference for how to monitor your usage and billing.\n",
    "\n",
    "* Instructions have been included for each segment. You do not have to follow them exactly, but they are included to help you think through the steps."
   ]
  },
  {
   "cell_type": "code",
   "execution_count": 1,
   "metadata": {},
   "outputs": [],
   "source": [
    "# Dependencies and Setup\n",
    "import matplotlib.pyplot as plt\n",
    "import pandas as pd\n",
    "import numpy as np\n",
    "import requests\n",
    "import gmaps\n",
    "import os\n",
    "\n",
    "# Import API key\n",
    "from config import g_key"
   ]
  },
  {
   "cell_type": "markdown",
   "metadata": {},
   "source": [
    "### Store Part I results into DataFrame\n",
    "* Load the csv exported in Part I to a DataFrame"
   ]
  },
  {
   "cell_type": "code",
   "execution_count": 2,
   "metadata": {},
   "outputs": [
    {
     "data": {
      "text/html": [
       "<div>\n",
       "<style scoped>\n",
       "    .dataframe tbody tr th:only-of-type {\n",
       "        vertical-align: middle;\n",
       "    }\n",
       "\n",
       "    .dataframe tbody tr th {\n",
       "        vertical-align: top;\n",
       "    }\n",
       "\n",
       "    .dataframe thead th {\n",
       "        text-align: right;\n",
       "    }\n",
       "</style>\n",
       "<table border=\"1\" class=\"dataframe\">\n",
       "  <thead>\n",
       "    <tr style=\"text-align: right;\">\n",
       "      <th></th>\n",
       "      <th>City</th>\n",
       "      <th>Lat</th>\n",
       "      <th>Lng</th>\n",
       "      <th>Max Temp</th>\n",
       "      <th>Humidity</th>\n",
       "      <th>Cloudiness</th>\n",
       "      <th>Wind Speed</th>\n",
       "      <th>Country</th>\n",
       "      <th>Date</th>\n",
       "    </tr>\n",
       "  </thead>\n",
       "  <tbody>\n",
       "    <tr>\n",
       "      <th>0</th>\n",
       "      <td>show low</td>\n",
       "      <td>34.2542</td>\n",
       "      <td>-110.0298</td>\n",
       "      <td>41.00</td>\n",
       "      <td>24</td>\n",
       "      <td>1</td>\n",
       "      <td>9.22</td>\n",
       "      <td>US</td>\n",
       "      <td>1618645100</td>\n",
       "    </tr>\n",
       "    <tr>\n",
       "      <th>1</th>\n",
       "      <td>upernavik</td>\n",
       "      <td>72.7868</td>\n",
       "      <td>-56.1549</td>\n",
       "      <td>-10.37</td>\n",
       "      <td>93</td>\n",
       "      <td>79</td>\n",
       "      <td>6.60</td>\n",
       "      <td>GL</td>\n",
       "      <td>1618645101</td>\n",
       "    </tr>\n",
       "    <tr>\n",
       "      <th>2</th>\n",
       "      <td>barrow</td>\n",
       "      <td>71.2906</td>\n",
       "      <td>-156.7887</td>\n",
       "      <td>23.00</td>\n",
       "      <td>80</td>\n",
       "      <td>90</td>\n",
       "      <td>12.66</td>\n",
       "      <td>US</td>\n",
       "      <td>1618645101</td>\n",
       "    </tr>\n",
       "    <tr>\n",
       "      <th>3</th>\n",
       "      <td>lebu</td>\n",
       "      <td>-37.6167</td>\n",
       "      <td>-73.6500</td>\n",
       "      <td>52.14</td>\n",
       "      <td>82</td>\n",
       "      <td>24</td>\n",
       "      <td>4.63</td>\n",
       "      <td>CL</td>\n",
       "      <td>1618645102</td>\n",
       "    </tr>\n",
       "    <tr>\n",
       "      <th>4</th>\n",
       "      <td>kaitong</td>\n",
       "      <td>44.8135</td>\n",
       "      <td>123.1500</td>\n",
       "      <td>53.29</td>\n",
       "      <td>34</td>\n",
       "      <td>74</td>\n",
       "      <td>12.35</td>\n",
       "      <td>CN</td>\n",
       "      <td>1618645102</td>\n",
       "    </tr>\n",
       "  </tbody>\n",
       "</table>\n",
       "</div>"
      ],
      "text/plain": [
       "        City      Lat       Lng  Max Temp  Humidity  Cloudiness  Wind Speed  \\\n",
       "0   show low  34.2542 -110.0298     41.00        24           1        9.22   \n",
       "1  upernavik  72.7868  -56.1549    -10.37        93          79        6.60   \n",
       "2     barrow  71.2906 -156.7887     23.00        80          90       12.66   \n",
       "3       lebu -37.6167  -73.6500     52.14        82          24        4.63   \n",
       "4    kaitong  44.8135  123.1500     53.29        34          74       12.35   \n",
       "\n",
       "  Country        Date  \n",
       "0      US  1618645100  \n",
       "1      GL  1618645101  \n",
       "2      US  1618645101  \n",
       "3      CL  1618645102  \n",
       "4      CN  1618645102  "
      ]
     },
     "execution_count": 2,
     "metadata": {},
     "output_type": "execute_result"
    }
   ],
   "source": [
    "#store file path\n",
    "weather_file = \"../WeatherPy/output.csv\"\n",
    "#read file\n",
    "weather_df = pd.read_csv(weather_file, encoding=\"ISO-8859-1\")\n",
    "#show the header\n",
    "weather_df.head()"
   ]
  },
  {
   "cell_type": "markdown",
   "metadata": {},
   "source": [
    "### Humidity Heatmap\n",
    "* Configure gmaps.\n",
    "* Use the Lat and Lng as locations and Humidity as the weight.\n",
    "* Add Heatmap layer to map."
   ]
  },
  {
   "cell_type": "code",
   "execution_count": 3,
   "metadata": {},
   "outputs": [
    {
     "data": {
      "application/vnd.jupyter.widget-view+json": {
       "model_id": "2b42b88e0fae4db09d7af786832a74ad",
       "version_major": 2,
       "version_minor": 0
      },
      "text/plain": [
       "Figure(layout=FigureLayout(height='420px'))"
      ]
     },
     "metadata": {},
     "output_type": "display_data"
    }
   ],
   "source": [
    "#configure gmaps\n",
    "gmaps.configure(api_key=g_key)\n",
    "\n",
    "#use lat and lng and humidity\n",
    "locations = weather_df[[\"Lat\", \"Lng\"]]\n",
    "\n",
    "humidity = weather_df[\"Humidity\"].astype(float)\n",
    "\n",
    "fig = gmaps.figure()\n",
    "\n",
    "heat_layer = gmaps.heatmap_layer(locations, weights=humidity, \n",
    "                                 dissipating=False, max_intensity=20,\n",
    "                                 point_radius=1)\n",
    "fig.add_layer(heat_layer)\n",
    "fig\n"
   ]
  },
  {
   "cell_type": "code",
   "execution_count": null,
   "metadata": {},
   "outputs": [],
   "source": []
  },
  {
   "cell_type": "markdown",
   "metadata": {},
   "source": [
    "### Create new DataFrame fitting weather criteria\n",
    "* Narrow down the cities to fit weather conditions.\n",
    "* Drop any rows will null values."
   ]
  },
  {
   "cell_type": "code",
   "execution_count": 11,
   "metadata": {
    "scrolled": true
   },
   "outputs": [
    {
     "data": {
      "text/html": [
       "<div>\n",
       "<style scoped>\n",
       "    .dataframe tbody tr th:only-of-type {\n",
       "        vertical-align: middle;\n",
       "    }\n",
       "\n",
       "    .dataframe tbody tr th {\n",
       "        vertical-align: top;\n",
       "    }\n",
       "\n",
       "    .dataframe thead th {\n",
       "        text-align: right;\n",
       "    }\n",
       "</style>\n",
       "<table border=\"1\" class=\"dataframe\">\n",
       "  <thead>\n",
       "    <tr style=\"text-align: right;\">\n",
       "      <th></th>\n",
       "      <th>City</th>\n",
       "      <th>Lat</th>\n",
       "      <th>Lng</th>\n",
       "      <th>Max Temp</th>\n",
       "      <th>Humidity</th>\n",
       "      <th>Cloudiness</th>\n",
       "      <th>Wind Speed</th>\n",
       "      <th>Country</th>\n",
       "      <th>Date</th>\n",
       "    </tr>\n",
       "  </thead>\n",
       "  <tbody>\n",
       "    <tr>\n",
       "      <th>129</th>\n",
       "      <td>beroroha</td>\n",
       "      <td>-21.6667</td>\n",
       "      <td>45.1667</td>\n",
       "      <td>78.17</td>\n",
       "      <td>36</td>\n",
       "      <td>0</td>\n",
       "      <td>7.43</td>\n",
       "      <td>MG</td>\n",
       "      <td>1618645152</td>\n",
       "    </tr>\n",
       "    <tr>\n",
       "      <th>145</th>\n",
       "      <td>conceicao do araguaia</td>\n",
       "      <td>-8.2578</td>\n",
       "      <td>-49.2647</td>\n",
       "      <td>75.20</td>\n",
       "      <td>100</td>\n",
       "      <td>0</td>\n",
       "      <td>1.14</td>\n",
       "      <td>BR</td>\n",
       "      <td>1618645158</td>\n",
       "    </tr>\n",
       "    <tr>\n",
       "      <th>218</th>\n",
       "      <td>itanhaem</td>\n",
       "      <td>-24.1831</td>\n",
       "      <td>-46.7889</td>\n",
       "      <td>73.00</td>\n",
       "      <td>72</td>\n",
       "      <td>0</td>\n",
       "      <td>5.75</td>\n",
       "      <td>BR</td>\n",
       "      <td>1618645191</td>\n",
       "    </tr>\n",
       "    <tr>\n",
       "      <th>234</th>\n",
       "      <td>safut</td>\n",
       "      <td>32.0336</td>\n",
       "      <td>35.8332</td>\n",
       "      <td>75.20</td>\n",
       "      <td>23</td>\n",
       "      <td>0</td>\n",
       "      <td>2.30</td>\n",
       "      <td>JO</td>\n",
       "      <td>1618645197</td>\n",
       "    </tr>\n",
       "    <tr>\n",
       "      <th>274</th>\n",
       "      <td>plettenberg bay</td>\n",
       "      <td>-34.0527</td>\n",
       "      <td>23.3716</td>\n",
       "      <td>73.74</td>\n",
       "      <td>26</td>\n",
       "      <td>0</td>\n",
       "      <td>1.54</td>\n",
       "      <td>ZA</td>\n",
       "      <td>1618645213</td>\n",
       "    </tr>\n",
       "    <tr>\n",
       "      <th>514</th>\n",
       "      <td>hasanabad</td>\n",
       "      <td>36.5465</td>\n",
       "      <td>61.0543</td>\n",
       "      <td>77.00</td>\n",
       "      <td>38</td>\n",
       "      <td>0</td>\n",
       "      <td>9.22</td>\n",
       "      <td>IR</td>\n",
       "      <td>1618645301</td>\n",
       "    </tr>\n",
       "  </tbody>\n",
       "</table>\n",
       "</div>"
      ],
      "text/plain": [
       "                      City      Lat      Lng  Max Temp  Humidity  Cloudiness  \\\n",
       "129               beroroha -21.6667  45.1667     78.17        36           0   \n",
       "145  conceicao do araguaia  -8.2578 -49.2647     75.20       100           0   \n",
       "218               itanhaem -24.1831 -46.7889     73.00        72           0   \n",
       "234                  safut  32.0336  35.8332     75.20        23           0   \n",
       "274        plettenberg bay -34.0527  23.3716     73.74        26           0   \n",
       "514              hasanabad  36.5465  61.0543     77.00        38           0   \n",
       "\n",
       "     Wind Speed Country        Date  \n",
       "129        7.43      MG  1618645152  \n",
       "145        1.14      BR  1618645158  \n",
       "218        5.75      BR  1618645191  \n",
       "234        2.30      JO  1618645197  \n",
       "274        1.54      ZA  1618645213  \n",
       "514        9.22      IR  1618645301  "
      ]
     },
     "execution_count": 11,
     "metadata": {},
     "output_type": "execute_result"
    }
   ],
   "source": [
    "#Narrow down the cities to cities that fill ideal conditions\n",
    "ideal_weather = weather_df[(70 < weather_df['Max Temp'])\n",
    "                                           &(weather_df['Max Temp'] <80) \n",
    "                                           & (weather_df['Wind Speed'] < 10) \n",
    "                                           & (weather_df['Cloudiness'] == 0)]\n",
    "ideal_weather\n"
   ]
  },
  {
   "cell_type": "code",
   "execution_count": null,
   "metadata": {},
   "outputs": [],
   "source": []
  },
  {
   "cell_type": "markdown",
   "metadata": {},
   "source": [
    "### Hotel Map\n",
    "* Store into variable named `hotel_df`.\n",
    "* Add a \"Hotel Name\" column to the DataFrame.\n",
    "* Set parameters to search for hotels with 5000 meters.\n",
    "* Hit the Google Places API for each city's coordinates.\n",
    "* Store the first Hotel result into the DataFrame.\n",
    "* Plot markers on top of the heatmap."
   ]
  },
  {
   "cell_type": "code",
   "execution_count": 9,
   "metadata": {},
   "outputs": [
    {
     "name": "stderr",
     "output_type": "stream",
     "text": [
      "<ipython-input-9-3ac8aae0bc56>:3: SettingWithCopyWarning: \n",
      "A value is trying to be set on a copy of a slice from a DataFrame.\n",
      "Try using .loc[row_indexer,col_indexer] = value instead\n",
      "\n",
      "See the caveats in the documentation: https://pandas.pydata.org/pandas-docs/stable/user_guide/indexing.html#returning-a-view-versus-a-copy\n",
      "  ideal_weather[\"Hotel Name\"] = \"\"\n"
     ]
    }
   ],
   "source": [
    "ideal_weather\n",
    "\n",
    "ideal_weather[\"Hotel Name\"] = \"\""
   ]
  },
  {
   "cell_type": "markdown",
   "metadata": {},
   "source": []
  },
  {
   "cell_type": "code",
   "execution_count": null,
   "metadata": {},
   "outputs": [],
   "source": [
    "# NOTE: Do not change any of the code in this cell\n",
    "\n",
    "# Using the template add the hotel marks to the heatmap\n",
    "info_box_template = \"\"\"\n",
    "<dl>\n",
    "<dt>Name</dt><dd>{Hotel Name}</dd>\n",
    "<dt>City</dt><dd>{City}</dd>\n",
    "<dt>Country</dt><dd>{Country}</dd>\n",
    "</dl>\n",
    "\"\"\"\n",
    "# Store the DataFrame Row\n",
    "# NOTE: be sure to update with your DataFrame name\n",
    "hotel_info = [info_box_template.format(**row) for index, row in hotel_df.iterrows()]\n",
    "locations = hotel_df[[\"Lat\", \"Lng\"]]"
   ]
  },
  {
   "cell_type": "code",
   "execution_count": null,
   "metadata": {},
   "outputs": [],
   "source": [
    "# Add marker layer ontop of heat map\n",
    "\n",
    "\n",
    "# Display figure\n"
   ]
  },
  {
   "cell_type": "code",
   "execution_count": null,
   "metadata": {},
   "outputs": [],
   "source": []
  }
 ],
 "metadata": {
  "kernelspec": {
   "display_name": "Python 3",
   "language": "python",
   "name": "python3"
  },
  "language_info": {
   "codemirror_mode": {
    "name": "ipython",
    "version": 3
   },
   "file_extension": ".py",
   "mimetype": "text/x-python",
   "name": "python",
   "nbconvert_exporter": "python",
   "pygments_lexer": "ipython3",
   "version": "3.8.5"
  },
  "latex_envs": {
   "LaTeX_envs_menu_present": true,
   "autoclose": false,
   "autocomplete": true,
   "bibliofile": "biblio.bib",
   "cite_by": "apalike",
   "current_citInitial": 1,
   "eqLabelWithNumbers": true,
   "eqNumInitial": 1,
   "hotkeys": {
    "equation": "Ctrl-E",
    "itemize": "Ctrl-I"
   },
   "labels_anchors": false,
   "latex_user_defs": false,
   "report_style_numbering": false,
   "user_envs_cfg": false
  }
 },
 "nbformat": 4,
 "nbformat_minor": 4
}
