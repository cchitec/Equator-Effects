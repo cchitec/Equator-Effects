{
 "cells": [
  {
   "cell_type": "markdown",
   "metadata": {},
   "source": [
    "# WeatherPy\n",
    "----\n",
    "\n",
    "#### Note\n",
    "* Instructions have been included for each segment. You do not have to follow them exactly, but they are included to help you think through the steps."
   ]
  },
  {
   "cell_type": "markdown",
   "metadata": {},
   "source": [
    "## Generate Cities List"
   ]
  },
  {
   "cell_type": "code",
   "execution_count": 1,
   "metadata": {
    "scrolled": true
   },
   "outputs": [],
   "source": [
    "# Dependencies and Setup\n",
    "import os\n",
    "import matplotlib.pyplot as plt\n",
    "import pandas as pd\n",
    "import numpy as np\n",
    "import requests\n",
    "import time\n",
    "from scipy.stats import linregress\n",
    "import json\n",
    "from pprint import pprint\n",
    "\n",
    "# Import API key\n",
    "from config import api_key\n",
    "\n",
    "# Incorporated citipy to determine city based on latitude and longitude\n",
    "from citipy import citipy\n",
    "\n",
    "# Output File (CSV)\n",
    "output_data_file = \"output_data/cities.csv\"\n",
    "\n",
    "# Range of latitudes and longitudes\n",
    "lat_range = (-90, 90)\n",
    "lng_range = (-180, 180)"
   ]
  },
  {
   "cell_type": "code",
   "execution_count": 2,
   "metadata": {},
   "outputs": [
    {
     "data": {
      "text/plain": [
       "607"
      ]
     },
     "execution_count": 2,
     "metadata": {},
     "output_type": "execute_result"
    }
   ],
   "source": [
    "# List for holding lat_lngs and cities\n",
    "lat_lngs = []\n",
    "cities = []\n",
    "\n",
    "# Create a set of random lat and lng combinations\n",
    "lats = np.random.uniform(lat_range[0], lat_range[1], size=1500)\n",
    "lngs = np.random.uniform(lng_range[0], lng_range[1], size=1500)\n",
    "lat_lngs = zip(lats, lngs)\n",
    "\n",
    "# Identify nearest city for each lat, lng combination\n",
    "for lat_lng in lat_lngs:\n",
    "    city = citipy.nearest_city(lat_lng[0], lat_lng[1]).city_name\n",
    "    \n",
    "    # If the city is unique, then add it to a our cities list\n",
    "    if city not in cities:\n",
    "        cities.append(city)\n",
    "\n",
    "# Print the city count to confirm sufficient count\n",
    "len(cities)\n",
    "#cities"
   ]
  },
  {
   "cell_type": "markdown",
   "metadata": {},
   "source": [
    "### Perform API Calls\n",
    "* Perform a weather check on each city using a series of successive API calls.\n",
    "* Include a print log of each city as it'sbeing processed (with the city number and city name).\n"
   ]
  },
  {
   "cell_type": "code",
   "execution_count": 3,
   "metadata": {},
   "outputs": [],
   "source": [
    "#url = \"http://api.openweathermap.org/data/2.5/weather?\"\n",
    "#units = \"imperial\"\n",
    "#query_url = f\"{url}appid={api_key}\"\n",
    "\n",
    "#target_url = query_url + city.replace(\" \", \"+\") + units\n",
    "#response = requests.get(target_url)\n",
    "#response_json = response.json()\n",
    "#response_json"
   ]
  },
  {
   "cell_type": "code",
   "execution_count": 4,
   "metadata": {},
   "outputs": [
    {
     "name": "stdout",
     "output_type": "stream",
     "text": [
      "Beginning Data Retrieval    \n",
      "----------------------------\n",
      "Processing Record 1 of Set 1 | umzimvubu\n",
      "City not found. Skipping ...\n",
      "Processing Record 2 of Set 1 | lamu\n",
      "Processing Record 3 of Set 1 | kisangani\n",
      "Processing Record 4 of Set 1 | mataura\n",
      "Processing Record 5 of Set 1 | san patricio\n",
      "Processing Record 6 of Set 1 | kodiak\n",
      "Processing Record 7 of Set 1 | lloydminster\n",
      "Processing Record 8 of Set 1 | busselton\n",
      "Processing Record 9 of Set 1 | hobart\n",
      "Processing Record 10 of Set 1 | kushiro\n",
      "Processing Record 11 of Set 1 | ales\n",
      "Processing Record 12 of Set 1 | new norfolk\n",
      "Processing Record 13 of Set 1 | edd\n",
      "Processing Record 14 of Set 1 | harlingen\n",
      "Processing Record 15 of Set 1 | americus\n",
      "Processing Record 16 of Set 1 | bluff\n",
      "Processing Record 17 of Set 1 | saleaula\n",
      "City not found. Skipping ...\n",
      "Processing Record 18 of Set 1 | jumla\n",
      "Processing Record 19 of Set 1 | ushuaia\n",
      "Processing Record 20 of Set 1 | bambous virieux\n",
      "Processing Record 21 of Set 1 | qaanaaq\n",
      "Processing Record 22 of Set 1 | punta arenas\n",
      "Processing Record 23 of Set 1 | atuona\n",
      "Processing Record 24 of Set 1 | fevralsk\n",
      "City not found. Skipping ...\n",
      "Processing Record 25 of Set 1 | jamestown\n",
      "Processing Record 26 of Set 1 | amderma\n",
      "City not found. Skipping ...\n",
      "Processing Record 27 of Set 1 | zaozerne\n",
      "Processing Record 28 of Set 1 | egvekinot\n",
      "Processing Record 29 of Set 1 | cape town\n",
      "Processing Record 30 of Set 1 | rikitea\n",
      "Processing Record 31 of Set 1 | dingle\n",
      "Processing Record 32 of Set 1 | barranca\n",
      "Processing Record 33 of Set 1 | taolanaro\n",
      "City not found. Skipping ...\n",
      "Processing Record 34 of Set 1 | avarua\n",
      "Processing Record 35 of Set 1 | bredasdorp\n",
      "Processing Record 36 of Set 1 | drayton valley\n",
      "Processing Record 37 of Set 1 | iqaluit\n",
      "Processing Record 38 of Set 1 | sao joao da barra\n",
      "Processing Record 39 of Set 1 | dikson\n",
      "Processing Record 40 of Set 1 | mitsamiouli\n",
      "Processing Record 41 of Set 1 | clyde river\n",
      "Processing Record 42 of Set 1 | ossora\n",
      "Processing Record 43 of Set 1 | ippy\n",
      "Processing Record 44 of Set 1 | strezhevoy\n",
      "Processing Record 45 of Set 1 | kapaa\n",
      "Processing Record 46 of Set 1 | elizabeth city\n",
      "Processing Record 47 of Set 1 | tsihombe\n",
      "City not found. Skipping ...\n",
      "Processing Record 48 of Set 1 | codrington\n",
      "Processing Record 49 of Set 1 | kruisfontein\n",
      "Processing Record 50 of Set 1 | hamilton\n",
      "Processing Record 0 of Set 2 | esperance\n",
      "Processing Record 1 of Set 2 | ahuimanu\n",
      "Processing Record 2 of Set 2 | upernavik\n",
      "Processing Record 3 of Set 2 | meulaboh\n",
      "Processing Record 4 of Set 2 | lebanon\n",
      "Processing Record 5 of Set 2 | puerto ayora\n",
      "Processing Record 6 of Set 2 | thompson\n",
      "Processing Record 7 of Set 2 | yulara\n",
      "Processing Record 8 of Set 2 | comodoro rivadavia\n",
      "Processing Record 9 of Set 2 | loviisa\n",
      "Processing Record 10 of Set 2 | marzuq\n",
      "Processing Record 11 of Set 2 | nikolskoye\n",
      "Processing Record 12 of Set 2 | sao sebastiao\n",
      "Processing Record 13 of Set 2 | ibimirim\n",
      "Processing Record 14 of Set 2 | novobiryusinskiy\n",
      "Processing Record 15 of Set 2 | shenjiamen\n",
      "Processing Record 16 of Set 2 | jucas\n",
      "Processing Record 17 of Set 2 | nyurba\n",
      "Processing Record 18 of Set 2 | mehamn\n",
      "Processing Record 19 of Set 2 | san luis\n",
      "Processing Record 20 of Set 2 | lolua\n",
      "City not found. Skipping ...\n",
      "Processing Record 21 of Set 2 | salinas\n",
      "Processing Record 22 of Set 2 | tuktoyaktuk\n",
      "Processing Record 23 of Set 2 | carnarvon\n",
      "Processing Record 24 of Set 2 | east london\n",
      "Processing Record 25 of Set 2 | albany\n",
      "Processing Record 26 of Set 2 | leningradskiy\n",
      "Processing Record 27 of Set 2 | berlevag\n",
      "Processing Record 28 of Set 2 | dinsor\n",
      "City not found. Skipping ...\n",
      "Processing Record 29 of Set 2 | makakilo city\n",
      "Processing Record 30 of Set 2 | victoria\n",
      "Processing Record 31 of Set 2 | vaini\n",
      "Processing Record 32 of Set 2 | barrow\n",
      "Processing Record 33 of Set 2 | xiongzhou\n",
      "Processing Record 34 of Set 2 | vostok\n",
      "Processing Record 35 of Set 2 | saint-philippe\n",
      "Processing Record 36 of Set 2 | mahebourg\n",
      "Processing Record 37 of Set 2 | kahului\n",
      "Processing Record 38 of Set 2 | palabuhanratu\n",
      "City not found. Skipping ...\n",
      "Processing Record 39 of Set 2 | moranbah\n",
      "Processing Record 40 of Set 2 | yellowknife\n",
      "Processing Record 41 of Set 2 | nemuro\n",
      "Processing Record 42 of Set 2 | bressanone\n",
      "Processing Record 43 of Set 2 | roald\n",
      "Processing Record 44 of Set 2 | schattdorf\n",
      "Processing Record 45 of Set 2 | krasnoselkup\n",
      "Processing Record 46 of Set 2 | kavieng\n",
      "Processing Record 47 of Set 2 | hilo\n",
      "Processing Record 48 of Set 2 | sao jose da coroa grande\n",
      "Processing Record 49 of Set 2 | tumannyy\n",
      "City not found. Skipping ...\n",
      "Processing Record 0 of Set 3 | kaseda\n",
      "Processing Record 1 of Set 3 | chapayevka\n",
      "Processing Record 2 of Set 3 | champerico\n",
      "Processing Record 3 of Set 3 | awjilah\n",
      "Processing Record 4 of Set 3 | pimentel\n",
      "Processing Record 5 of Set 3 | workington\n",
      "Processing Record 6 of Set 3 | klaksvik\n",
      "Processing Record 7 of Set 3 | cabo san lucas\n",
      "Processing Record 8 of Set 3 | libertador general san martin\n",
      "Processing Record 9 of Set 3 | eureka\n",
      "Processing Record 10 of Set 3 | port elizabeth\n",
      "Processing Record 11 of Set 3 | santa rosa\n",
      "Processing Record 12 of Set 3 | pedernales\n",
      "Processing Record 13 of Set 3 | yanam\n",
      "Processing Record 14 of Set 3 | amarpatan\n",
      "Processing Record 15 of Set 3 | macenta\n",
      "Processing Record 16 of Set 3 | butaritari\n",
      "Processing Record 17 of Set 3 | sur\n",
      "Processing Record 18 of Set 3 | tiksi\n",
      "Processing Record 19 of Set 3 | ancud\n",
      "Processing Record 20 of Set 3 | husavik\n",
      "Processing Record 21 of Set 3 | carbonia\n",
      "Processing Record 22 of Set 3 | taoudenni\n",
      "Processing Record 23 of Set 3 | barentsburg\n",
      "City not found. Skipping ...\n",
      "Processing Record 24 of Set 3 | verkhoyansk\n",
      "Processing Record 25 of Set 3 | moerai\n",
      "Processing Record 26 of Set 3 | norman wells\n",
      "Processing Record 27 of Set 3 | pevek\n",
      "Processing Record 28 of Set 3 | doctor pedro p. pena\n",
      "City not found. Skipping ...\n",
      "Processing Record 29 of Set 3 | kavaratti\n",
      "Processing Record 30 of Set 3 | annau\n",
      "Processing Record 31 of Set 3 | hualmay\n",
      "Processing Record 32 of Set 3 | sentyabrskiy\n",
      "City not found. Skipping ...\n",
      "Processing Record 33 of Set 3 | severo-kurilsk\n",
      "Processing Record 34 of Set 3 | bontang\n",
      "Processing Record 35 of Set 3 | half moon bay\n",
      "Processing Record 36 of Set 3 | touros\n",
      "Processing Record 37 of Set 3 | tasiilaq\n",
      "Processing Record 38 of Set 3 | biloela\n",
      "Processing Record 39 of Set 3 | namatanai\n",
      "Processing Record 40 of Set 3 | strelka\n",
      "Processing Record 41 of Set 3 | cascais\n",
      "Processing Record 42 of Set 3 | hit\n",
      "Processing Record 43 of Set 3 | lebu\n",
      "Processing Record 44 of Set 3 | fort-shevchenko\n",
      "Processing Record 45 of Set 3 | lagoa\n",
      "Processing Record 46 of Set 3 | darhan\n",
      "Processing Record 47 of Set 3 | kangaba\n",
      "Processing Record 48 of Set 3 | havelock\n",
      "Processing Record 49 of Set 3 | chupei\n",
      "City not found. Skipping ...\n",
      "Processing Record 0 of Set 4 | ryotsu\n",
      "Processing Record 1 of Set 4 | longyearbyen\n",
      "Processing Record 2 of Set 4 | bolungarvik\n",
      "City not found. Skipping ...\n",
      "Processing Record 3 of Set 4 | santa cruz del sur\n",
      "Processing Record 4 of Set 4 | dunedin\n",
      "Processing Record 5 of Set 4 | souillac\n",
      "Processing Record 6 of Set 4 | port lincoln\n",
      "Processing Record 7 of Set 4 | hermanus\n",
      "Processing Record 8 of Set 4 | atar\n",
      "Processing Record 9 of Set 4 | chilchota\n",
      "Processing Record 10 of Set 4 | progreso\n",
      "Processing Record 11 of Set 4 | cockburn town\n",
      "Processing Record 12 of Set 4 | deoband\n",
      "Processing Record 13 of Set 4 | saskylakh\n",
      "Processing Record 14 of Set 4 | kabanjahe\n",
      "Processing Record 15 of Set 4 | lorengau\n",
      "Processing Record 16 of Set 4 | abalak\n",
      "Processing Record 17 of Set 4 | verkhnyaya toyma\n",
      "Processing Record 18 of Set 4 | chore\n",
      "City not found. Skipping ...\n",
      "Processing Record 19 of Set 4 | sao filipe\n",
      "Processing Record 20 of Set 4 | ballina\n",
      "Processing Record 21 of Set 4 | okakarara\n",
      "Processing Record 22 of Set 4 | sioux lookout\n",
      "Processing Record 23 of Set 4 | nicoya\n",
      "Processing Record 24 of Set 4 | illoqqortoormiut\n",
      "City not found. Skipping ...\n",
      "Processing Record 25 of Set 4 | khormuj\n",
      "City not found. Skipping ...\n",
      "Processing Record 26 of Set 4 | benguela\n",
      "Processing Record 27 of Set 4 | jos\n",
      "Processing Record 28 of Set 4 | airai\n",
      "Processing Record 29 of Set 4 | pyaozerskiy\n",
      "Processing Record 30 of Set 4 | rehoboth\n",
      "Processing Record 31 of Set 4 | khonsa\n",
      "Processing Record 32 of Set 4 | lavrentiya\n",
      "Processing Record 33 of Set 4 | chuy\n"
     ]
    },
    {
     "name": "stdout",
     "output_type": "stream",
     "text": [
      "Processing Record 34 of Set 4 | mandera\n",
      "Processing Record 35 of Set 4 | tuatapere\n",
      "Processing Record 36 of Set 4 | provideniya\n",
      "Processing Record 37 of Set 4 | jalu\n",
      "Processing Record 38 of Set 4 | maarianhamina\n",
      "Processing Record 39 of Set 4 | lipari\n",
      "Processing Record 40 of Set 4 | dumai\n",
      "Processing Record 41 of Set 4 | mar del plata\n",
      "Processing Record 42 of Set 4 | kleive\n",
      "Processing Record 43 of Set 4 | ocos\n",
      "Processing Record 44 of Set 4 | cagayan de tawi-tawi\n",
      "City not found. Skipping ...\n",
      "Processing Record 45 of Set 4 | burnie\n",
      "Processing Record 46 of Set 4 | saint-pierre\n",
      "Processing Record 47 of Set 4 | arona\n",
      "Processing Record 48 of Set 4 | bogovarovo\n",
      "Processing Record 49 of Set 4 | coquimbo\n",
      "Processing Record 0 of Set 5 | tsumeb\n",
      "Processing Record 1 of Set 5 | guerrero negro\n",
      "Processing Record 2 of Set 5 | hanstholm\n",
      "Processing Record 3 of Set 5 | lata\n",
      "Processing Record 4 of Set 5 | bathsheba\n",
      "Processing Record 5 of Set 5 | samoylovka\n",
      "Processing Record 6 of Set 5 | chokurdakh\n",
      "Processing Record 7 of Set 5 | arraial do cabo\n",
      "Processing Record 8 of Set 5 | georgetown\n",
      "Processing Record 9 of Set 5 | naftah\n",
      "City not found. Skipping ...\n",
      "Processing Record 10 of Set 5 | banda aceh\n",
      "Processing Record 11 of Set 5 | mahajanga\n",
      "Processing Record 12 of Set 5 | mackay\n",
      "Processing Record 13 of Set 5 | jacareacanga\n",
      "Processing Record 14 of Set 5 | paamiut\n",
      "Processing Record 15 of Set 5 | codajas\n",
      "Processing Record 16 of Set 5 | hay river\n",
      "Processing Record 17 of Set 5 | wright\n",
      "Processing Record 18 of Set 5 | willmar\n",
      "Processing Record 19 of Set 5 | sergeyevka\n",
      "Processing Record 20 of Set 5 | mattru\n",
      "Processing Record 21 of Set 5 | san quintin\n",
      "Processing Record 22 of Set 5 | labutta\n",
      "City not found. Skipping ...\n",
      "Processing Record 23 of Set 5 | san cristobal\n",
      "Processing Record 24 of Set 5 | chapais\n",
      "Processing Record 25 of Set 5 | saint-amand-les-eaux\n",
      "Processing Record 26 of Set 5 | inhambane\n",
      "Processing Record 27 of Set 5 | brae\n",
      "Processing Record 28 of Set 5 | kolyvan\n",
      "Processing Record 29 of Set 5 | ust-nera\n",
      "Processing Record 30 of Set 5 | abu samrah\n",
      "Processing Record 31 of Set 5 | mys shmidta\n",
      "City not found. Skipping ...\n",
      "Processing Record 32 of Set 5 | taketa\n",
      "Processing Record 33 of Set 5 | ust-ilimsk\n",
      "Processing Record 34 of Set 5 | scarborough\n",
      "Processing Record 35 of Set 5 | castro\n",
      "Processing Record 36 of Set 5 | terrace\n",
      "Processing Record 37 of Set 5 | olafsvik\n",
      "Processing Record 38 of Set 5 | port hedland\n",
      "Processing Record 39 of Set 5 | kangaatsiaq\n",
      "Processing Record 40 of Set 5 | samusu\n",
      "City not found. Skipping ...\n",
      "Processing Record 41 of Set 5 | trapani\n",
      "Processing Record 42 of Set 5 | eskil\n",
      "Processing Record 43 of Set 5 | bela\n",
      "Processing Record 44 of Set 5 | damietta\n",
      "Processing Record 45 of Set 5 | jidvei\n",
      "Processing Record 46 of Set 5 | bur gabo\n",
      "City not found. Skipping ...\n",
      "Processing Record 47 of Set 5 | urazovka\n",
      "Processing Record 48 of Set 5 | hanzhong\n",
      "Processing Record 49 of Set 5 | mount isa\n",
      "Processing Record 0 of Set 6 | healdsburg\n",
      "Processing Record 1 of Set 6 | ribeira grande\n",
      "Processing Record 2 of Set 6 | alofi\n",
      "Processing Record 3 of Set 6 | lingao\n",
      "Processing Record 4 of Set 6 | caravelas\n",
      "Processing Record 5 of Set 6 | sikea\n",
      "City not found. Skipping ...\n",
      "Processing Record 6 of Set 6 | joensuu\n",
      "Processing Record 7 of Set 6 | ponta do sol\n",
      "Processing Record 8 of Set 6 | najran\n",
      "Processing Record 9 of Set 6 | yerbogachen\n",
      "Processing Record 10 of Set 6 | ellisras\n",
      "Processing Record 11 of Set 6 | burica\n",
      "City not found. Skipping ...\n",
      "Processing Record 12 of Set 6 | vao\n",
      "Processing Record 13 of Set 6 | nguiu\n",
      "City not found. Skipping ...\n",
      "Processing Record 14 of Set 6 | harper\n",
      "Processing Record 15 of Set 6 | atkinson\n",
      "Processing Record 16 of Set 6 | bethel\n",
      "Processing Record 17 of Set 6 | blagoyevo\n",
      "Processing Record 18 of Set 6 | yar-sale\n",
      "Processing Record 19 of Set 6 | bahia blanca\n",
      "Processing Record 20 of Set 6 | lasa\n",
      "Processing Record 21 of Set 6 | ternate\n",
      "Processing Record 22 of Set 6 | vangaindrano\n",
      "Processing Record 23 of Set 6 | severo-yeniseyskiy\n",
      "Processing Record 24 of Set 6 | buraydah\n",
      "Processing Record 25 of Set 6 | attawapiskat\n",
      "City not found. Skipping ...\n",
      "Processing Record 26 of Set 6 | den helder\n",
      "Processing Record 27 of Set 6 | tidore\n",
      "City not found. Skipping ...\n",
      "Processing Record 28 of Set 6 | port alfred\n",
      "Processing Record 29 of Set 6 | balclutha\n",
      "Processing Record 30 of Set 6 | muros\n",
      "Processing Record 31 of Set 6 | biak\n",
      "Processing Record 32 of Set 6 | ishigaki\n",
      "Processing Record 33 of Set 6 | belushya guba\n",
      "City not found. Skipping ...\n",
      "Processing Record 34 of Set 6 | khandagayty\n",
      "Processing Record 35 of Set 6 | kingman\n",
      "Processing Record 36 of Set 6 | broome\n",
      "Processing Record 37 of Set 6 | linhares\n",
      "Processing Record 38 of Set 6 | omboue\n",
      "Processing Record 39 of Set 6 | champasak\n",
      "Processing Record 40 of Set 6 | hamina\n",
      "Processing Record 41 of Set 6 | chumikan\n",
      "Processing Record 42 of Set 6 | ngunguru\n",
      "Processing Record 43 of Set 6 | grimari\n",
      "City not found. Skipping ...\n",
      "Processing Record 44 of Set 6 | yugo-kamskiy\n",
      "Processing Record 45 of Set 6 | cedar city\n",
      "Processing Record 46 of Set 6 | huangmei\n",
      "Processing Record 47 of Set 6 | trincomalee\n",
      "Processing Record 48 of Set 6 | torbay\n",
      "Processing Record 49 of Set 6 | saldanha\n",
      "Processing Record 0 of Set 7 | ahipara\n",
      "Processing Record 1 of Set 7 | barcelos\n",
      "Processing Record 2 of Set 7 | maldonado\n",
      "Processing Record 3 of Set 7 | bambanglipuro\n",
      "Processing Record 4 of Set 7 | longhua\n",
      "Processing Record 5 of Set 7 | narsaq\n",
      "Processing Record 6 of Set 7 | general roca\n",
      "Processing Record 7 of Set 7 | tocopilla\n",
      "Processing Record 8 of Set 7 | balabac\n",
      "Processing Record 9 of Set 7 | hami\n",
      "Processing Record 10 of Set 7 | dhamtari\n",
      "Processing Record 11 of Set 7 | aksarayskiy\n",
      "Processing Record 12 of Set 7 | butterworth\n",
      "Processing Record 13 of Set 7 | kulu\n",
      "Processing Record 14 of Set 7 | puerto el triunfo\n",
      "Processing Record 15 of Set 7 | la seyne-sur-mer\n",
      "Processing Record 16 of Set 7 | cherskiy\n",
      "Processing Record 17 of Set 7 | hasaki\n",
      "Processing Record 18 of Set 7 | rognan\n",
      "Processing Record 19 of Set 7 | manavgat\n",
      "Processing Record 20 of Set 7 | port pirie\n",
      "Processing Record 21 of Set 7 | nyrob\n",
      "Processing Record 22 of Set 7 | kiama\n",
      "Processing Record 23 of Set 7 | dianopolis\n",
      "City not found. Skipping ...\n",
      "Processing Record 24 of Set 7 | karimganj\n",
      "Processing Record 25 of Set 7 | lompoc\n",
      "Processing Record 26 of Set 7 | zlatoustovsk\n",
      "City not found. Skipping ...\n",
      "Processing Record 27 of Set 7 | khatanga\n",
      "Processing Record 28 of Set 7 | stromness\n",
      "Processing Record 29 of Set 7 | naliya\n",
      "Processing Record 30 of Set 7 | oneonta\n",
      "Processing Record 31 of Set 7 | taltal\n",
      "Processing Record 32 of Set 7 | kostino\n",
      "Processing Record 33 of Set 7 | mount gambier\n",
      "Processing Record 34 of Set 7 | dujuma\n",
      "City not found. Skipping ...\n",
      "Processing Record 35 of Set 7 | ust-tsilma\n",
      "Processing Record 36 of Set 7 | mengcheng\n",
      "Processing Record 37 of Set 7 | vaitupu\n",
      "City not found. Skipping ...\n",
      "Processing Record 38 of Set 7 | poum\n",
      "Processing Record 39 of Set 7 | concordia\n",
      "Processing Record 40 of Set 7 | north bend\n",
      "Processing Record 41 of Set 7 | ostersund\n",
      "Processing Record 42 of Set 7 | katsuura\n",
      "Processing Record 43 of Set 7 | flin flon\n",
      "Processing Record 44 of Set 7 | marawi\n",
      "Processing Record 45 of Set 7 | sogne\n",
      "Processing Record 46 of Set 7 | kohtla-jarve\n",
      "Processing Record 47 of Set 7 | mayumba\n",
      "Processing Record 48 of Set 7 | komsomolskiy\n",
      "Processing Record 49 of Set 7 | rio grande\n",
      "Processing Record 0 of Set 8 | naze\n",
      "Processing Record 1 of Set 8 | hithadhoo\n",
      "Processing Record 2 of Set 8 | tessalit\n",
      "Processing Record 3 of Set 8 | motupe\n",
      "Processing Record 4 of Set 8 | bijie\n",
      "Processing Record 5 of Set 8 | santa cruz de la palma\n",
      "Processing Record 6 of Set 8 | la asuncion\n",
      "Processing Record 7 of Set 8 | moussoro\n",
      "Processing Record 8 of Set 8 | chillicothe\n",
      "Processing Record 9 of Set 8 | quebo\n",
      "Processing Record 10 of Set 8 | zhanatas\n",
      "City not found. Skipping ...\n",
      "Processing Record 11 of Set 8 | kedrovyy\n",
      "Processing Record 12 of Set 8 | voyvozh\n",
      "Processing Record 13 of Set 8 | meghradzor\n",
      "Processing Record 14 of Set 8 | myingyan\n",
      "Processing Record 15 of Set 8 | ribnitz-damgarten\n",
      "Processing Record 16 of Set 8 | northam\n",
      "Processing Record 17 of Set 8 | turayf\n",
      "Processing Record 18 of Set 8 | richards bay\n",
      "Processing Record 19 of Set 8 | labuhan\n"
     ]
    },
    {
     "name": "stdout",
     "output_type": "stream",
     "text": [
      "Processing Record 20 of Set 8 | barpathar\n",
      "Processing Record 21 of Set 8 | zhigalovo\n",
      "Processing Record 22 of Set 8 | vila franca do campo\n",
      "Processing Record 23 of Set 8 | nara\n",
      "Processing Record 24 of Set 8 | fulitun\n",
      "City not found. Skipping ...\n",
      "Processing Record 25 of Set 8 | boyolangu\n",
      "Processing Record 26 of Set 8 | rincon\n",
      "Processing Record 27 of Set 8 | isangel\n",
      "Processing Record 28 of Set 8 | lizzano\n",
      "Processing Record 29 of Set 8 | jiddah\n",
      "City not found. Skipping ...\n",
      "Processing Record 30 of Set 8 | aksu\n",
      "Processing Record 31 of Set 8 | gravdal\n",
      "Processing Record 32 of Set 8 | ayolas\n",
      "Processing Record 33 of Set 8 | bengkulu\n",
      "Processing Record 34 of Set 8 | miajadas\n",
      "Processing Record 35 of Set 8 | chambishi\n",
      "Processing Record 36 of Set 8 | lakes entrance\n",
      "Processing Record 37 of Set 8 | aasiaat\n",
      "Processing Record 38 of Set 8 | luderitz\n",
      "Processing Record 39 of Set 8 | college\n",
      "Processing Record 40 of Set 8 | semnan\n",
      "Processing Record 41 of Set 8 | karaul\n",
      "City not found. Skipping ...\n",
      "Processing Record 42 of Set 8 | mitu\n",
      "Processing Record 43 of Set 8 | sinazongwe\n",
      "Processing Record 44 of Set 8 | macklin\n",
      "Processing Record 45 of Set 8 | ewo\n",
      "Processing Record 46 of Set 8 | saint george\n",
      "Processing Record 47 of Set 8 | george\n",
      "Processing Record 48 of Set 8 | pemba\n",
      "Processing Record 49 of Set 8 | srednekolymsk\n",
      "Processing Record 0 of Set 9 | solsvik\n",
      "City not found. Skipping ...\n",
      "Processing Record 1 of Set 9 | rawson\n",
      "Processing Record 2 of Set 9 | letlhakeng\n",
      "Processing Record 3 of Set 9 | nelson bay\n",
      "Processing Record 4 of Set 9 | auki\n",
      "Processing Record 5 of Set 9 | kaitangata\n",
      "Processing Record 6 of Set 9 | perth\n",
      "Processing Record 7 of Set 9 | umm durman\n",
      "City not found. Skipping ...\n",
      "Processing Record 8 of Set 9 | sandakan\n",
      "Processing Record 9 of Set 9 | formoso do araguaia\n",
      "City not found. Skipping ...\n",
      "Processing Record 10 of Set 9 | shihezi\n",
      "Processing Record 11 of Set 9 | shiyan\n",
      "Processing Record 12 of Set 9 | orange\n",
      "Processing Record 13 of Set 9 | fatehpur\n",
      "Processing Record 14 of Set 9 | warqla\n",
      "City not found. Skipping ...\n",
      "Processing Record 15 of Set 9 | sayat\n",
      "Processing Record 16 of Set 9 | kerki\n",
      "City not found. Skipping ...\n",
      "Processing Record 17 of Set 9 | waddan\n",
      "Processing Record 18 of Set 9 | colomi\n",
      "Processing Record 19 of Set 9 | adrar\n",
      "Processing Record 20 of Set 9 | cartagena\n",
      "Processing Record 21 of Set 9 | rungata\n",
      "City not found. Skipping ...\n",
      "Processing Record 22 of Set 9 | kuusamo\n",
      "Processing Record 23 of Set 9 | snezhnogorsk\n",
      "Processing Record 24 of Set 9 | turukhansk\n",
      "Processing Record 25 of Set 9 | xinyu\n",
      "Processing Record 26 of Set 9 | anda\n",
      "Processing Record 27 of Set 9 | san vicente\n",
      "Processing Record 28 of Set 9 | namibe\n",
      "Processing Record 29 of Set 9 | hervey bay\n",
      "Processing Record 30 of Set 9 | nouadhibou\n",
      "Processing Record 31 of Set 9 | pizhma\n",
      "Processing Record 32 of Set 9 | alim\n",
      "Processing Record 33 of Set 9 | oksfjord\n",
      "Processing Record 34 of Set 9 | geylegphug\n",
      "City not found. Skipping ...\n",
      "Processing Record 35 of Set 9 | ilhabela\n",
      "Processing Record 36 of Set 9 | folldal\n",
      "Processing Record 37 of Set 9 | tigil\n",
      "Processing Record 38 of Set 9 | temaraia\n",
      "City not found. Skipping ...\n",
      "Processing Record 39 of Set 9 | kuche\n",
      "City not found. Skipping ...\n",
      "Processing Record 40 of Set 9 | nizwa\n",
      "Processing Record 41 of Set 9 | schladming\n",
      "Processing Record 42 of Set 9 | sabang\n",
      "Processing Record 43 of Set 9 | natal\n",
      "Processing Record 44 of Set 9 | mrirt\n",
      "City not found. Skipping ...\n",
      "Processing Record 45 of Set 9 | saint anthony\n",
      "Processing Record 46 of Set 9 | yadgir\n",
      "Processing Record 47 of Set 9 | yuanping\n",
      "Processing Record 48 of Set 9 | carauari\n",
      "Processing Record 49 of Set 9 | agadez\n",
      "Processing Record 0 of Set 10 | vallenar\n",
      "Processing Record 1 of Set 10 | canala\n",
      "Processing Record 2 of Set 10 | palomares\n",
      "Processing Record 3 of Set 10 | ishinomaki\n",
      "Processing Record 4 of Set 10 | alugan\n",
      "Processing Record 5 of Set 10 | bonthe\n",
      "Processing Record 6 of Set 10 | daloa\n",
      "Processing Record 7 of Set 10 | concepcion del uruguay\n",
      "Processing Record 8 of Set 10 | grand river south east\n",
      "City not found. Skipping ...\n",
      "Processing Record 9 of Set 10 | cheyur\n",
      "City not found. Skipping ...\n",
      "Processing Record 10 of Set 10 | talnakh\n",
      "Processing Record 11 of Set 10 | praia da vitoria\n",
      "Processing Record 12 of Set 10 | saint-joseph\n",
      "Processing Record 13 of Set 10 | kayasula\n",
      "Processing Record 14 of Set 10 | dhidhdhoo\n",
      "Processing Record 15 of Set 10 | madisonville\n",
      "Processing Record 16 of Set 10 | manokwari\n",
      "Processing Record 17 of Set 10 | pindiga\n",
      "Processing Record 18 of Set 10 | iracoubo\n",
      "Processing Record 19 of Set 10 | galesong\n",
      "Processing Record 20 of Set 10 | westport\n",
      "Processing Record 21 of Set 10 | batagay-alyta\n",
      "Processing Record 22 of Set 10 | borogontsy\n",
      "Processing Record 23 of Set 10 | fethiye\n",
      "Processing Record 24 of Set 10 | balatonboglar\n",
      "Processing Record 25 of Set 10 | tura\n",
      "Processing Record 26 of Set 10 | vega de alatorre\n",
      "Processing Record 27 of Set 10 | constitucion\n",
      "Processing Record 28 of Set 10 | port blair\n",
      "Processing Record 29 of Set 10 | arriaga\n",
      "Processing Record 30 of Set 10 | paris\n",
      "Processing Record 31 of Set 10 | ostrovnoy\n",
      "Processing Record 32 of Set 10 | nishihara\n",
      "Processing Record 33 of Set 10 | swift current\n",
      "Processing Record 34 of Set 10 | jiwani\n",
      "Processing Record 35 of Set 10 | zapolyarnyy\n",
      "Processing Record 36 of Set 10 | pochutla\n",
      "Processing Record 37 of Set 10 | colesberg\n",
      "Processing Record 38 of Set 10 | potiskum\n",
      "Processing Record 39 of Set 10 | hihifo\n",
      "City not found. Skipping ...\n",
      "Processing Record 40 of Set 10 | three hills\n",
      "Processing Record 41 of Set 10 | grand-santi\n",
      "Processing Record 42 of Set 10 | lichinga\n",
      "Processing Record 43 of Set 10 | joutseno\n",
      "Processing Record 44 of Set 10 | rocha\n",
      "Processing Record 45 of Set 10 | pavelets\n",
      "Processing Record 46 of Set 10 | henties bay\n",
      "Processing Record 47 of Set 10 | umea\n",
      "Processing Record 48 of Set 10 | barra do corda\n",
      "Processing Record 49 of Set 10 | sibolga\n",
      "Processing Record 0 of Set 11 | eenhana\n",
      "Processing Record 1 of Set 11 | sitka\n",
      "Processing Record 2 of Set 11 | la ronge\n",
      "Processing Record 3 of Set 11 | fortuna\n",
      "Processing Record 4 of Set 11 | sorvag\n",
      "City not found. Skipping ...\n",
      "Processing Record 5 of Set 11 | fairbanks\n",
      "Processing Record 6 of Set 11 | salalah\n",
      "Processing Record 7 of Set 11 | alyangula\n",
      "Processing Record 8 of Set 11 | yucca valley\n",
      "Processing Record 9 of Set 11 | faanui\n",
      "Processing Record 10 of Set 11 | eskilstuna\n",
      "Processing Record 11 of Set 11 | wanning\n",
      "Processing Record 12 of Set 11 | yorkton\n",
      "Processing Record 13 of Set 11 | louisbourg\n",
      "City not found. Skipping ...\n",
      "Processing Record 14 of Set 11 | margate\n",
      "Processing Record 15 of Set 11 | ilulissat\n",
      "Processing Record 16 of Set 11 | tazovskiy\n",
      "Processing Record 17 of Set 11 | hayden\n",
      "Processing Record 18 of Set 11 | hofn\n",
      "Processing Record 19 of Set 11 | marcona\n",
      "City not found. Skipping ...\n",
      "Processing Record 20 of Set 11 | mbekenyera\n",
      "Processing Record 21 of Set 11 | faya\n",
      "Processing Record 22 of Set 11 | bosaso\n",
      "Processing Record 23 of Set 11 | haines junction\n",
      "Processing Record 24 of Set 11 | byron bay\n",
      "Processing Record 25 of Set 11 | port macquarie\n",
      "Processing Record 26 of Set 11 | felidhoo\n",
      "City not found. Skipping ...\n",
      "Processing Record 27 of Set 11 | honningsvag\n",
      "Processing Record 28 of Set 11 | ndjole\n",
      "Processing Record 29 of Set 11 | muncar\n",
      "Processing Record 30 of Set 11 | portland\n",
      "Processing Record 31 of Set 11 | agirish\n",
      "Processing Record 32 of Set 11 | jiayuguan\n",
      "Processing Record 33 of Set 11 | nalut\n",
      "Processing Record 34 of Set 11 | ylojarvi\n",
      "Processing Record 35 of Set 11 | baishishan\n",
      "Processing Record 36 of Set 11 | chipinge\n",
      "Processing Record 37 of Set 11 | demba\n",
      "Processing Record 38 of Set 11 | beloha\n",
      "Processing Record 39 of Set 11 | rorvik\n",
      "Processing Record 40 of Set 11 | cayenne\n",
      "Processing Record 41 of Set 11 | tual\n",
      "Processing Record 42 of Set 11 | meyungs\n",
      "City not found. Skipping ...\n",
      "Processing Record 43 of Set 11 | groningen\n",
      "Processing Record 44 of Set 11 | sisimiut\n",
      "Processing Record 45 of Set 11 | galveston\n",
      "Processing Record 46 of Set 11 | dabou\n",
      "Processing Record 47 of Set 11 | medea\n",
      "Processing Record 48 of Set 11 | mugumu\n",
      "Processing Record 49 of Set 11 | avera\n",
      "Processing Record 0 of Set 12 | hovd\n",
      "Processing Record 1 of Set 12 | engels\n",
      "Processing Record 2 of Set 12 | kasama\n",
      "Processing Record 3 of Set 12 | wum\n"
     ]
    },
    {
     "name": "stdout",
     "output_type": "stream",
     "text": [
      "Processing Record 4 of Set 12 | taperoa\n",
      "Processing Record 5 of Set 12 | te anau\n",
      "Processing Record 6 of Set 12 | chunar\n",
      "Processing Record 7 of Set 12 | finnsnes\n",
      "Processing Record 8 of Set 12 | bandarbeyla\n",
      "Processing Record 9 of Set 12 | vila velha\n",
      "Processing Record 10 of Set 12 | calvia\n",
      "Processing Record 11 of Set 12 | salme\n",
      "Processing Record 12 of Set 12 | xichang\n",
      "Processing Record 13 of Set 12 | bafia\n",
      "Processing Record 14 of Set 12 | vardo\n",
      "Processing Record 15 of Set 12 | mahanoro\n",
      "Processing Record 16 of Set 12 | kabare\n",
      "Processing Record 17 of Set 12 | gorontalo\n",
      "Processing Record 18 of Set 12 | arman\n",
      "Processing Record 19 of Set 12 | pacifica\n",
      "Processing Record 20 of Set 12 | kibondo\n",
      "Processing Record 21 of Set 12 | ankazoabo\n",
      "Processing Record 22 of Set 12 | axim\n",
      "Processing Record 23 of Set 12 | muroto\n",
      "Processing Record 24 of Set 12 | linxia\n",
      "Processing Record 25 of Set 12 | prince george\n",
      "Processing Record 26 of Set 12 | tautira\n",
      "Processing Record 27 of Set 12 | padang\n",
      "Processing Record 28 of Set 12 | tsentralnyy\n",
      "City not found. Skipping ...\n",
      "Processing Record 29 of Set 12 | pagudpud\n",
      "Processing Record 30 of Set 12 | hambantota\n",
      "Processing Record 31 of Set 12 | zhigansk\n",
      "Processing Record 32 of Set 12 | kalach-na-donu\n",
      "Processing Record 33 of Set 12 | san policarpo\n",
      "Processing Record 34 of Set 12 | kibaya\n",
      "Processing Record 35 of Set 12 | ewa beach\n",
      "Processing Record 36 of Set 12 | dire\n",
      "Processing Record 37 of Set 12 | ersekvadkert\n",
      "Processing Record 38 of Set 12 | bucerias\n",
      "Processing Record 39 of Set 12 | paita\n",
      "Processing Record 40 of Set 12 | agua verde\n",
      "Processing Record 41 of Set 12 | biltine\n",
      "Processing Record 42 of Set 12 | ayan\n",
      "Processing Record 43 of Set 12 | nanortalik\n",
      "Processing Record 44 of Set 12 | viedma\n",
      "Processing Record 45 of Set 12 | derzhavinsk\n",
      "Processing Record 46 of Set 12 | troitsko-pechorsk\n",
      "Processing Record 47 of Set 12 | havre-saint-pierre\n",
      "Processing Record 48 of Set 12 | suoyarvi\n",
      "Processing Record 49 of Set 12 | olinda\n",
      "Processing Record 0 of Set 13 | lockhart\n",
      "Processing Record 1 of Set 13 | aklavik\n",
      "Processing Record 2 of Set 13 | matara\n",
      "Processing Record 3 of Set 13 | grenaa\n",
      "Processing Record 4 of Set 13 | pali\n",
      "Processing Record 5 of Set 13 | saint joseph\n",
      "Processing Record 6 of Set 13 | ondorhaan\n",
      "City not found. Skipping ...\n",
      "---------------------\n",
      "Data Retrieval Complete\n",
      "---------------------\n"
     ]
    }
   ],
   "source": [
    "url = \"http://api.openweathermap.org/data/2.5/weather?\"\n",
    "\n",
    "query_url = \"http://api.openweathermap.org/data/2.5/weather?units=Imperial&APPID=\" + api_key   \n",
    "\n",
    "city_data = []\n",
    "\n",
    "print(\"Beginning Data Retrieval    \")\n",
    "print(\"----------------------------\")\n",
    "\n",
    "#counters\n",
    "record_num =1\n",
    "set_num = 1\n",
    "\n",
    "for i, city in enumerate(cities):\n",
    "   #create groups of 50\n",
    "    if (i% 50 == 0 and i >= 50):\n",
    "        set_num += 1\n",
    "        record_num = 0\n",
    "        \n",
    "    #url for the loop to run through\n",
    "    city_url = query_url + \"&q=\" + city.replace(\" \", \"+\")\n",
    "    #print(city_url)\n",
    "    \n",
    "    print(\"Processing Record {} of Set {} | {}\".format(record_num, set_num, city))\n",
    "    \n",
    "    #update record_num within the loop\n",
    "    record_num += 1\n",
    "    \n",
    "    #request info on each city\n",
    "    try:\n",
    "        city_response = requests.get(city_url).json()\n",
    "        \n",
    "        #within this response find the data necessary for DataFrame\n",
    "        city_lat = city_response[\"coord\"][\"lat\"]\n",
    "        city_lon = city_response[\"coord\"][\"lon\"]\n",
    "        city_max_temp = city_response[\"main\"][\"temp_max\"]\n",
    "        city_humidity = city_response[\"main\"][\"humidity\"]\n",
    "        city_cloudiness = city_response[\"clouds\"][\"all\"]\n",
    "        city_windspeed = city_response[\"wind\"][\"speed\"]\n",
    "        city_country = city_response[\"sys\"][\"country\"]\n",
    "        city_date = city_response[\"dt\"]\n",
    "        \n",
    "        #append the city info to empty list\n",
    "        city_data.append({\"City\": city,\n",
    "                         \"Lat\": city_lat, \n",
    "                         \"Lng\": city_lon,\n",
    "                         \"Max Temp\": city_max_temp, \n",
    "                         \"Humidity\": city_humidity, \n",
    "                         \"Cloudiness\": city_cloudiness, \n",
    "                         \"Wind Speed\": city_windspeed,\n",
    "                         \"Country\": city_country, \n",
    "                         \"Date\": city_date})\n",
    "    #if no city info is found, skip\n",
    "    except:\n",
    "        print(\"City not found. Skipping ...\")\n",
    "        pass\n",
    "    \n",
    "print(\"---------------------\")\n",
    "print(\"Data Retrieval Complete\")\n",
    "print(\"---------------------\")    \n",
    "\n",
    "\n"
   ]
  },
  {
   "cell_type": "markdown",
   "metadata": {},
   "source": [
    "### Convert Raw Data to DataFrame\n",
    "* Export the city data into a .csv.\n",
    "* Display the DataFrame"
   ]
  },
  {
   "cell_type": "code",
   "execution_count": 5,
   "metadata": {},
   "outputs": [
    {
     "data": {
      "text/html": [
       "<div>\n",
       "<style scoped>\n",
       "    .dataframe tbody tr th:only-of-type {\n",
       "        vertical-align: middle;\n",
       "    }\n",
       "\n",
       "    .dataframe tbody tr th {\n",
       "        vertical-align: top;\n",
       "    }\n",
       "\n",
       "    .dataframe thead th {\n",
       "        text-align: right;\n",
       "    }\n",
       "</style>\n",
       "<table border=\"1\" class=\"dataframe\">\n",
       "  <thead>\n",
       "    <tr style=\"text-align: right;\">\n",
       "      <th></th>\n",
       "      <th>City</th>\n",
       "      <th>Lat</th>\n",
       "      <th>Lng</th>\n",
       "      <th>Max Temp</th>\n",
       "      <th>Humidity</th>\n",
       "      <th>Cloudiness</th>\n",
       "      <th>Wind Speed</th>\n",
       "      <th>Country</th>\n",
       "      <th>Date</th>\n",
       "    </tr>\n",
       "  </thead>\n",
       "  <tbody>\n",
       "    <tr>\n",
       "      <th>0</th>\n",
       "      <td>lamu</td>\n",
       "      <td>-2.2717</td>\n",
       "      <td>40.9020</td>\n",
       "      <td>82.40</td>\n",
       "      <td>89</td>\n",
       "      <td>20</td>\n",
       "      <td>5.75</td>\n",
       "      <td>KE</td>\n",
       "      <td>1618617474</td>\n",
       "    </tr>\n",
       "    <tr>\n",
       "      <th>1</th>\n",
       "      <td>kisangani</td>\n",
       "      <td>0.5167</td>\n",
       "      <td>25.2000</td>\n",
       "      <td>70.12</td>\n",
       "      <td>97</td>\n",
       "      <td>61</td>\n",
       "      <td>2.46</td>\n",
       "      <td>CD</td>\n",
       "      <td>1618617474</td>\n",
       "    </tr>\n",
       "    <tr>\n",
       "      <th>2</th>\n",
       "      <td>mataura</td>\n",
       "      <td>-46.1927</td>\n",
       "      <td>168.8643</td>\n",
       "      <td>52.00</td>\n",
       "      <td>76</td>\n",
       "      <td>82</td>\n",
       "      <td>8.01</td>\n",
       "      <td>NZ</td>\n",
       "      <td>1618617474</td>\n",
       "    </tr>\n",
       "    <tr>\n",
       "      <th>3</th>\n",
       "      <td>san patricio</td>\n",
       "      <td>28.0170</td>\n",
       "      <td>-97.5169</td>\n",
       "      <td>80.01</td>\n",
       "      <td>83</td>\n",
       "      <td>90</td>\n",
       "      <td>6.91</td>\n",
       "      <td>US</td>\n",
       "      <td>1618617475</td>\n",
       "    </tr>\n",
       "    <tr>\n",
       "      <th>4</th>\n",
       "      <td>kodiak</td>\n",
       "      <td>57.7900</td>\n",
       "      <td>-152.4072</td>\n",
       "      <td>46.40</td>\n",
       "      <td>61</td>\n",
       "      <td>75</td>\n",
       "      <td>9.22</td>\n",
       "      <td>US</td>\n",
       "      <td>1618617384</td>\n",
       "    </tr>\n",
       "    <tr>\n",
       "      <th>...</th>\n",
       "      <td>...</td>\n",
       "      <td>...</td>\n",
       "      <td>...</td>\n",
       "      <td>...</td>\n",
       "      <td>...</td>\n",
       "      <td>...</td>\n",
       "      <td>...</td>\n",
       "      <td>...</td>\n",
       "      <td>...</td>\n",
       "    </tr>\n",
       "    <tr>\n",
       "      <th>543</th>\n",
       "      <td>aklavik</td>\n",
       "      <td>68.2191</td>\n",
       "      <td>-135.0107</td>\n",
       "      <td>32.00</td>\n",
       "      <td>51</td>\n",
       "      <td>40</td>\n",
       "      <td>2.30</td>\n",
       "      <td>CA</td>\n",
       "      <td>1618617713</td>\n",
       "    </tr>\n",
       "    <tr>\n",
       "      <th>544</th>\n",
       "      <td>matara</td>\n",
       "      <td>5.9485</td>\n",
       "      <td>80.5353</td>\n",
       "      <td>76.96</td>\n",
       "      <td>88</td>\n",
       "      <td>100</td>\n",
       "      <td>3.58</td>\n",
       "      <td>LK</td>\n",
       "      <td>1618617713</td>\n",
       "    </tr>\n",
       "    <tr>\n",
       "      <th>545</th>\n",
       "      <td>grenaa</td>\n",
       "      <td>56.4158</td>\n",
       "      <td>10.8783</td>\n",
       "      <td>46.99</td>\n",
       "      <td>65</td>\n",
       "      <td>75</td>\n",
       "      <td>4.61</td>\n",
       "      <td>DK</td>\n",
       "      <td>1618617714</td>\n",
       "    </tr>\n",
       "    <tr>\n",
       "      <th>546</th>\n",
       "      <td>pali</td>\n",
       "      <td>25.7667</td>\n",
       "      <td>73.3333</td>\n",
       "      <td>75.56</td>\n",
       "      <td>49</td>\n",
       "      <td>1</td>\n",
       "      <td>2.71</td>\n",
       "      <td>IN</td>\n",
       "      <td>1618617714</td>\n",
       "    </tr>\n",
       "    <tr>\n",
       "      <th>547</th>\n",
       "      <td>saint joseph</td>\n",
       "      <td>39.7686</td>\n",
       "      <td>-94.8466</td>\n",
       "      <td>46.99</td>\n",
       "      <td>76</td>\n",
       "      <td>75</td>\n",
       "      <td>10.36</td>\n",
       "      <td>US</td>\n",
       "      <td>1618617537</td>\n",
       "    </tr>\n",
       "  </tbody>\n",
       "</table>\n",
       "<p>548 rows × 9 columns</p>\n",
       "</div>"
      ],
      "text/plain": [
       "             City      Lat       Lng  Max Temp  Humidity  Cloudiness  \\\n",
       "0            lamu  -2.2717   40.9020     82.40        89          20   \n",
       "1       kisangani   0.5167   25.2000     70.12        97          61   \n",
       "2         mataura -46.1927  168.8643     52.00        76          82   \n",
       "3    san patricio  28.0170  -97.5169     80.01        83          90   \n",
       "4          kodiak  57.7900 -152.4072     46.40        61          75   \n",
       "..            ...      ...       ...       ...       ...         ...   \n",
       "543       aklavik  68.2191 -135.0107     32.00        51          40   \n",
       "544        matara   5.9485   80.5353     76.96        88         100   \n",
       "545        grenaa  56.4158   10.8783     46.99        65          75   \n",
       "546          pali  25.7667   73.3333     75.56        49           1   \n",
       "547  saint joseph  39.7686  -94.8466     46.99        76          75   \n",
       "\n",
       "     Wind Speed Country        Date  \n",
       "0          5.75      KE  1618617474  \n",
       "1          2.46      CD  1618617474  \n",
       "2          8.01      NZ  1618617474  \n",
       "3          6.91      US  1618617475  \n",
       "4          9.22      US  1618617384  \n",
       "..          ...     ...         ...  \n",
       "543        2.30      CA  1618617713  \n",
       "544        3.58      LK  1618617713  \n",
       "545        4.61      DK  1618617714  \n",
       "546        2.71      IN  1618617714  \n",
       "547       10.36      US  1618617537  \n",
       "\n",
       "[548 rows x 9 columns]"
      ]
     },
     "execution_count": 5,
     "metadata": {},
     "output_type": "execute_result"
    }
   ],
   "source": [
    "#city_dict = {'City': city, 'Lat': [lat], 'Lng': lon, 'Max Temp': max_temp, 'Humidity': humidity, 'Cloudiness': cloudiness, 'Wind Speed': windspeed, 'Country': country, 'Date': date}\n",
    "city_df = pd.DataFrame(city_data)\n",
    "city_df"
   ]
  },
  {
   "cell_type": "code",
   "execution_count": 6,
   "metadata": {},
   "outputs": [],
   "source": [
    "city_df.to_csv(\"output.csv\", index=False)"
   ]
  },
  {
   "cell_type": "code",
   "execution_count": 7,
   "metadata": {},
   "outputs": [
    {
     "data": {
      "text/html": [
       "<div>\n",
       "<style scoped>\n",
       "    .dataframe tbody tr th:only-of-type {\n",
       "        vertical-align: middle;\n",
       "    }\n",
       "\n",
       "    .dataframe tbody tr th {\n",
       "        vertical-align: top;\n",
       "    }\n",
       "\n",
       "    .dataframe thead th {\n",
       "        text-align: right;\n",
       "    }\n",
       "</style>\n",
       "<table border=\"1\" class=\"dataframe\">\n",
       "  <thead>\n",
       "    <tr style=\"text-align: right;\">\n",
       "      <th></th>\n",
       "      <th>Lat</th>\n",
       "      <th>Lng</th>\n",
       "      <th>Max Temp</th>\n",
       "      <th>Humidity</th>\n",
       "      <th>Cloudiness</th>\n",
       "      <th>Wind Speed</th>\n",
       "      <th>Date</th>\n",
       "    </tr>\n",
       "  </thead>\n",
       "  <tbody>\n",
       "    <tr>\n",
       "      <th>count</th>\n",
       "      <td>548.000000</td>\n",
       "      <td>548.000000</td>\n",
       "      <td>548.000000</td>\n",
       "      <td>548.000000</td>\n",
       "      <td>548.000000</td>\n",
       "      <td>548.000000</td>\n",
       "      <td>5.480000e+02</td>\n",
       "    </tr>\n",
       "    <tr>\n",
       "      <th>mean</th>\n",
       "      <td>21.078675</td>\n",
       "      <td>18.345321</td>\n",
       "      <td>58.639069</td>\n",
       "      <td>69.678832</td>\n",
       "      <td>52.374088</td>\n",
       "      <td>7.839252</td>\n",
       "      <td>1.618618e+09</td>\n",
       "    </tr>\n",
       "    <tr>\n",
       "      <th>std</th>\n",
       "      <td>33.827035</td>\n",
       "      <td>88.317895</td>\n",
       "      <td>20.834809</td>\n",
       "      <td>22.044805</td>\n",
       "      <td>38.382619</td>\n",
       "      <td>5.888585</td>\n",
       "      <td>9.148155e+01</td>\n",
       "    </tr>\n",
       "    <tr>\n",
       "      <th>min</th>\n",
       "      <td>-54.800000</td>\n",
       "      <td>-179.166700</td>\n",
       "      <td>-14.280000</td>\n",
       "      <td>5.000000</td>\n",
       "      <td>0.000000</td>\n",
       "      <td>0.270000</td>\n",
       "      <td>1.618617e+09</td>\n",
       "    </tr>\n",
       "    <tr>\n",
       "      <th>25%</th>\n",
       "      <td>-5.884225</td>\n",
       "      <td>-56.341175</td>\n",
       "      <td>43.920000</td>\n",
       "      <td>59.000000</td>\n",
       "      <td>13.000000</td>\n",
       "      <td>3.440000</td>\n",
       "      <td>1.618618e+09</td>\n",
       "    </tr>\n",
       "    <tr>\n",
       "      <th>50%</th>\n",
       "      <td>25.643250</td>\n",
       "      <td>22.404800</td>\n",
       "      <td>62.440000</td>\n",
       "      <td>75.000000</td>\n",
       "      <td>61.000000</td>\n",
       "      <td>6.910000</td>\n",
       "      <td>1.618618e+09</td>\n",
       "    </tr>\n",
       "    <tr>\n",
       "      <th>75%</th>\n",
       "      <td>50.324350</td>\n",
       "      <td>93.036000</td>\n",
       "      <td>76.482500</td>\n",
       "      <td>86.000000</td>\n",
       "      <td>90.000000</td>\n",
       "      <td>10.295000</td>\n",
       "      <td>1.618618e+09</td>\n",
       "    </tr>\n",
       "    <tr>\n",
       "      <th>max</th>\n",
       "      <td>78.218600</td>\n",
       "      <td>178.416700</td>\n",
       "      <td>95.000000</td>\n",
       "      <td>100.000000</td>\n",
       "      <td>100.000000</td>\n",
       "      <td>52.300000</td>\n",
       "      <td>1.618618e+09</td>\n",
       "    </tr>\n",
       "  </tbody>\n",
       "</table>\n",
       "</div>"
      ],
      "text/plain": [
       "              Lat         Lng    Max Temp    Humidity  Cloudiness  Wind Speed  \\\n",
       "count  548.000000  548.000000  548.000000  548.000000  548.000000  548.000000   \n",
       "mean    21.078675   18.345321   58.639069   69.678832   52.374088    7.839252   \n",
       "std     33.827035   88.317895   20.834809   22.044805   38.382619    5.888585   \n",
       "min    -54.800000 -179.166700  -14.280000    5.000000    0.000000    0.270000   \n",
       "25%     -5.884225  -56.341175   43.920000   59.000000   13.000000    3.440000   \n",
       "50%     25.643250   22.404800   62.440000   75.000000   61.000000    6.910000   \n",
       "75%     50.324350   93.036000   76.482500   86.000000   90.000000   10.295000   \n",
       "max     78.218600  178.416700   95.000000  100.000000  100.000000   52.300000   \n",
       "\n",
       "               Date  \n",
       "count  5.480000e+02  \n",
       "mean   1.618618e+09  \n",
       "std    9.148155e+01  \n",
       "min    1.618617e+09  \n",
       "25%    1.618618e+09  \n",
       "50%    1.618618e+09  \n",
       "75%    1.618618e+09  \n",
       "max    1.618618e+09  "
      ]
     },
     "execution_count": 7,
     "metadata": {},
     "output_type": "execute_result"
    }
   ],
   "source": [
    "city_df.describe()"
   ]
  },
  {
   "cell_type": "markdown",
   "metadata": {},
   "source": [
    "## Inspect the data and remove the cities where the humidity > 100%.\n",
    "----\n",
    "Skip this step if there are no cities that have humidity > 100%. "
   ]
  },
  {
   "cell_type": "code",
   "execution_count": 8,
   "metadata": {},
   "outputs": [
    {
     "data": {
      "text/plain": [
       "Int64Index([89, 97, 76, 83, 61, 20, 85, 55, 93, 65,\n",
       "            ...\n",
       "            86, 74, 95, 73, 69, 51, 88, 65, 49, 76],\n",
       "           dtype='int64', length=548)"
      ]
     },
     "execution_count": 8,
     "metadata": {},
     "output_type": "execute_result"
    }
   ],
   "source": [
    "#  Get the indices of cities that have humidity over 100%.\n",
    "\n",
    "idx = city_df.index[city_df['Humidity']]\n",
    "idx"
   ]
  },
  {
   "cell_type": "code",
   "execution_count": 9,
   "metadata": {},
   "outputs": [
    {
     "data": {
      "text/html": [
       "<div>\n",
       "<style scoped>\n",
       "    .dataframe tbody tr th:only-of-type {\n",
       "        vertical-align: middle;\n",
       "    }\n",
       "\n",
       "    .dataframe tbody tr th {\n",
       "        vertical-align: top;\n",
       "    }\n",
       "\n",
       "    .dataframe thead th {\n",
       "        text-align: right;\n",
       "    }\n",
       "</style>\n",
       "<table border=\"1\" class=\"dataframe\">\n",
       "  <thead>\n",
       "    <tr style=\"text-align: right;\">\n",
       "      <th></th>\n",
       "      <th>Lat</th>\n",
       "      <th>Lng</th>\n",
       "      <th>Max Temp</th>\n",
       "      <th>Humidity</th>\n",
       "      <th>Cloudiness</th>\n",
       "      <th>Wind Speed</th>\n",
       "      <th>Date</th>\n",
       "    </tr>\n",
       "  </thead>\n",
       "  <tbody>\n",
       "    <tr>\n",
       "      <th>count</th>\n",
       "      <td>548.000000</td>\n",
       "      <td>548.000000</td>\n",
       "      <td>548.000000</td>\n",
       "      <td>548.000000</td>\n",
       "      <td>548.000000</td>\n",
       "      <td>548.000000</td>\n",
       "      <td>5.480000e+02</td>\n",
       "    </tr>\n",
       "    <tr>\n",
       "      <th>mean</th>\n",
       "      <td>21.078675</td>\n",
       "      <td>18.345321</td>\n",
       "      <td>58.639069</td>\n",
       "      <td>69.678832</td>\n",
       "      <td>52.374088</td>\n",
       "      <td>7.839252</td>\n",
       "      <td>1.618618e+09</td>\n",
       "    </tr>\n",
       "    <tr>\n",
       "      <th>std</th>\n",
       "      <td>33.827035</td>\n",
       "      <td>88.317895</td>\n",
       "      <td>20.834809</td>\n",
       "      <td>22.044805</td>\n",
       "      <td>38.382619</td>\n",
       "      <td>5.888585</td>\n",
       "      <td>9.148155e+01</td>\n",
       "    </tr>\n",
       "    <tr>\n",
       "      <th>min</th>\n",
       "      <td>-54.800000</td>\n",
       "      <td>-179.166700</td>\n",
       "      <td>-14.280000</td>\n",
       "      <td>5.000000</td>\n",
       "      <td>0.000000</td>\n",
       "      <td>0.270000</td>\n",
       "      <td>1.618617e+09</td>\n",
       "    </tr>\n",
       "    <tr>\n",
       "      <th>25%</th>\n",
       "      <td>-5.884225</td>\n",
       "      <td>-56.341175</td>\n",
       "      <td>43.920000</td>\n",
       "      <td>59.000000</td>\n",
       "      <td>13.000000</td>\n",
       "      <td>3.440000</td>\n",
       "      <td>1.618618e+09</td>\n",
       "    </tr>\n",
       "    <tr>\n",
       "      <th>50%</th>\n",
       "      <td>25.643250</td>\n",
       "      <td>22.404800</td>\n",
       "      <td>62.440000</td>\n",
       "      <td>75.000000</td>\n",
       "      <td>61.000000</td>\n",
       "      <td>6.910000</td>\n",
       "      <td>1.618618e+09</td>\n",
       "    </tr>\n",
       "    <tr>\n",
       "      <th>75%</th>\n",
       "      <td>50.324350</td>\n",
       "      <td>93.036000</td>\n",
       "      <td>76.482500</td>\n",
       "      <td>86.000000</td>\n",
       "      <td>90.000000</td>\n",
       "      <td>10.295000</td>\n",
       "      <td>1.618618e+09</td>\n",
       "    </tr>\n",
       "    <tr>\n",
       "      <th>max</th>\n",
       "      <td>78.218600</td>\n",
       "      <td>178.416700</td>\n",
       "      <td>95.000000</td>\n",
       "      <td>100.000000</td>\n",
       "      <td>100.000000</td>\n",
       "      <td>52.300000</td>\n",
       "      <td>1.618618e+09</td>\n",
       "    </tr>\n",
       "  </tbody>\n",
       "</table>\n",
       "</div>"
      ],
      "text/plain": [
       "              Lat         Lng    Max Temp    Humidity  Cloudiness  Wind Speed  \\\n",
       "count  548.000000  548.000000  548.000000  548.000000  548.000000  548.000000   \n",
       "mean    21.078675   18.345321   58.639069   69.678832   52.374088    7.839252   \n",
       "std     33.827035   88.317895   20.834809   22.044805   38.382619    5.888585   \n",
       "min    -54.800000 -179.166700  -14.280000    5.000000    0.000000    0.270000   \n",
       "25%     -5.884225  -56.341175   43.920000   59.000000   13.000000    3.440000   \n",
       "50%     25.643250   22.404800   62.440000   75.000000   61.000000    6.910000   \n",
       "75%     50.324350   93.036000   76.482500   86.000000   90.000000   10.295000   \n",
       "max     78.218600  178.416700   95.000000  100.000000  100.000000   52.300000   \n",
       "\n",
       "               Date  \n",
       "count  5.480000e+02  \n",
       "mean   1.618618e+09  \n",
       "std    9.148155e+01  \n",
       "min    1.618617e+09  \n",
       "25%    1.618618e+09  \n",
       "50%    1.618618e+09  \n",
       "75%    1.618618e+09  \n",
       "max    1.618618e+09  "
      ]
     },
     "execution_count": 9,
     "metadata": {},
     "output_type": "execute_result"
    }
   ],
   "source": [
    "\n",
    "new_city_df = city_df.drop(city_df.loc[city_df['Humidity'] > 100].index)\n",
    "new_city_df.describe()"
   ]
  },
  {
   "cell_type": "code",
   "execution_count": null,
   "metadata": {},
   "outputs": [],
   "source": []
  },
  {
   "cell_type": "code",
   "execution_count": 10,
   "metadata": {
    "scrolled": true
   },
   "outputs": [
    {
     "data": {
      "text/html": [
       "<div>\n",
       "<style scoped>\n",
       "    .dataframe tbody tr th:only-of-type {\n",
       "        vertical-align: middle;\n",
       "    }\n",
       "\n",
       "    .dataframe tbody tr th {\n",
       "        vertical-align: top;\n",
       "    }\n",
       "\n",
       "    .dataframe thead th {\n",
       "        text-align: right;\n",
       "    }\n",
       "</style>\n",
       "<table border=\"1\" class=\"dataframe\">\n",
       "  <thead>\n",
       "    <tr style=\"text-align: right;\">\n",
       "      <th></th>\n",
       "      <th>City</th>\n",
       "      <th>Lat</th>\n",
       "      <th>Lng</th>\n",
       "      <th>Max Temp</th>\n",
       "      <th>Humidity</th>\n",
       "      <th>Cloudiness</th>\n",
       "      <th>Wind Speed</th>\n",
       "      <th>Country</th>\n",
       "      <th>Date</th>\n",
       "    </tr>\n",
       "  </thead>\n",
       "  <tbody>\n",
       "    <tr>\n",
       "      <th>0</th>\n",
       "      <td>lamu</td>\n",
       "      <td>-2.2717</td>\n",
       "      <td>40.9020</td>\n",
       "      <td>82.40</td>\n",
       "      <td>89</td>\n",
       "      <td>20</td>\n",
       "      <td>5.75</td>\n",
       "      <td>KE</td>\n",
       "      <td>1618617474</td>\n",
       "    </tr>\n",
       "    <tr>\n",
       "      <th>1</th>\n",
       "      <td>kisangani</td>\n",
       "      <td>0.5167</td>\n",
       "      <td>25.2000</td>\n",
       "      <td>70.12</td>\n",
       "      <td>97</td>\n",
       "      <td>61</td>\n",
       "      <td>2.46</td>\n",
       "      <td>CD</td>\n",
       "      <td>1618617474</td>\n",
       "    </tr>\n",
       "    <tr>\n",
       "      <th>2</th>\n",
       "      <td>mataura</td>\n",
       "      <td>-46.1927</td>\n",
       "      <td>168.8643</td>\n",
       "      <td>52.00</td>\n",
       "      <td>76</td>\n",
       "      <td>82</td>\n",
       "      <td>8.01</td>\n",
       "      <td>NZ</td>\n",
       "      <td>1618617474</td>\n",
       "    </tr>\n",
       "    <tr>\n",
       "      <th>3</th>\n",
       "      <td>san patricio</td>\n",
       "      <td>28.0170</td>\n",
       "      <td>-97.5169</td>\n",
       "      <td>80.01</td>\n",
       "      <td>83</td>\n",
       "      <td>90</td>\n",
       "      <td>6.91</td>\n",
       "      <td>US</td>\n",
       "      <td>1618617475</td>\n",
       "    </tr>\n",
       "    <tr>\n",
       "      <th>4</th>\n",
       "      <td>kodiak</td>\n",
       "      <td>57.7900</td>\n",
       "      <td>-152.4072</td>\n",
       "      <td>46.40</td>\n",
       "      <td>61</td>\n",
       "      <td>75</td>\n",
       "      <td>9.22</td>\n",
       "      <td>US</td>\n",
       "      <td>1618617384</td>\n",
       "    </tr>\n",
       "  </tbody>\n",
       "</table>\n",
       "</div>"
      ],
      "text/plain": [
       "           City      Lat       Lng  Max Temp  Humidity  Cloudiness  \\\n",
       "0          lamu  -2.2717   40.9020     82.40        89          20   \n",
       "1     kisangani   0.5167   25.2000     70.12        97          61   \n",
       "2       mataura -46.1927  168.8643     52.00        76          82   \n",
       "3  san patricio  28.0170  -97.5169     80.01        83          90   \n",
       "4        kodiak  57.7900 -152.4072     46.40        61          75   \n",
       "\n",
       "   Wind Speed Country        Date  \n",
       "0        5.75      KE  1618617474  \n",
       "1        2.46      CD  1618617474  \n",
       "2        8.01      NZ  1618617474  \n",
       "3        6.91      US  1618617475  \n",
       "4        9.22      US  1618617384  "
      ]
     },
     "execution_count": 10,
     "metadata": {},
     "output_type": "execute_result"
    }
   ],
   "source": [
    "# Make a new DataFrame equal to the city data to drop all humidity outliers by index.\n",
    "# Passing \"inplace=False\" will make a copy of the city_data DataFrame, which we call \"clean_city_data\".\n",
    "clean_city_data = city_df.drop(city_df.loc[city_df['Humidity'] > 100].index, inplace=False)\n",
    "clean_city_data.head()\n"
   ]
  },
  {
   "cell_type": "code",
   "execution_count": null,
   "metadata": {},
   "outputs": [],
   "source": []
  },
  {
   "cell_type": "code",
   "execution_count": null,
   "metadata": {},
   "outputs": [],
   "source": [
    "\n"
   ]
  },
  {
   "cell_type": "markdown",
   "metadata": {},
   "source": [
    "## Plotting the Data\n",
    "* Use proper labeling of the plots using plot titles (including date of analysis) and axes labels.\n",
    "* Save the plotted figures as .pngs."
   ]
  },
  {
   "cell_type": "markdown",
   "metadata": {},
   "source": [
    "## Latitude vs. Temperature Plot"
   ]
  },
  {
   "cell_type": "code",
   "execution_count": 11,
   "metadata": {
    "scrolled": true
   },
   "outputs": [
    {
     "data": {
      "image/png": "[encoded data removed]",
      "text/plain": [
       "<Figure size 432x288 with 1 Axes>"
      ]
     },
     "metadata": {
      "needs_background": "light"
     },
     "output_type": "display_data"
    },
    {
     "data": {
      "text/plain": [
       "<Figure size 432x288 with 0 Axes>"
      ]
     },
     "metadata": {},
     "output_type": "display_data"
    }
   ],
   "source": [
    "x_axis = clean_city_data['Lat']\n",
    "temp = clean_city_data['Max Temp']\n",
    "                           \n",
    "plt.scatter(x_axis, temp, marker=\"o\", color='blue', edgecolor='green')\n",
    "plt.xlabel('Latitude')\n",
    "plt.ylabel('Max Temperature (F)')\n",
    "plt.title(\"City Latitude vs. Max Temperature\")\n",
    "plt.show()\n",
    "plt.savefig(\"images/maxtemp.png\")"
   ]
  },
  {
   "cell_type": "markdown",
   "metadata": {},
   "source": [
    "## Latitude vs. Humidity Plot"
   ]
  },
  {
   "cell_type": "code",
   "execution_count": 12,
   "metadata": {},
   "outputs": [
    {
     "data": {
      "image/png": "[encoded data removed]",
      "text/plain": [
       "<Figure size 432x288 with 1 Axes>"
      ]
     },
     "metadata": {
      "needs_background": "light"
     },
     "output_type": "display_data"
    },
    {
     "data": {
      "text/plain": [
       "<Figure size 432x288 with 0 Axes>"
      ]
     },
     "metadata": {},
     "output_type": "display_data"
    }
   ],
   "source": [
    "x_axis = clean_city_data['Lat']\n",
    "y_axis = clean_city_data['Humidity']\n",
    "plt.scatter(x_axis, y_axis, marker=\"o\", color='blue', edgecolor='green')\n",
    "plt.xlabel('Latitude')\n",
    "plt.ylabel('Humidity %')\n",
    "plt.title(\"City Latitude vs. Humidity\")\n",
    "plt.show()\n",
    "plt.savefig(\"images/humidity.png\")"
   ]
  },
  {
   "cell_type": "markdown",
   "metadata": {},
   "source": [
    "## Latitude vs. Cloudiness Plot"
   ]
  },
  {
   "cell_type": "code",
   "execution_count": 13,
   "metadata": {},
   "outputs": [
    {
     "data": {
      "image/png": "[encoded data removed]",
      "text/plain": [
       "<Figure size 432x288 with 1 Axes>"
      ]
     },
     "metadata": {
      "needs_background": "light"
     },
     "output_type": "display_data"
    },
    {
     "data": {
      "text/plain": [
       "<Figure size 432x288 with 0 Axes>"
      ]
     },
     "metadata": {},
     "output_type": "display_data"
    }
   ],
   "source": [
    "x_axis = clean_city_data['Lat']\n",
    "clouds = clean_city_data['Max Temp']\n",
    "plt.scatter(x_axis, clouds, marker=\"o\", color='blue', edgecolor='green')\n",
    "plt.xlabel('Latitude')\n",
    "plt.ylabel('Cloudiness %')\n",
    "plt.title(\"City Latitude vs. Cloudiness\")\n",
    "plt.show()\n",
    "plt.savefig(\"images/cloudiness.png\")"
   ]
  },
  {
   "cell_type": "markdown",
   "metadata": {},
   "source": [
    "## Latitude vs. Wind Speed Plot"
   ]
  },
  {
   "cell_type": "code",
   "execution_count": 14,
   "metadata": {},
   "outputs": [
    {
     "data": {
      "image/png": "[encoded data removed]",
      "text/plain": [
       "<Figure size 432x288 with 1 Axes>"
      ]
     },
     "metadata": {
      "needs_background": "light"
     },
     "output_type": "display_data"
    },
    {
     "data": {
      "text/plain": [
       "<Figure size 432x288 with 0 Axes>"
      ]
     },
     "metadata": {},
     "output_type": "display_data"
    }
   ],
   "source": [
    "x_axis = clean_city_data['Lat']\n",
    "speed = clean_city_data['Wind Speed']\n",
    "plt.scatter(x_axis, speed, marker=\"o\", color='blue', edgecolor='green')\n",
    "plt.xlabel('Latitude')\n",
    "plt.ylabel('Wind Speed (mph)')\n",
    "plt.title(\"City Latitude vs. Wind Speed\")\n",
    "plt.show()\n",
    "plt.savefig(\"images/windspeed.png\")"
   ]
  },
  {
   "cell_type": "markdown",
   "metadata": {},
   "source": [
    "# # Linear Regression"
   ]
  },
  {
   "cell_type": "code",
   "execution_count": 15,
   "metadata": {},
   "outputs": [],
   "source": [
    "#determine the north and south hemisphere to pull data from\n",
    "north_hemisphere = clean_city_data.loc[clean_city_data['Lat'] >= 0]\n",
    "#north_hemisphere\n",
    "south_hemisphere = clean_city_data.loc[clean_city_data['Lat'] < 0]\n",
    "#south_hemisphere"
   ]
  },
  {
   "cell_type": "markdown",
   "metadata": {},
   "source": [
    "####  Northern Hemisphere - Max Temp vs. Latitude Linear Regression"
   ]
  },
  {
   "cell_type": "code",
   "execution_count": 16,
   "metadata": {},
   "outputs": [
    {
     "data": {
      "image/png": "[encoded data removed]",
      "text/plain": [
       "<Figure size 432x288 with 1 Axes>"
      ]
     },
     "metadata": {
      "needs_background": "light"
     },
     "output_type": "display_data"
    },
    {
     "name": "stdout",
     "output_type": "stream",
     "text": [
      "The r-squared value is 0.7689041532959587\n"
     ]
    },
    {
     "data": {
      "text/plain": [
       "<Figure size 432x288 with 0 Axes>"
      ]
     },
     "metadata": {},
     "output_type": "display_data"
    }
   ],
   "source": [
    "x_axis = north_hemisphere['Lat']\n",
    "y_axis = north_hemisphere['Max Temp']\n",
    "(slope, intercept, rvalue, pvalue, stderr) = linregress(x_axis, y_axis)\n",
    "regress_values = x_axis * slope + intercept\n",
    "line_eq = \"y = \" + str(round(slope,2)) + \"x + \" + str(round(intercept,2))\n",
    "plt.scatter(x_axis, y_axis, color='blue', edgecolor='green')\n",
    "plt.xlabel('Latitude')\n",
    "plt.ylabel('Max Temp (F)')\n",
    "plt.title(\"N.Max Temp vs. Latitude Linear Regression\")\n",
    "plt.plot(x_axis,regress_values,\"r--\")\n",
    "plt.annotate(line_eq,(18,36),fontsize=15,color=\"green\")\n",
    "plt.show()\n",
    "print(f\"The r-squared value is {rvalue**2}\")\n",
    "plt.savefig(\"images/n_maxtemp.png\")"
   ]
  },
  {
   "cell_type": "markdown",
   "metadata": {},
   "source": [
    "####  Southern Hemisphere - Max Temp vs. Latitude Linear Regression"
   ]
  },
  {
   "cell_type": "code",
   "execution_count": 17,
   "metadata": {},
   "outputs": [
    {
     "data": {
      "image/png": "[encoded data removed]",
      "text/plain": [
       "<Figure size 432x288 with 1 Axes>"
      ]
     },
     "metadata": {
      "needs_background": "light"
     },
     "output_type": "display_data"
    },
    {
     "name": "stdout",
     "output_type": "stream",
     "text": [
      "The r-squared value is 0.4207232574832617\n"
     ]
    },
    {
     "data": {
      "text/plain": [
       "<Figure size 432x288 with 0 Axes>"
      ]
     },
     "metadata": {},
     "output_type": "display_data"
    }
   ],
   "source": [
    "x_axis = south_hemisphere['Lat']\n",
    "y_axis = south_hemisphere['Max Temp']\n",
    "(slope, intercept, rvalue, pvalue, stderr) = linregress(x_axis, y_axis)\n",
    "regress_values = x_axis * slope + intercept\n",
    "line_eq = \"y = \" + str(round(slope,2)) + \"x + \" + str(round(intercept,2))\n",
    "plt.scatter(x_axis, y_axis, color='blue', edgecolor='green')\n",
    "plt.xlabel('Latitude')\n",
    "plt.ylabel('Max Temp (F)')\n",
    "plt.title(\"S.Max Temp vs. Latitude Linear Regression\")\n",
    "plt.plot(x_axis,regress_values,\"r--\")\n",
    "plt.annotate(line_eq,(18,36),fontsize=15,color=\"green\")\n",
    "plt.show()\n",
    "print(f\"The r-squared value is {rvalue**2}\")\n",
    "plt.savefig(\"images/s_maxtemp.png\")"
   ]
  },
  {
   "cell_type": "markdown",
   "metadata": {},
   "source": [
    "####  Northern Hemisphere - Humidity (%) vs. Latitude Linear Regression"
   ]
  },
  {
   "cell_type": "code",
   "execution_count": 18,
   "metadata": {},
   "outputs": [
    {
     "data": {
      "image/png": "[encoded data removed]",
      "text/plain": [
       "<Figure size 432x288 with 1 Axes>"
      ]
     },
     "metadata": {
      "needs_background": "light"
     },
     "output_type": "display_data"
    },
    {
     "name": "stdout",
     "output_type": "stream",
     "text": [
      "The r-squared value is 0.014949709581897447\n"
     ]
    },
    {
     "data": {
      "text/plain": [
       "<Figure size 432x288 with 0 Axes>"
      ]
     },
     "metadata": {},
     "output_type": "display_data"
    }
   ],
   "source": [
    "x_axis = north_hemisphere['Lat']\n",
    "y_axis = north_hemisphere['Humidity']\n",
    "(slope, intercept, rvalue, pvalue, stderr) = linregress(x_axis, y_axis)\n",
    "regress_values = x_axis * slope + intercept\n",
    "line_eq = \"y = \" + str(round(slope,2)) + \"x + \" + str(round(intercept,2))\n",
    "plt.scatter(x_axis, y_axis, color='blue', edgecolor='green')\n",
    "plt.xlabel('Latitude')\n",
    "plt.ylabel('Humidity %')\n",
    "plt.title(\"N.Humidity vs. Latitude Linear Regression\")\n",
    "plt.plot(x_axis,regress_values,\"r--\")\n",
    "plt.annotate(line_eq,(18,36),fontsize=15,color=\"green\")\n",
    "plt.show()\n",
    "print(f\"The r-squared value is {rvalue**2}\")\n",
    "plt.savefig(\"images/n_humidity.png\")"
   ]
  },
  {
   "cell_type": "markdown",
   "metadata": {},
   "source": [
    "####  Southern Hemisphere - Humidity (%) vs. Latitude Linear Regression"
   ]
  },
  {
   "cell_type": "code",
   "execution_count": 19,
   "metadata": {},
   "outputs": [
    {
     "data": {
      "image/png": "[encoded data removed]",
      "text/plain": [
       "<Figure size 432x288 with 1 Axes>"
      ]
     },
     "metadata": {
      "needs_background": "light"
     },
     "output_type": "display_data"
    },
    {
     "name": "stdout",
     "output_type": "stream",
     "text": [
      "The r-squared value is 0.10229226172014086\n"
     ]
    },
    {
     "data": {
      "text/plain": [
       "<Figure size 432x288 with 0 Axes>"
      ]
     },
     "metadata": {},
     "output_type": "display_data"
    }
   ],
   "source": [
    "x_axis = south_hemisphere['Lat']\n",
    "y_axis = south_hemisphere['Humidity']\n",
    "(slope, intercept, rvalue, pvalue, stderr) = linregress(x_axis, y_axis)\n",
    "regress_values = x_axis * slope + intercept\n",
    "line_eq = \"y = \" + str(round(slope,2)) + \"x + \" + str(round(intercept,2))\n",
    "plt.scatter(x_axis, y_axis, color='blue', edgecolor='green')\n",
    "plt.xlabel('Latitude')\n",
    "plt.ylabel('Humidity %')\n",
    "plt.title(\"S.Humidity vs. Latitude Linear Regression\")\n",
    "plt.plot(x_axis,regress_values,\"r--\")\n",
    "plt.annotate(line_eq,(18,36),fontsize=15,color=\"green\")\n",
    "plt.show()\n",
    "print(f\"The r-squared value is {rvalue**2}\")\n",
    "plt.savefig(\"images/s_humidity.png\")"
   ]
  },
  {
   "cell_type": "markdown",
   "metadata": {},
   "source": [
    "####  Northern Hemisphere - Cloudiness (%) vs. Latitude Linear Regression"
   ]
  },
  {
   "cell_type": "code",
   "execution_count": 20,
   "metadata": {},
   "outputs": [
    {
     "data": {
      "image/png": "[encoded data removed]",
      "text/plain": [
       "<Figure size 432x288 with 1 Axes>"
      ]
     },
     "metadata": {
      "needs_background": "light"
     },
     "output_type": "display_data"
    },
    {
     "name": "stdout",
     "output_type": "stream",
     "text": [
      "The r-squared value is 0.00011150597255349241\n"
     ]
    },
    {
     "data": {
      "text/plain": [
       "<Figure size 432x288 with 0 Axes>"
      ]
     },
     "metadata": {},
     "output_type": "display_data"
    }
   ],
   "source": [
    "x_axis = north_hemisphere['Lat']\n",
    "y_axis = north_hemisphere['Cloudiness']\n",
    "(slope, intercept, rvalue, pvalue, stderr) = linregress(x_axis, y_axis)\n",
    "regress_values = x_axis * slope + intercept\n",
    "line_eq = \"y = \" + str(round(slope,2)) + \"x + \" + str(round(intercept,2))\n",
    "plt.scatter(x_axis, y_axis, color='blue', edgecolor='green')\n",
    "plt.xlabel('Latitude')\n",
    "plt.ylabel('Cloudiness %')\n",
    "plt.title(\"N.Cloudiness vs. Latitude Linear Regression\")\n",
    "plt.plot(x_axis,regress_values,\"r--\")\n",
    "plt.annotate(line_eq,(18,36),fontsize=15,color=\"green\")\n",
    "plt.show()\n",
    "print(f\"The r-squared value is {rvalue**2}\")\n",
    "plt.savefig(\"images/n_cloudines.png\")"
   ]
  },
  {
   "cell_type": "markdown",
   "metadata": {},
   "source": [
    "####  Southern Hemisphere - Cloudiness (%) vs. Latitude Linear Regression"
   ]
  },
  {
   "cell_type": "code",
   "execution_count": 21,
   "metadata": {},
   "outputs": [
    {
     "data": {
      "image/png": "[encoded data removed]",
      "text/plain": [
       "<Figure size 432x288 with 1 Axes>"
      ]
     },
     "metadata": {
      "needs_background": "light"
     },
     "output_type": "display_data"
    },
    {
     "name": "stdout",
     "output_type": "stream",
     "text": [
      "The r-squared value is 0.07429228990823589\n"
     ]
    },
    {
     "data": {
      "text/plain": [
       "<Figure size 432x288 with 0 Axes>"
      ]
     },
     "metadata": {},
     "output_type": "display_data"
    }
   ],
   "source": [
    "x_axis = south_hemisphere['Lat']\n",
    "y_axis = south_hemisphere['Cloudiness']\n",
    "(slope, intercept, rvalue, pvalue, stderr) = linregress(x_axis, y_axis)\n",
    "regress_values = x_axis * slope + intercept\n",
    "line_eq = \"y = \" + str(round(slope,2)) + \"x + \" + str(round(intercept,2))\n",
    "plt.scatter(x_axis, y_axis, color='blue', edgecolor='green')\n",
    "plt.xlabel('Latitude')\n",
    "plt.ylabel('Cloudiness %')\n",
    "plt.title(\"S.Cloudiness vs. Latitude Linear Regression\")\n",
    "plt.plot(x_axis,regress_values,\"r--\")\n",
    "plt.annotate(line_eq,(18,36),fontsize=15,color=\"green\")\n",
    "plt.show()\n",
    "print(f\"The r-squared value is {rvalue**2}\")\n",
    "plt.savefig(\"images/s_cloudiness.png\")"
   ]
  },
  {
   "cell_type": "markdown",
   "metadata": {},
   "source": [
    "####  Northern Hemisphere - Wind Speed (mph) vs. Latitude Linear Regression"
   ]
  },
  {
   "cell_type": "code",
   "execution_count": 22,
   "metadata": {},
   "outputs": [
    {
     "data": {
      "image/png": "[encoded data removed]",
      "text/plain": [
       "<Figure size 432x288 with 1 Axes>"
      ]
     },
     "metadata": {
      "needs_background": "light"
     },
     "output_type": "display_data"
    },
    {
     "name": "stdout",
     "output_type": "stream",
     "text": [
      "The r-squared value is 0.04023051774946007\n"
     ]
    },
    {
     "data": {
      "text/plain": [
       "<Figure size 432x288 with 0 Axes>"
      ]
     },
     "metadata": {},
     "output_type": "display_data"
    }
   ],
   "source": [
    "x_axis = north_hemisphere['Lat']\n",
    "y_axis = north_hemisphere['Wind Speed']\n",
    "(slope, intercept, rvalue, pvalue, stderr) = linregress(x_axis, y_axis)\n",
    "regress_values = x_axis * slope + intercept\n",
    "line_eq = \"y = \" + str(round(slope,2)) + \"x + \" + str(round(intercept,2))\n",
    "plt.scatter(x_axis, y_axis, color='blue', edgecolor='green')\n",
    "plt.xlabel('Latitude')\n",
    "plt.ylabel('Wind Speed(mph)')\n",
    "plt.title(\"N.Wind Speed vs. Latitude Linear Regression\")\n",
    "plt.plot(x_axis,regress_values,\"r--\")\n",
    "plt.annotate(line_eq,(18,36),fontsize=15,color=\"green\")\n",
    "plt.show()\n",
    "print(f\"The r-squared value is {rvalue**2}\")\n",
    "plt.savefig(\"images/n_windspeed.png\")"
   ]
  },
  {
   "cell_type": "markdown",
   "metadata": {},
   "source": [
    "####  Southern Hemisphere - Wind Speed (mph) vs. Latitude Linear Regression"
   ]
  },
  {
   "cell_type": "code",
   "execution_count": 23,
   "metadata": {},
   "outputs": [
    {
     "data": {
      "image/png": "[encoded data removed]",
      "text/plain": [
       "<Figure size 432x288 with 1 Axes>"
      ]
     },
     "metadata": {
      "needs_background": "light"
     },
     "output_type": "display_data"
    },
    {
     "name": "stdout",
     "output_type": "stream",
     "text": [
      "The r-squared value is 0.045449973399407026\n"
     ]
    },
    {
     "data": {
      "text/plain": [
       "<Figure size 432x288 with 0 Axes>"
      ]
     },
     "metadata": {},
     "output_type": "display_data"
    }
   ],
   "source": [
    "x_axis = south_hemisphere['Lat']\n",
    "y_axis = south_hemisphere['Wind Speed']\n",
    "(slope, intercept, rvalue, pvalue, stderr) = linregress(x_axis, y_axis)\n",
    "regress_values = x_axis * slope + intercept\n",
    "line_eq = \"y = \" + str(round(slope,2)) + \"x + \" + str(round(intercept,2))\n",
    "plt.scatter(x_axis, y_axis, color='blue', edgecolor='green')\n",
    "plt.xlabel('Latitude')\n",
    "plt.ylabel('Wind Speed(mph)')\n",
    "plt.title(\"S.Wind Speed vs. Latitude Linear Regression\")\n",
    "plt.plot(x_axis,regress_values,\"r--\")\n",
    "plt.annotate(line_eq,(18,36),fontsize=15,color=\"green\")\n",
    "plt.show()\n",
    "print(f\"The r-squared value is {rvalue**2}\")\n",
    "plt.savefig(\"images/s_windspeed.png\")"
   ]
  },
  {
   "cell_type": "code",
   "execution_count": null,
   "metadata": {},
   "outputs": [],
   "source": []
  },
  {
   "cell_type": "code",
   "execution_count": null,
   "metadata": {},
   "outputs": [],
   "source": []
  }
 ],
 "metadata": {
  "anaconda-cloud": {},
  "kernel_info": {
   "name": "python3"
  },
  "kernelspec": {
   "display_name": "Python 3",
   "language": "python",
   "name": "python3"
  },
  "language_info": {
   "codemirror_mode": {
    "name": "ipython",
    "version": 3
   },
   "file_extension": ".py",
   "mimetype": "text/x-python",
   "name": "python",
   "nbconvert_exporter": "python",
   "pygments_lexer": "ipython3",
   "version": "3.8.5"
  },
  "latex_envs": {
   "LaTeX_envs_menu_present": true,
   "autoclose": false,
   "autocomplete": true,
   "bibliofile": "biblio.bib",
   "cite_by": "apalike",
   "current_citInitial": 1,
   "eqLabelWithNumbers": true,
   "eqNumInitial": 1,
   "hotkeys": {
    "equation": "Ctrl-E",
    "itemize": "Ctrl-I"
   },
   "labels_anchors": false,
   "latex_user_defs": false,
   "report_style_numbering": false,
   "user_envs_cfg": false
  },
  "nteract": {
   "version": "0.12.3"
  }
 },
 "nbformat": 4,
 "nbformat_minor": 2
}
