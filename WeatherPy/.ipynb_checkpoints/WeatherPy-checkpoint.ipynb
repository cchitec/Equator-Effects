{
 "cells": [
  {
   "cell_type": "markdown",
   "metadata": {},
   "source": [
    "# WeatherPy\n",
    "----\n",
    "\n",
    "#### Note\n",
    "* Instructions have been included for each segment. You do not have to follow them exactly, but they are included to help you think through the steps."
   ]
  },
  {
   "cell_type": "markdown",
   "metadata": {},
   "source": [
    "## Generate Cities List"
   ]
  },
  {
   "cell_type": "code",
   "execution_count": 1,
   "metadata": {
    "scrolled": true
   },
   "outputs": [],
   "source": [
    "# Dependencies and Setup\n",
    "import os\n",
    "import matplotlib.pyplot as plt\n",
    "import pandas as pd\n",
    "import numpy as np\n",
    "import requests\n",
    "import time\n",
    "from scipy.stats import linregress\n",
    "import json\n",
    "from pprint import pprint\n",
    "\n",
    "# Import API key\n",
    "from config import api_key\n",
    "\n",
    "# Incorporated citipy to determine city based on latitude and longitude\n",
    "from citipy import citipy\n",
    "\n",
    "# Output File (CSV)\n",
    "output_data_file = \"output_data/cities.csv\"\n",
    "\n",
    "# Range of latitudes and longitudes\n",
    "lat_range = (-90, 90)\n",
    "lng_range = (-180, 180)"
   ]
  },
  {
   "cell_type": "code",
   "execution_count": 2,
   "metadata": {},
   "outputs": [
    {
     "data": {
      "text/plain": [
       "605"
      ]
     },
     "execution_count": 2,
     "metadata": {},
     "output_type": "execute_result"
    }
   ],
   "source": [
    "# List for holding lat_lngs and cities\n",
    "lat_lngs = []\n",
    "cities = []\n",
    "\n",
    "# Create a set of random lat and lng combinations\n",
    "lats = np.random.uniform(lat_range[0], lat_range[1], size=1500)\n",
    "lngs = np.random.uniform(lng_range[0], lng_range[1], size=1500)\n",
    "lat_lngs = zip(lats, lngs)\n",
    "\n",
    "# Identify nearest city for each lat, lng combination\n",
    "for lat_lng in lat_lngs:\n",
    "    city = citipy.nearest_city(lat_lng[0], lat_lng[1]).city_name\n",
    "    \n",
    "    # If the city is unique, then add it to a our cities list\n",
    "    if city not in cities:\n",
    "        cities.append(city)\n",
    "\n",
    "# Print the city count to confirm sufficient count\n",
    "len(cities)\n",
    "#cities"
   ]
  },
  {
   "cell_type": "markdown",
   "metadata": {},
   "source": [
    "### Perform API Calls\n",
    "* Perform a weather check on each city using a series of successive API calls.\n",
    "* Include a print log of each city as it'sbeing processed (with the city number and city name).\n"
   ]
  },
  {
   "cell_type": "code",
   "execution_count": 3,
   "metadata": {},
   "outputs": [],
   "source": [
    "#url = \"http://api.openweathermap.org/data/2.5/weather?\"\n",
    "#units = \"imperial\"\n",
    "#query_url = f\"{url}appid={api_key}\"\n",
    "\n",
    "#target_url = query_url + city.replace(\" \", \"+\") + units\n",
    "#response = requests.get(target_url)\n",
    "#response_json = response.json()\n",
    "#response_json"
   ]
  },
  {
   "cell_type": "code",
   "execution_count": 4,
   "metadata": {},
   "outputs": [
    {
     "name": "stdout",
     "output_type": "stream",
     "text": [
      "Beginning Data Retrieval    \n",
      "----------------------------\n",
      "Processing Record 1 of Set 1 | jamestown\n",
      "Processing Record 2 of Set 1 | tiksi\n",
      "Processing Record 3 of Set 1 | vadso\n",
      "Processing Record 4 of Set 1 | castro\n",
      "Processing Record 5 of Set 1 | baykit\n",
      "Processing Record 6 of Set 1 | namibe\n",
      "Processing Record 7 of Set 1 | yellowknife\n",
      "Processing Record 8 of Set 1 | srednekolymsk\n",
      "Processing Record 9 of Set 1 | sinegorye\n",
      "Processing Record 10 of Set 1 | diu\n",
      "Processing Record 11 of Set 1 | port elizabeth\n",
      "Processing Record 12 of Set 1 | tsihombe\n",
      "City not found. Skipping ...\n",
      "Processing Record 13 of Set 1 | faro\n",
      "Processing Record 14 of Set 1 | ushuaia\n",
      "Processing Record 15 of Set 1 | broome\n",
      "Processing Record 16 of Set 1 | vaini\n",
      "Processing Record 17 of Set 1 | touros\n",
      "Processing Record 18 of Set 1 | faya\n",
      "Processing Record 19 of Set 1 | saint paul\n",
      "Processing Record 20 of Set 1 | meyungs\n",
      "City not found. Skipping ...\n",
      "Processing Record 21 of Set 1 | the valley\n",
      "Processing Record 22 of Set 1 | bahia blanca\n",
      "Processing Record 23 of Set 1 | ati\n",
      "Processing Record 24 of Set 1 | ngukurr\n",
      "City not found. Skipping ...\n",
      "Processing Record 25 of Set 1 | luderitz\n",
      "Processing Record 26 of Set 1 | truro\n",
      "Processing Record 27 of Set 1 | saint george\n",
      "Processing Record 28 of Set 1 | chernyakhovsk\n",
      "Processing Record 29 of Set 1 | coahuayana\n",
      "Processing Record 30 of Set 1 | mar del plata\n",
      "Processing Record 31 of Set 1 | svetlogorsk\n",
      "Processing Record 32 of Set 1 | nikolskoye\n",
      "Processing Record 33 of Set 1 | lorengau\n",
      "Processing Record 34 of Set 1 | tuatapere\n",
      "Processing Record 35 of Set 1 | batagay\n",
      "Processing Record 36 of Set 1 | caraquet\n",
      "Processing Record 37 of Set 1 | georgetown\n",
      "Processing Record 38 of Set 1 | haines junction\n",
      "Processing Record 39 of Set 1 | thompson\n",
      "Processing Record 40 of Set 1 | najran\n",
      "Processing Record 41 of Set 1 | sao joao da barra\n",
      "Processing Record 42 of Set 1 | kavaratti\n",
      "Processing Record 43 of Set 1 | butaritari\n",
      "Processing Record 44 of Set 1 | busselton\n",
      "Processing Record 45 of Set 1 | fairbanks\n",
      "Processing Record 46 of Set 1 | barrow\n",
      "Processing Record 47 of Set 1 | bluff\n",
      "Processing Record 48 of Set 1 | airai\n",
      "Processing Record 49 of Set 1 | torbay\n",
      "Processing Record 50 of Set 1 | albany\n",
      "Processing Record 0 of Set 2 | pangody\n",
      "Processing Record 1 of Set 2 | lebu\n",
      "Processing Record 2 of Set 2 | ilo\n",
      "Processing Record 3 of Set 2 | sentyabrskiy\n",
      "City not found. Skipping ...\n",
      "Processing Record 4 of Set 2 | college\n",
      "Processing Record 5 of Set 2 | praia\n",
      "Processing Record 6 of Set 2 | natchitoches\n",
      "Processing Record 7 of Set 2 | urusha\n",
      "Processing Record 8 of Set 2 | nizhniy baskunchak\n",
      "Processing Record 9 of Set 2 | vostok\n",
      "Processing Record 10 of Set 2 | avarua\n",
      "Processing Record 11 of Set 2 | khatanga\n",
      "Processing Record 12 of Set 2 | kodiak\n",
      "Processing Record 13 of Set 2 | dombarovskiy\n",
      "Processing Record 14 of Set 2 | amderma\n",
      "City not found. Skipping ...\n",
      "Processing Record 15 of Set 2 | esperance\n",
      "Processing Record 16 of Set 2 | zhanaozen\n",
      "Processing Record 17 of Set 2 | punta arenas\n",
      "Processing Record 18 of Set 2 | nizhneyansk\n",
      "City not found. Skipping ...\n",
      "Processing Record 19 of Set 2 | kaitangata\n",
      "Processing Record 20 of Set 2 | mataura\n",
      "Processing Record 21 of Set 2 | qaanaaq\n",
      "Processing Record 22 of Set 2 | faanui\n",
      "Processing Record 23 of Set 2 | port alfred\n",
      "Processing Record 24 of Set 2 | saskylakh\n",
      "Processing Record 25 of Set 2 | tasiilaq\n",
      "Processing Record 26 of Set 2 | ribeira grande\n",
      "Processing Record 27 of Set 2 | hamilton\n",
      "Processing Record 28 of Set 2 | new norfolk\n",
      "Processing Record 29 of Set 2 | astara\n",
      "Processing Record 30 of Set 2 | tuggurt\n",
      "City not found. Skipping ...\n",
      "Processing Record 31 of Set 2 | zheleznodorozhnyy\n",
      "Processing Record 32 of Set 2 | constitucion\n",
      "Processing Record 33 of Set 2 | taoudenni\n",
      "Processing Record 34 of Set 2 | ion corvin\n",
      "Processing Record 35 of Set 2 | palabuhanratu\n",
      "City not found. Skipping ...\n",
      "Processing Record 36 of Set 2 | matara\n",
      "Processing Record 37 of Set 2 | kadykchan\n",
      "City not found. Skipping ...\n",
      "Processing Record 38 of Set 2 | alofi\n",
      "Processing Record 39 of Set 2 | goba\n",
      "Processing Record 40 of Set 2 | mount isa\n",
      "Processing Record 41 of Set 2 | vila\n",
      "Processing Record 42 of Set 2 | vaitupu\n",
      "City not found. Skipping ...\n",
      "Processing Record 43 of Set 2 | jilmah\n",
      "City not found. Skipping ...\n",
      "Processing Record 44 of Set 2 | kurilsk\n",
      "Processing Record 45 of Set 2 | cape town\n",
      "Processing Record 46 of Set 2 | bilma\n",
      "Processing Record 47 of Set 2 | qinzhou\n",
      "Processing Record 48 of Set 2 | sassandra\n",
      "Processing Record 49 of Set 2 | ilebo\n",
      "Processing Record 0 of Set 3 | bonnyville\n",
      "Processing Record 1 of Set 3 | kuntaur\n",
      "Processing Record 2 of Set 3 | ixtapa\n",
      "Processing Record 3 of Set 3 | severo-kurilsk\n",
      "Processing Record 4 of Set 3 | paracuru\n",
      "Processing Record 5 of Set 3 | hobart\n",
      "Processing Record 6 of Set 3 | mehamn\n",
      "Processing Record 7 of Set 3 | daru\n",
      "Processing Record 8 of Set 3 | upernavik\n",
      "Processing Record 9 of Set 3 | birjand\n",
      "Processing Record 10 of Set 3 | richards bay\n",
      "Processing Record 11 of Set 3 | nara\n",
      "Processing Record 12 of Set 3 | puerto escondido\n",
      "Processing Record 13 of Set 3 | rikitea\n",
      "Processing Record 14 of Set 3 | coquimbo\n",
      "Processing Record 15 of Set 3 | cherskiy\n",
      "Processing Record 16 of Set 3 | catabola\n",
      "Processing Record 17 of Set 3 | oshnaviyeh\n",
      "Processing Record 18 of Set 3 | taolanaro\n",
      "City not found. Skipping ...\n",
      "Processing Record 19 of Set 3 | ulagan\n",
      "Processing Record 20 of Set 3 | acapulco\n",
      "Processing Record 21 of Set 3 | mecca\n",
      "Processing Record 22 of Set 3 | puerto ayora\n",
      "Processing Record 23 of Set 3 | belushya guba\n",
      "City not found. Skipping ...\n",
      "Processing Record 24 of Set 3 | the pas\n",
      "Processing Record 25 of Set 3 | qaqortoq\n",
      "Processing Record 26 of Set 3 | karratha\n",
      "Processing Record 27 of Set 3 | san ramon\n",
      "Processing Record 28 of Set 3 | tuktoyaktuk\n",
      "Processing Record 29 of Set 3 | poum\n",
      "Processing Record 30 of Set 3 | tabiauea\n",
      "City not found. Skipping ...\n",
      "Processing Record 31 of Set 3 | la pila\n",
      "Processing Record 32 of Set 3 | hastings\n",
      "Processing Record 33 of Set 3 | nalut\n",
      "Processing Record 34 of Set 3 | kapaa\n",
      "Processing Record 35 of Set 3 | oussouye\n",
      "Processing Record 36 of Set 3 | alice springs\n",
      "Processing Record 37 of Set 3 | jilib\n",
      "Processing Record 38 of Set 3 | pochutla\n",
      "Processing Record 39 of Set 3 | sosnovo-ozerskoye\n",
      "Processing Record 40 of Set 3 | port hardy\n",
      "Processing Record 41 of Set 3 | bethel\n",
      "Processing Record 42 of Set 3 | ilulissat\n",
      "Processing Record 43 of Set 3 | kilindoni\n",
      "Processing Record 44 of Set 3 | yar-sale\n",
      "Processing Record 45 of Set 3 | lagoa\n",
      "Processing Record 46 of Set 3 | ostrovnoy\n",
      "Processing Record 47 of Set 3 | longyearbyen\n",
      "Processing Record 48 of Set 3 | iqaluit\n",
      "Processing Record 49 of Set 3 | barentsburg\n",
      "City not found. Skipping ...\n",
      "Processing Record 0 of Set 4 | bayir\n",
      "Processing Record 1 of Set 4 | bud\n",
      "Processing Record 2 of Set 4 | sorland\n",
      "Processing Record 3 of Set 4 | seybaplaya\n",
      "Processing Record 4 of Set 4 | bambous virieux\n",
      "Processing Record 5 of Set 4 | yerbogachen\n",
      "Processing Record 6 of Set 4 | sainte-marie\n",
      "Processing Record 7 of Set 4 | cap malheureux\n",
      "Processing Record 8 of Set 4 | marcona\n",
      "City not found. Skipping ...\n",
      "Processing Record 9 of Set 4 | geraldton\n",
      "Processing Record 10 of Set 4 | reconquista\n",
      "Processing Record 11 of Set 4 | lolua\n",
      "City not found. Skipping ...\n",
      "Processing Record 12 of Set 4 | cabo san lucas\n",
      "Processing Record 13 of Set 4 | dutlwe\n",
      "Processing Record 14 of Set 4 | birao\n",
      "Processing Record 15 of Set 4 | naryan-mar\n",
      "Processing Record 16 of Set 4 | itapecerica da serra\n",
      "Processing Record 17 of Set 4 | sioux lookout\n",
      "Processing Record 18 of Set 4 | harper\n",
      "Processing Record 19 of Set 4 | tulum\n",
      "Processing Record 20 of Set 4 | yuli\n",
      "Processing Record 21 of Set 4 | illoqqortoormiut\n",
      "City not found. Skipping ...\n",
      "Processing Record 22 of Set 4 | aden\n",
      "Processing Record 23 of Set 4 | saint-philippe\n",
      "Processing Record 24 of Set 4 | carnarvon\n",
      "Processing Record 25 of Set 4 | mackenzie\n",
      "Processing Record 26 of Set 4 | hithadhoo\n",
      "Processing Record 27 of Set 4 | barawe\n",
      "City not found. Skipping ...\n",
      "Processing Record 28 of Set 4 | sao filipe\n",
      "Processing Record 29 of Set 4 | moen\n",
      "Processing Record 30 of Set 4 | atuona\n",
      "Processing Record 31 of Set 4 | valley city\n",
      "Processing Record 32 of Set 4 | hermanus\n",
      "Processing Record 33 of Set 4 | tolaga bay\n"
     ]
    },
    {
     "name": "stdout",
     "output_type": "stream",
     "text": [
      "Processing Record 34 of Set 4 | grand river south east\n",
      "City not found. Skipping ...\n",
      "Processing Record 35 of Set 4 | trikerion\n",
      "City not found. Skipping ...\n",
      "Processing Record 36 of Set 4 | togur\n",
      "Processing Record 37 of Set 4 | grand gaube\n",
      "Processing Record 38 of Set 4 | matagami\n",
      "Processing Record 39 of Set 4 | awjilah\n",
      "Processing Record 40 of Set 4 | attawapiskat\n",
      "City not found. Skipping ...\n",
      "Processing Record 41 of Set 4 | homestead\n",
      "Processing Record 42 of Set 4 | octeville\n",
      "Processing Record 43 of Set 4 | greeley\n",
      "Processing Record 44 of Set 4 | mahebourg\n",
      "Processing Record 45 of Set 4 | dolbeau\n",
      "City not found. Skipping ...\n",
      "Processing Record 46 of Set 4 | cacahoatan\n",
      "Processing Record 47 of Set 4 | pisco\n",
      "Processing Record 48 of Set 4 | mpika\n",
      "Processing Record 49 of Set 4 | chokurdakh\n",
      "Processing Record 0 of Set 5 | dalbandin\n",
      "Processing Record 1 of Set 5 | sillamae\n",
      "Processing Record 2 of Set 5 | muisne\n",
      "Processing Record 3 of Set 5 | hvide sande\n",
      "Processing Record 4 of Set 5 | hokitika\n",
      "Processing Record 5 of Set 5 | diamantino\n",
      "Processing Record 6 of Set 5 | camopi\n",
      "Processing Record 7 of Set 5 | panaba\n",
      "Processing Record 8 of Set 5 | lingao\n",
      "Processing Record 9 of Set 5 | provideniya\n",
      "Processing Record 10 of Set 5 | chhaprauli\n",
      "Processing Record 11 of Set 5 | kabanjahe\n",
      "Processing Record 12 of Set 5 | bull savanna\n",
      "Processing Record 13 of Set 5 | kruisfontein\n",
      "Processing Record 14 of Set 5 | adre\n",
      "Processing Record 15 of Set 5 | vila velha\n",
      "Processing Record 16 of Set 5 | sabang\n",
      "Processing Record 17 of Set 5 | paciran\n",
      "Processing Record 18 of Set 5 | sechura\n",
      "Processing Record 19 of Set 5 | dikson\n",
      "Processing Record 20 of Set 5 | ponta delgada\n",
      "Processing Record 21 of Set 5 | hirado\n",
      "Processing Record 22 of Set 5 | sur\n",
      "Processing Record 23 of Set 5 | krasnoselkup\n",
      "Processing Record 24 of Set 5 | derzhavinsk\n",
      "Processing Record 25 of Set 5 | merauke\n",
      "Processing Record 26 of Set 5 | jibuti\n",
      "Processing Record 27 of Set 5 | east london\n",
      "Processing Record 28 of Set 5 | clyde river\n",
      "Processing Record 29 of Set 5 | mahibadhoo\n",
      "Processing Record 30 of Set 5 | newcastleton\n",
      "Processing Record 31 of Set 5 | kahului\n",
      "Processing Record 32 of Set 5 | kendal\n",
      "Processing Record 33 of Set 5 | saldanha\n",
      "Processing Record 34 of Set 5 | nanortalik\n",
      "Processing Record 35 of Set 5 | souillac\n",
      "Processing Record 36 of Set 5 | tidore\n",
      "City not found. Skipping ...\n",
      "Processing Record 37 of Set 5 | saint anthony\n",
      "Processing Record 38 of Set 5 | cangucu\n",
      "Processing Record 39 of Set 5 | margate\n",
      "Processing Record 40 of Set 5 | cayenne\n",
      "Processing Record 41 of Set 5 | kuusamo\n",
      "Processing Record 42 of Set 5 | rawson\n",
      "Processing Record 43 of Set 5 | haarby\n",
      "City not found. Skipping ...\n",
      "Processing Record 44 of Set 5 | moerai\n",
      "Processing Record 45 of Set 5 | ahipara\n",
      "Processing Record 46 of Set 5 | mitchell\n",
      "Processing Record 47 of Set 5 | rio verde de mato grosso\n",
      "Processing Record 48 of Set 5 | muzhi\n",
      "Processing Record 49 of Set 5 | grindavik\n",
      "Processing Record 0 of Set 6 | burica\n",
      "City not found. Skipping ...\n",
      "Processing Record 1 of Set 6 | vicuna\n",
      "Processing Record 2 of Set 6 | san cristobal\n",
      "Processing Record 3 of Set 6 | el estor\n",
      "Processing Record 4 of Set 6 | tsukumi\n",
      "Processing Record 5 of Set 6 | cumaribo\n",
      "City not found. Skipping ...\n",
      "Processing Record 6 of Set 6 | caravelas\n",
      "Processing Record 7 of Set 6 | longlac\n",
      "City not found. Skipping ...\n",
      "Processing Record 8 of Set 6 | vilhena\n",
      "Processing Record 9 of Set 6 | severobaykalsk\n",
      "Processing Record 10 of Set 6 | norman wells\n",
      "Processing Record 11 of Set 6 | hami\n",
      "Processing Record 12 of Set 6 | scarborough\n",
      "Processing Record 13 of Set 6 | hilo\n",
      "Processing Record 14 of Set 6 | bedele\n",
      "Processing Record 15 of Set 6 | korla\n",
      "Processing Record 16 of Set 6 | puerto suarez\n",
      "Processing Record 17 of Set 6 | tarudant\n",
      "City not found. Skipping ...\n",
      "Processing Record 18 of Set 6 | cidreira\n",
      "Processing Record 19 of Set 6 | nemuro\n",
      "Processing Record 20 of Set 6 | samarai\n",
      "Processing Record 21 of Set 6 | dunedin\n",
      "Processing Record 22 of Set 6 | alyangula\n",
      "Processing Record 23 of Set 6 | elizabeth city\n",
      "Processing Record 24 of Set 6 | lebowakgomo\n",
      "Processing Record 25 of Set 6 | avera\n",
      "Processing Record 26 of Set 6 | port-gentil\n",
      "Processing Record 27 of Set 6 | panama city\n",
      "Processing Record 28 of Set 6 | quimper\n",
      "Processing Record 29 of Set 6 | kamenskoye\n",
      "City not found. Skipping ...\n",
      "Processing Record 30 of Set 6 | itoman\n",
      "Processing Record 31 of Set 6 | umm kaddadah\n",
      "Processing Record 32 of Set 6 | valera\n",
      "Processing Record 33 of Set 6 | rio grande\n",
      "Processing Record 34 of Set 6 | alasehir\n",
      "Processing Record 35 of Set 6 | altamira\n",
      "Processing Record 36 of Set 6 | labuhan\n",
      "Processing Record 37 of Set 6 | mitsamiouli\n",
      "Processing Record 38 of Set 6 | bereda\n",
      "Processing Record 39 of Set 6 | walvis bay\n",
      "Processing Record 40 of Set 6 | bathsheba\n",
      "Processing Record 41 of Set 6 | nago\n",
      "Processing Record 42 of Set 6 | falealupo\n",
      "City not found. Skipping ...\n",
      "Processing Record 43 of Set 6 | iracoubo\n",
      "Processing Record 44 of Set 6 | nishihara\n",
      "Processing Record 45 of Set 6 | ucluelet\n",
      "Processing Record 46 of Set 6 | awbari\n",
      "Processing Record 47 of Set 6 | tumannyy\n",
      "City not found. Skipping ...\n",
      "Processing Record 48 of Set 6 | beringovskiy\n",
      "Processing Record 49 of Set 6 | praya\n",
      "Processing Record 0 of Set 7 | port lavaca\n",
      "Processing Record 1 of Set 7 | sosua\n",
      "Processing Record 2 of Set 7 | zhanatas\n",
      "City not found. Skipping ...\n",
      "Processing Record 3 of Set 7 | port blair\n",
      "Processing Record 4 of Set 7 | lubango\n",
      "Processing Record 5 of Set 7 | ancud\n",
      "Processing Record 6 of Set 7 | rungata\n",
      "City not found. Skipping ...\n",
      "Processing Record 7 of Set 7 | wahran\n",
      "City not found. Skipping ...\n",
      "Processing Record 8 of Set 7 | narsaq\n",
      "Processing Record 9 of Set 7 | griffith\n",
      "Processing Record 10 of Set 7 | bhachau\n",
      "Processing Record 11 of Set 7 | chikoy\n",
      "City not found. Skipping ...\n",
      "Processing Record 12 of Set 7 | olafsvik\n",
      "Processing Record 13 of Set 7 | tigil\n",
      "Processing Record 14 of Set 7 | superior\n",
      "Processing Record 15 of Set 7 | pine bluff\n",
      "Processing Record 16 of Set 7 | khandyga\n",
      "Processing Record 17 of Set 7 | zachagansk\n",
      "City not found. Skipping ...\n",
      "Processing Record 18 of Set 7 | the woodlands\n",
      "Processing Record 19 of Set 7 | ust-koksa\n",
      "Processing Record 20 of Set 7 | chapais\n",
      "Processing Record 21 of Set 7 | lokosovo\n",
      "Processing Record 22 of Set 7 | whitehorse\n",
      "Processing Record 23 of Set 7 | vaijapur\n",
      "Processing Record 24 of Set 7 | ambulu\n",
      "Processing Record 25 of Set 7 | port augusta\n",
      "Processing Record 26 of Set 7 | roura\n",
      "Processing Record 27 of Set 7 | balaipungut\n",
      "Processing Record 28 of Set 7 | biloxi\n",
      "Processing Record 29 of Set 7 | kawana waters\n",
      "City not found. Skipping ...\n",
      "Processing Record 30 of Set 7 | hare bay\n",
      "Processing Record 31 of Set 7 | vredendal\n",
      "Processing Record 32 of Set 7 | muros\n",
      "Processing Record 33 of Set 7 | odweyne\n",
      "Processing Record 34 of Set 7 | poshekhonye\n",
      "Processing Record 35 of Set 7 | magadan\n",
      "Processing Record 36 of Set 7 | san ignacio\n",
      "Processing Record 37 of Set 7 | jequie\n",
      "Processing Record 38 of Set 7 | yulara\n",
      "Processing Record 39 of Set 7 | kaohsiung\n",
      "Processing Record 40 of Set 7 | nelson bay\n",
      "Processing Record 41 of Set 7 | teguise\n",
      "Processing Record 42 of Set 7 | tsuyama\n",
      "Processing Record 43 of Set 7 | aklavik\n",
      "Processing Record 44 of Set 7 | lakeside\n",
      "Processing Record 45 of Set 7 | bredasdorp\n",
      "Processing Record 46 of Set 7 | viedma\n",
      "Processing Record 47 of Set 7 | natal\n",
      "Processing Record 48 of Set 7 | tezu\n",
      "Processing Record 49 of Set 7 | lompoc\n",
      "Processing Record 0 of Set 8 | vieste\n",
      "Processing Record 1 of Set 8 | ponta do sol\n",
      "Processing Record 2 of Set 8 | umm lajj\n",
      "Processing Record 3 of Set 8 | mys shmidta\n",
      "City not found. Skipping ...\n",
      "Processing Record 4 of Set 8 | peleduy\n",
      "Processing Record 5 of Set 8 | amberley\n",
      "Processing Record 6 of Set 8 | victoria\n",
      "Processing Record 7 of Set 8 | pemangkat\n",
      "Processing Record 8 of Set 8 | arraial do cabo\n",
      "Processing Record 9 of Set 8 | klaksvik\n",
      "Processing Record 10 of Set 8 | broken hill\n",
      "Processing Record 11 of Set 8 | chuy\n",
      "Processing Record 12 of Set 8 | slave lake\n",
      "Processing Record 13 of Set 8 | berlevag\n",
      "Processing Record 14 of Set 8 | ponca city\n",
      "Processing Record 15 of Set 8 | pokhara\n",
      "Processing Record 16 of Set 8 | syasstroy\n",
      "Processing Record 17 of Set 8 | tawnat\n",
      "City not found. Skipping ...\n",
      "Processing Record 18 of Set 8 | sergeyevka\n"
     ]
    },
    {
     "name": "stdout",
     "output_type": "stream",
     "text": [
      "Processing Record 19 of Set 8 | santarem\n",
      "Processing Record 20 of Set 8 | kudahuvadhoo\n",
      "Processing Record 21 of Set 8 | briancon\n",
      "Processing Record 22 of Set 8 | saint-pierre\n",
      "Processing Record 23 of Set 8 | sabaudia\n",
      "Processing Record 24 of Set 8 | rabo de peixe\n",
      "Processing Record 25 of Set 8 | samusu\n",
      "City not found. Skipping ...\n",
      "Processing Record 26 of Set 8 | maragogi\n",
      "Processing Record 27 of Set 8 | kysyl-syr\n",
      "Processing Record 28 of Set 8 | mogadishu\n",
      "Processing Record 29 of Set 8 | bukachacha\n",
      "Processing Record 30 of Set 8 | puerto baquerizo moreno\n",
      "Processing Record 31 of Set 8 | emerald\n",
      "Processing Record 32 of Set 8 | fortuna\n",
      "Processing Record 33 of Set 8 | tura\n",
      "Processing Record 34 of Set 8 | laguna\n",
      "Processing Record 35 of Set 8 | vila franca do campo\n",
      "Processing Record 36 of Set 8 | noumea\n",
      "Processing Record 37 of Set 8 | lima duarte\n",
      "Processing Record 38 of Set 8 | fort smith\n",
      "Processing Record 39 of Set 8 | salalah\n",
      "Processing Record 40 of Set 8 | isla mujeres\n",
      "Processing Record 41 of Set 8 | zyryanka\n",
      "Processing Record 42 of Set 8 | codrington\n",
      "Processing Record 43 of Set 8 | uskedal\n",
      "City not found. Skipping ...\n",
      "Processing Record 44 of Set 8 | mnogovershinnyy\n",
      "Processing Record 45 of Set 8 | spring hill\n",
      "Processing Record 46 of Set 8 | matongo\n",
      "Processing Record 47 of Set 8 | baffa\n",
      "Processing Record 48 of Set 8 | ligayan\n",
      "Processing Record 49 of Set 8 | nome\n",
      "Processing Record 0 of Set 9 | ingham\n",
      "Processing Record 1 of Set 9 | akonolinga\n",
      "Processing Record 2 of Set 9 | bayeux\n",
      "Processing Record 3 of Set 9 | dole\n",
      "Processing Record 4 of Set 9 | ardakan\n",
      "Processing Record 5 of Set 9 | puerto del rosario\n",
      "Processing Record 6 of Set 9 | guarda\n",
      "Processing Record 7 of Set 9 | chengde\n",
      "Processing Record 8 of Set 9 | talca\n",
      "Processing Record 9 of Set 9 | malindi\n",
      "Processing Record 10 of Set 9 | kalmunai\n",
      "Processing Record 11 of Set 9 | diffa\n",
      "Processing Record 12 of Set 9 | saint-augustin\n",
      "Processing Record 13 of Set 9 | sola\n",
      "Processing Record 14 of Set 9 | mizdah\n",
      "Processing Record 15 of Set 9 | hovd\n",
      "Processing Record 16 of Set 9 | sedro-woolley\n",
      "Processing Record 17 of Set 9 | porto novo\n",
      "Processing Record 18 of Set 9 | hofn\n",
      "Processing Record 19 of Set 9 | nyuksenitsa\n",
      "Processing Record 20 of Set 9 | kegums\n",
      "Processing Record 21 of Set 9 | petropavlovsk-kamchatskiy\n",
      "Processing Record 22 of Set 9 | hire\n",
      "City not found. Skipping ...\n",
      "Processing Record 23 of Set 9 | murgab\n",
      "Processing Record 24 of Set 9 | fernandez\n",
      "Processing Record 25 of Set 9 | batagay-alyta\n",
      "Processing Record 26 of Set 9 | galveston\n",
      "Processing Record 27 of Set 9 | ahuimanu\n",
      "Processing Record 28 of Set 9 | malumfashi\n",
      "Processing Record 29 of Set 9 | miri\n",
      "Processing Record 30 of Set 9 | asfi\n",
      "Processing Record 31 of Set 9 | vao\n",
      "Processing Record 32 of Set 9 | louisbourg\n",
      "City not found. Skipping ...\n",
      "Processing Record 33 of Set 9 | grevesmuhlen\n",
      "Processing Record 34 of Set 9 | amurzet\n",
      "Processing Record 35 of Set 9 | borba\n",
      "Processing Record 36 of Set 9 | hoquiam\n",
      "Processing Record 37 of Set 9 | dalneye konstantinovo\n",
      "City not found. Skipping ...\n",
      "Processing Record 38 of Set 9 | luce\n",
      "Processing Record 39 of Set 9 | tomatlan\n",
      "Processing Record 40 of Set 9 | shimoda\n",
      "Processing Record 41 of Set 9 | teruel\n",
      "Processing Record 42 of Set 9 | iwanai\n",
      "Processing Record 43 of Set 9 | iseyin\n",
      "Processing Record 44 of Set 9 | prieska\n",
      "Processing Record 45 of Set 9 | cotonou\n",
      "Processing Record 46 of Set 9 | lushunkou\n",
      "City not found. Skipping ...\n",
      "Processing Record 47 of Set 9 | san lazaro\n",
      "Processing Record 48 of Set 9 | sakakah\n",
      "Processing Record 49 of Set 9 | rosarito\n",
      "Processing Record 0 of Set 10 | redmond\n",
      "Processing Record 1 of Set 10 | betamcherla\n",
      "Processing Record 2 of Set 10 | bengkulu\n",
      "Processing Record 3 of Set 10 | ratnagiri\n",
      "Processing Record 4 of Set 10 | chippewa falls\n",
      "Processing Record 5 of Set 10 | san patricio\n",
      "Processing Record 6 of Set 10 | mayskiy\n",
      "Processing Record 7 of Set 10 | buala\n",
      "Processing Record 8 of Set 10 | zhezkazgan\n",
      "Processing Record 9 of Set 10 | kaeo\n",
      "Processing Record 10 of Set 10 | houlung\n",
      "City not found. Skipping ...\n",
      "Processing Record 11 of Set 10 | hanmer springs\n",
      "Processing Record 12 of Set 10 | waingapu\n",
      "Processing Record 13 of Set 10 | skalistyy\n",
      "City not found. Skipping ...\n",
      "Processing Record 14 of Set 10 | hasaki\n",
      "Processing Record 15 of Set 10 | anadyr\n",
      "Processing Record 16 of Set 10 | alta floresta\n",
      "Processing Record 17 of Set 10 | atar\n",
      "Processing Record 18 of Set 10 | leningradskiy\n",
      "Processing Record 19 of Set 10 | palmer\n",
      "Processing Record 20 of Set 10 | westport\n",
      "Processing Record 21 of Set 10 | bantou\n",
      "Processing Record 22 of Set 10 | deputatskiy\n",
      "Processing Record 23 of Set 10 | camana\n",
      "Processing Record 24 of Set 10 | stamsund\n",
      "City not found. Skipping ...\n",
      "Processing Record 25 of Set 10 | isangel\n",
      "Processing Record 26 of Set 10 | banda aceh\n",
      "Processing Record 27 of Set 10 | secunda\n",
      "Processing Record 28 of Set 10 | erzin\n",
      "Processing Record 29 of Set 10 | mandera\n",
      "Processing Record 30 of Set 10 | leh\n",
      "Processing Record 31 of Set 10 | stara zagora\n",
      "Processing Record 32 of Set 10 | acajutla\n",
      "Processing Record 33 of Set 10 | dingle\n",
      "Processing Record 34 of Set 10 | jalu\n",
      "Processing Record 35 of Set 10 | methven\n",
      "Processing Record 36 of Set 10 | penuelas\n",
      "Processing Record 37 of Set 10 | charlestown\n",
      "Processing Record 38 of Set 10 | lukulu\n",
      "Processing Record 39 of Set 10 | high rock\n",
      "Processing Record 40 of Set 10 | bednodemyanovsk\n",
      "City not found. Skipping ...\n",
      "Processing Record 41 of Set 10 | mana\n",
      "Processing Record 42 of Set 10 | monrovia\n",
      "Processing Record 43 of Set 10 | honiara\n",
      "Processing Record 44 of Set 10 | manggar\n",
      "Processing Record 45 of Set 10 | puerto el triunfo\n",
      "Processing Record 46 of Set 10 | manta\n",
      "Processing Record 47 of Set 10 | sayyan\n",
      "Processing Record 48 of Set 10 | galiwinku\n",
      "City not found. Skipping ...\n",
      "Processing Record 49 of Set 10 | keshorai patan\n",
      "Processing Record 0 of Set 11 | marktoberdorf\n",
      "Processing Record 1 of Set 11 | manhattan\n",
      "Processing Record 2 of Set 11 | stornoway\n",
      "Processing Record 3 of Set 11 | kindu\n",
      "Processing Record 4 of Set 11 | vengurla\n",
      "Processing Record 5 of Set 11 | husavik\n",
      "Processing Record 6 of Set 11 | san juan\n",
      "Processing Record 7 of Set 11 | ures\n",
      "Processing Record 8 of Set 11 | waddan\n",
      "Processing Record 9 of Set 11 | santiago del estero\n",
      "Processing Record 10 of Set 11 | qeshm\n",
      "Processing Record 11 of Set 11 | genhe\n",
      "Processing Record 12 of Set 11 | salina cruz\n",
      "Processing Record 13 of Set 11 | bandipur\n",
      "Processing Record 14 of Set 11 | moron\n",
      "Processing Record 15 of Set 11 | bandarbeyla\n",
      "Processing Record 16 of Set 11 | saint-georges\n",
      "Processing Record 17 of Set 11 | sanmenxia\n",
      "Processing Record 18 of Set 11 | mangaratiba\n",
      "Processing Record 19 of Set 11 | namatanai\n",
      "Processing Record 20 of Set 11 | abu zabad\n",
      "Processing Record 21 of Set 11 | eureka\n",
      "Processing Record 22 of Set 11 | abu samrah\n",
      "Processing Record 23 of Set 11 | dauriya\n",
      "Processing Record 24 of Set 11 | pathein\n",
      "Processing Record 25 of Set 11 | camacha\n",
      "Processing Record 26 of Set 11 | manacapuru\n",
      "Processing Record 27 of Set 11 | beloha\n",
      "Processing Record 28 of Set 11 | pampa\n",
      "Processing Record 29 of Set 11 | doctor pedro p. pena\n",
      "City not found. Skipping ...\n",
      "Processing Record 30 of Set 11 | saleaula\n",
      "City not found. Skipping ...\n",
      "Processing Record 31 of Set 11 | tonantins\n",
      "Processing Record 32 of Set 11 | dudinka\n",
      "Processing Record 33 of Set 11 | rio gallegos\n",
      "Processing Record 34 of Set 11 | macau\n",
      "Processing Record 35 of Set 11 | katsuura\n",
      "Processing Record 36 of Set 11 | marystown\n",
      "Processing Record 37 of Set 11 | lander\n",
      "Processing Record 38 of Set 11 | kholtoson\n",
      "Processing Record 39 of Set 11 | bila tserkva\n",
      "Processing Record 40 of Set 11 | ojinaga\n",
      "Processing Record 41 of Set 11 | ternate\n",
      "Processing Record 42 of Set 11 | nehe\n",
      "Processing Record 43 of Set 11 | muli\n",
      "Processing Record 44 of Set 11 | imbituba\n",
      "Processing Record 45 of Set 11 | rincon\n",
      "Processing Record 46 of Set 11 | port keats\n",
      "Processing Record 47 of Set 11 | kununurra\n",
      "Processing Record 48 of Set 11 | riberalta\n",
      "Processing Record 49 of Set 11 | pangnirtung\n",
      "Processing Record 0 of Set 12 | tautira\n",
      "Processing Record 1 of Set 12 | maniitsoq\n",
      "Processing Record 2 of Set 12 | praia da vitoria\n",
      "Processing Record 3 of Set 12 | komatsu\n",
      "Processing Record 4 of Set 12 | adrar\n",
      "Processing Record 5 of Set 12 | port-cartier\n"
     ]
    },
    {
     "name": "stdout",
     "output_type": "stream",
     "text": [
      "Processing Record 6 of Set 12 | varadero\n",
      "Processing Record 7 of Set 12 | utiroa\n",
      "City not found. Skipping ...\n",
      "Processing Record 8 of Set 12 | madison\n",
      "Processing Record 9 of Set 12 | aksarka\n",
      "Processing Record 10 of Set 12 | jieshi\n",
      "Processing Record 11 of Set 12 | talnakh\n",
      "Processing Record 12 of Set 12 | maua\n",
      "Processing Record 13 of Set 12 | belmopan\n",
      "Processing Record 14 of Set 12 | homer\n",
      "Processing Record 15 of Set 12 | wanning\n",
      "Processing Record 16 of Set 12 | kingman\n",
      "Processing Record 17 of Set 12 | minab\n",
      "Processing Record 18 of Set 12 | nezhinka\n",
      "Processing Record 19 of Set 12 | udachnyy\n",
      "Processing Record 20 of Set 12 | zhigansk\n",
      "Processing Record 21 of Set 12 | yorosso\n",
      "Processing Record 22 of Set 12 | maloshuyka\n",
      "City not found. Skipping ...\n",
      "Processing Record 23 of Set 12 | byron bay\n",
      "Processing Record 24 of Set 12 | great yarmouth\n",
      "Processing Record 25 of Set 12 | los llanos de aridane\n",
      "Processing Record 26 of Set 12 | tabarqah\n",
      "City not found. Skipping ...\n",
      "Processing Record 27 of Set 12 | maldonado\n",
      "Processing Record 28 of Set 12 | goderich\n",
      "Processing Record 29 of Set 12 | warqla\n",
      "City not found. Skipping ...\n",
      "Processing Record 30 of Set 12 | atambua\n",
      "Processing Record 31 of Set 12 | quatre cocos\n",
      "Processing Record 32 of Set 12 | odesskoye\n",
      "Processing Record 33 of Set 12 | sataua\n",
      "City not found. Skipping ...\n",
      "Processing Record 34 of Set 12 | harkany\n",
      "Processing Record 35 of Set 12 | namie\n",
      "Processing Record 36 of Set 12 | puerto madryn\n",
      "Processing Record 37 of Set 12 | guisa\n",
      "Processing Record 38 of Set 12 | matay\n",
      "Processing Record 39 of Set 12 | staryy nadym\n",
      "Processing Record 40 of Set 12 | gomel\n",
      "Processing Record 41 of Set 12 | nagato\n",
      "Processing Record 42 of Set 12 | tabou\n",
      "Processing Record 43 of Set 12 | san quintin\n",
      "Processing Record 44 of Set 12 | aktau\n",
      "Processing Record 45 of Set 12 | parabel\n",
      "Processing Record 46 of Set 12 | ruwi\n",
      "Processing Record 47 of Set 12 | konstancin-jeziorna\n",
      "Processing Record 48 of Set 12 | daoukro\n",
      "Processing Record 49 of Set 12 | lavrentiya\n",
      "Processing Record 0 of Set 13 | porto walter\n",
      "Processing Record 1 of Set 13 | maraa\n",
      "Processing Record 2 of Set 13 | kem\n",
      "Processing Record 3 of Set 13 | mabaruma\n",
      "Processing Record 4 of Set 13 | manzhouli\n",
      "---------------------\n",
      "Data Retrieval Complete\n",
      "---------------------\n"
     ]
    }
   ],
   "source": [
    "url = \"http://api.openweathermap.org/data/2.5/weather?\"\n",
    "\n",
    "query_url = \"http://api.openweathermap.org/data/2.5/weather?units=Imperial&APPID=\" + api_key   \n",
    "\n",
    "city_data = []\n",
    "\n",
    "print(\"Beginning Data Retrieval    \")\n",
    "print(\"----------------------------\")\n",
    "\n",
    "#counters\n",
    "record_num =1\n",
    "set_num = 1\n",
    "\n",
    "for i, city in enumerate(cities):\n",
    "   #create groups of 50\n",
    "    if (i% 50 == 0 and i >= 50):\n",
    "        set_num += 1\n",
    "        record_num = 0\n",
    "        \n",
    "    #url for the loop to run through\n",
    "    city_url = query_url + \"&q=\" + city.replace(\" \", \"+\")\n",
    "    #print(city_url)\n",
    "    \n",
    "    print(\"Processing Record {} of Set {} | {}\".format(record_num, set_num, city))\n",
    "    \n",
    "    #update record_num within the loop\n",
    "    record_num += 1\n",
    "    \n",
    "    #request info on each city\n",
    "    try:\n",
    "        city_response = requests.get(city_url).json()\n",
    "        \n",
    "        #within this response find the data necessary for DataFrame\n",
    "        city_lat = city_response[\"coord\"][\"lat\"]\n",
    "        city_lon = city_response[\"coord\"][\"lon\"]\n",
    "        city_max_temp = city_response[\"main\"][\"temp_max\"]\n",
    "        city_humidity = city_response[\"main\"][\"humidity\"]\n",
    "        city_cloudiness = city_response[\"clouds\"][\"all\"]\n",
    "        city_windspeed = city_response[\"wind\"][\"speed\"]\n",
    "        city_country = city_response[\"sys\"][\"country\"]\n",
    "        city_date = city_response[\"dt\"]\n",
    "        \n",
    "        #append the city info to empty list\n",
    "        city_data.append({\"City\": city,\n",
    "                         \"Lat\": city_lat, \n",
    "                         \"Lng\": city_lon,\n",
    "                         \"Max Temp\": city_max_temp, \n",
    "                         \"Humidity\": city_humidity, \n",
    "                         \"Cloudiness\": city_cloudiness, \n",
    "                         \"Wind Speed\": city_windspeed,\n",
    "                         \"Country\": city_country, \n",
    "                         \"Date\": city_date})\n",
    "    #if no city info is found, skip\n",
    "    except:\n",
    "        print(\"City not found. Skipping ...\")\n",
    "        pass\n",
    "    \n",
    "print(\"---------------------\")\n",
    "print(\"Data Retrieval Complete\")\n",
    "print(\"---------------------\")    \n",
    "\n",
    "\n"
   ]
  },
  {
   "cell_type": "markdown",
   "metadata": {},
   "source": [
    "### Convert Raw Data to DataFrame\n",
    "* Export the city data into a .csv.\n",
    "* Display the DataFrame"
   ]
  },
  {
   "cell_type": "code",
   "execution_count": 5,
   "metadata": {},
   "outputs": [
    {
     "data": {
      "text/html": [
       "<div>\n",
       "<style scoped>\n",
       "    .dataframe tbody tr th:only-of-type {\n",
       "        vertical-align: middle;\n",
       "    }\n",
       "\n",
       "    .dataframe tbody tr th {\n",
       "        vertical-align: top;\n",
       "    }\n",
       "\n",
       "    .dataframe thead th {\n",
       "        text-align: right;\n",
       "    }\n",
       "</style>\n",
       "<table border=\"1\" class=\"dataframe\">\n",
       "  <thead>\n",
       "    <tr style=\"text-align: right;\">\n",
       "      <th></th>\n",
       "      <th>City</th>\n",
       "      <th>Lat</th>\n",
       "      <th>Lng</th>\n",
       "      <th>Max Temp</th>\n",
       "      <th>Humidity</th>\n",
       "      <th>Cloudiness</th>\n",
       "      <th>Wind Speed</th>\n",
       "      <th>Country</th>\n",
       "      <th>Date</th>\n",
       "    </tr>\n",
       "  </thead>\n",
       "  <tbody>\n",
       "    <tr>\n",
       "      <th>0</th>\n",
       "      <td>jamestown</td>\n",
       "      <td>42.0970</td>\n",
       "      <td>-79.2353</td>\n",
       "      <td>39.00</td>\n",
       "      <td>100</td>\n",
       "      <td>90</td>\n",
       "      <td>13.80</td>\n",
       "      <td>US</td>\n",
       "      <td>1618596399</td>\n",
       "    </tr>\n",
       "    <tr>\n",
       "      <th>1</th>\n",
       "      <td>tiksi</td>\n",
       "      <td>71.6872</td>\n",
       "      <td>128.8694</td>\n",
       "      <td>-9.56</td>\n",
       "      <td>100</td>\n",
       "      <td>99</td>\n",
       "      <td>5.39</td>\n",
       "      <td>RU</td>\n",
       "      <td>1618596645</td>\n",
       "    </tr>\n",
       "    <tr>\n",
       "      <th>2</th>\n",
       "      <td>vadso</td>\n",
       "      <td>70.0744</td>\n",
       "      <td>29.7487</td>\n",
       "      <td>39.20</td>\n",
       "      <td>81</td>\n",
       "      <td>75</td>\n",
       "      <td>20.71</td>\n",
       "      <td>NO</td>\n",
       "      <td>1618596646</td>\n",
       "    </tr>\n",
       "    <tr>\n",
       "      <th>3</th>\n",
       "      <td>castro</td>\n",
       "      <td>-24.7911</td>\n",
       "      <td>-50.0119</td>\n",
       "      <td>75.99</td>\n",
       "      <td>45</td>\n",
       "      <td>65</td>\n",
       "      <td>4.47</td>\n",
       "      <td>BR</td>\n",
       "      <td>1618596646</td>\n",
       "    </tr>\n",
       "    <tr>\n",
       "      <th>4</th>\n",
       "      <td>baykit</td>\n",
       "      <td>61.6700</td>\n",
       "      <td>96.3700</td>\n",
       "      <td>4.51</td>\n",
       "      <td>85</td>\n",
       "      <td>86</td>\n",
       "      <td>9.53</td>\n",
       "      <td>RU</td>\n",
       "      <td>1618596646</td>\n",
       "    </tr>\n",
       "    <tr>\n",
       "      <th>...</th>\n",
       "      <td>...</td>\n",
       "      <td>...</td>\n",
       "      <td>...</td>\n",
       "      <td>...</td>\n",
       "      <td>...</td>\n",
       "      <td>...</td>\n",
       "      <td>...</td>\n",
       "      <td>...</td>\n",
       "      <td>...</td>\n",
       "    </tr>\n",
       "    <tr>\n",
       "      <th>542</th>\n",
       "      <td>porto walter</td>\n",
       "      <td>-8.2686</td>\n",
       "      <td>-72.7439</td>\n",
       "      <td>88.92</td>\n",
       "      <td>57</td>\n",
       "      <td>95</td>\n",
       "      <td>3.24</td>\n",
       "      <td>BR</td>\n",
       "      <td>1618596856</td>\n",
       "    </tr>\n",
       "    <tr>\n",
       "      <th>543</th>\n",
       "      <td>maraa</td>\n",
       "      <td>-1.8333</td>\n",
       "      <td>-65.3667</td>\n",
       "      <td>86.81</td>\n",
       "      <td>67</td>\n",
       "      <td>95</td>\n",
       "      <td>3.53</td>\n",
       "      <td>BR</td>\n",
       "      <td>1618596857</td>\n",
       "    </tr>\n",
       "    <tr>\n",
       "      <th>544</th>\n",
       "      <td>kem</td>\n",
       "      <td>64.9555</td>\n",
       "      <td>34.5793</td>\n",
       "      <td>39.09</td>\n",
       "      <td>78</td>\n",
       "      <td>31</td>\n",
       "      <td>6.08</td>\n",
       "      <td>RU</td>\n",
       "      <td>1618596857</td>\n",
       "    </tr>\n",
       "    <tr>\n",
       "      <th>545</th>\n",
       "      <td>mabaruma</td>\n",
       "      <td>8.2000</td>\n",
       "      <td>-59.7833</td>\n",
       "      <td>86.00</td>\n",
       "      <td>66</td>\n",
       "      <td>75</td>\n",
       "      <td>13.80</td>\n",
       "      <td>GY</td>\n",
       "      <td>1618596857</td>\n",
       "    </tr>\n",
       "    <tr>\n",
       "      <th>546</th>\n",
       "      <td>manzhouli</td>\n",
       "      <td>49.6000</td>\n",
       "      <td>117.4333</td>\n",
       "      <td>30.47</td>\n",
       "      <td>32</td>\n",
       "      <td>20</td>\n",
       "      <td>3.24</td>\n",
       "      <td>CN</td>\n",
       "      <td>1618596858</td>\n",
       "    </tr>\n",
       "  </tbody>\n",
       "</table>\n",
       "<p>547 rows × 9 columns</p>\n",
       "</div>"
      ],
      "text/plain": [
       "             City      Lat       Lng  Max Temp  Humidity  Cloudiness  \\\n",
       "0       jamestown  42.0970  -79.2353     39.00       100          90   \n",
       "1           tiksi  71.6872  128.8694     -9.56       100          99   \n",
       "2           vadso  70.0744   29.7487     39.20        81          75   \n",
       "3          castro -24.7911  -50.0119     75.99        45          65   \n",
       "4          baykit  61.6700   96.3700      4.51        85          86   \n",
       "..            ...      ...       ...       ...       ...         ...   \n",
       "542  porto walter  -8.2686  -72.7439     88.92        57          95   \n",
       "543         maraa  -1.8333  -65.3667     86.81        67          95   \n",
       "544           kem  64.9555   34.5793     39.09        78          31   \n",
       "545      mabaruma   8.2000  -59.7833     86.00        66          75   \n",
       "546     manzhouli  49.6000  117.4333     30.47        32          20   \n",
       "\n",
       "     Wind Speed Country        Date  \n",
       "0         13.80      US  1618596399  \n",
       "1          5.39      RU  1618596645  \n",
       "2         20.71      NO  1618596646  \n",
       "3          4.47      BR  1618596646  \n",
       "4          9.53      RU  1618596646  \n",
       "..          ...     ...         ...  \n",
       "542        3.24      BR  1618596856  \n",
       "543        3.53      BR  1618596857  \n",
       "544        6.08      RU  1618596857  \n",
       "545       13.80      GY  1618596857  \n",
       "546        3.24      CN  1618596858  \n",
       "\n",
       "[547 rows x 9 columns]"
      ]
     },
     "execution_count": 5,
     "metadata": {},
     "output_type": "execute_result"
    }
   ],
   "source": [
    "#city_dict = {'City': city, 'Lat': [lat], 'Lng': lon, 'Max Temp': max_temp, 'Humidity': humidity, 'Cloudiness': cloudiness, 'Wind Speed': windspeed, 'Country': country, 'Date': date}\n",
    "city_df = pd.DataFrame(city_data)\n",
    "city_df"
   ]
  },
  {
   "cell_type": "code",
   "execution_count": 6,
   "metadata": {},
   "outputs": [],
   "source": [
    "city_df.to_csv(\"output.csv\", index=False)"
   ]
  },
  {
   "cell_type": "code",
   "execution_count": 7,
   "metadata": {},
   "outputs": [
    {
     "data": {
      "text/html": [
       "<div>\n",
       "<style scoped>\n",
       "    .dataframe tbody tr th:only-of-type {\n",
       "        vertical-align: middle;\n",
       "    }\n",
       "\n",
       "    .dataframe tbody tr th {\n",
       "        vertical-align: top;\n",
       "    }\n",
       "\n",
       "    .dataframe thead th {\n",
       "        text-align: right;\n",
       "    }\n",
       "</style>\n",
       "<table border=\"1\" class=\"dataframe\">\n",
       "  <thead>\n",
       "    <tr style=\"text-align: right;\">\n",
       "      <th></th>\n",
       "      <th>Lat</th>\n",
       "      <th>Lng</th>\n",
       "      <th>Max Temp</th>\n",
       "      <th>Humidity</th>\n",
       "      <th>Cloudiness</th>\n",
       "      <th>Wind Speed</th>\n",
       "      <th>Date</th>\n",
       "    </tr>\n",
       "  </thead>\n",
       "  <tbody>\n",
       "    <tr>\n",
       "      <th>count</th>\n",
       "      <td>547.000000</td>\n",
       "      <td>547.000000</td>\n",
       "      <td>547.000000</td>\n",
       "      <td>547.000000</td>\n",
       "      <td>547.000000</td>\n",
       "      <td>547.000000</td>\n",
       "      <td>5.470000e+02</td>\n",
       "    </tr>\n",
       "    <tr>\n",
       "      <th>mean</th>\n",
       "      <td>20.383984</td>\n",
       "      <td>11.421072</td>\n",
       "      <td>61.612413</td>\n",
       "      <td>64.784278</td>\n",
       "      <td>51.400366</td>\n",
       "      <td>9.233309</td>\n",
       "      <td>1.618597e+09</td>\n",
       "    </tr>\n",
       "    <tr>\n",
       "      <th>std</th>\n",
       "      <td>32.834369</td>\n",
       "      <td>90.424486</td>\n",
       "      <td>23.701341</td>\n",
       "      <td>23.803397</td>\n",
       "      <td>36.635551</td>\n",
       "      <td>6.108785</td>\n",
       "      <td>8.709887e+01</td>\n",
       "    </tr>\n",
       "    <tr>\n",
       "      <th>min</th>\n",
       "      <td>-54.800000</td>\n",
       "      <td>-175.200000</td>\n",
       "      <td>-15.030000</td>\n",
       "      <td>5.000000</td>\n",
       "      <td>0.000000</td>\n",
       "      <td>0.270000</td>\n",
       "      <td>1.618596e+09</td>\n",
       "    </tr>\n",
       "    <tr>\n",
       "      <th>25%</th>\n",
       "      <td>-5.377900</td>\n",
       "      <td>-68.407250</td>\n",
       "      <td>46.065000</td>\n",
       "      <td>50.500000</td>\n",
       "      <td>20.000000</td>\n",
       "      <td>4.735000</td>\n",
       "      <td>1.618597e+09</td>\n",
       "    </tr>\n",
       "    <tr>\n",
       "      <th>50%</th>\n",
       "      <td>23.283300</td>\n",
       "      <td>14.505300</td>\n",
       "      <td>66.400000</td>\n",
       "      <td>70.000000</td>\n",
       "      <td>51.000000</td>\n",
       "      <td>8.050000</td>\n",
       "      <td>1.618597e+09</td>\n",
       "    </tr>\n",
       "    <tr>\n",
       "      <th>75%</th>\n",
       "      <td>47.788700</td>\n",
       "      <td>84.200000</td>\n",
       "      <td>80.600000</td>\n",
       "      <td>83.000000</td>\n",
       "      <td>90.000000</td>\n",
       "      <td>11.520000</td>\n",
       "      <td>1.618597e+09</td>\n",
       "    </tr>\n",
       "    <tr>\n",
       "      <th>max</th>\n",
       "      <td>78.218600</td>\n",
       "      <td>179.316700</td>\n",
       "      <td>105.780000</td>\n",
       "      <td>100.000000</td>\n",
       "      <td>100.000000</td>\n",
       "      <td>47.670000</td>\n",
       "      <td>1.618597e+09</td>\n",
       "    </tr>\n",
       "  </tbody>\n",
       "</table>\n",
       "</div>"
      ],
      "text/plain": [
       "              Lat         Lng    Max Temp    Humidity  Cloudiness  Wind Speed  \\\n",
       "count  547.000000  547.000000  547.000000  547.000000  547.000000  547.000000   \n",
       "mean    20.383984   11.421072   61.612413   64.784278   51.400366    9.233309   \n",
       "std     32.834369   90.424486   23.701341   23.803397   36.635551    6.108785   \n",
       "min    -54.800000 -175.200000  -15.030000    5.000000    0.000000    0.270000   \n",
       "25%     -5.377900  -68.407250   46.065000   50.500000   20.000000    4.735000   \n",
       "50%     23.283300   14.505300   66.400000   70.000000   51.000000    8.050000   \n",
       "75%     47.788700   84.200000   80.600000   83.000000   90.000000   11.520000   \n",
       "max     78.218600  179.316700  105.780000  100.000000  100.000000   47.670000   \n",
       "\n",
       "               Date  \n",
       "count  5.470000e+02  \n",
       "mean   1.618597e+09  \n",
       "std    8.709887e+01  \n",
       "min    1.618596e+09  \n",
       "25%    1.618597e+09  \n",
       "50%    1.618597e+09  \n",
       "75%    1.618597e+09  \n",
       "max    1.618597e+09  "
      ]
     },
     "execution_count": 7,
     "metadata": {},
     "output_type": "execute_result"
    }
   ],
   "source": [
    "city_df.describe()"
   ]
  },
  {
   "cell_type": "markdown",
   "metadata": {},
   "source": [
    "## Inspect the data and remove the cities where the humidity > 100%.\n",
    "----\n",
    "Skip this step if there are no cities that have humidity > 100%. "
   ]
  },
  {
   "cell_type": "code",
   "execution_count": 8,
   "metadata": {},
   "outputs": [
    {
     "data": {
      "text/plain": [
       "Int64Index([100, 100,  81,  45,  85,  72,  52, 100,  88,  77,\n",
       "            ...\n",
       "             68,  48,  93,  70,  93,  57,  67,  78,  66,  32],\n",
       "           dtype='int64', length=547)"
      ]
     },
     "execution_count": 8,
     "metadata": {},
     "output_type": "execute_result"
    }
   ],
   "source": [
    "#  Get the indices of cities that have humidity over 100%.\n",
    "\n",
    "idx = city_df.index[city_df['Humidity']]\n",
    "idx"
   ]
  },
  {
   "cell_type": "code",
   "execution_count": 9,
   "metadata": {},
   "outputs": [
    {
     "data": {
      "text/html": [
       "<div>\n",
       "<style scoped>\n",
       "    .dataframe tbody tr th:only-of-type {\n",
       "        vertical-align: middle;\n",
       "    }\n",
       "\n",
       "    .dataframe tbody tr th {\n",
       "        vertical-align: top;\n",
       "    }\n",
       "\n",
       "    .dataframe thead th {\n",
       "        text-align: right;\n",
       "    }\n",
       "</style>\n",
       "<table border=\"1\" class=\"dataframe\">\n",
       "  <thead>\n",
       "    <tr style=\"text-align: right;\">\n",
       "      <th></th>\n",
       "      <th>Lat</th>\n",
       "      <th>Lng</th>\n",
       "      <th>Max Temp</th>\n",
       "      <th>Humidity</th>\n",
       "      <th>Cloudiness</th>\n",
       "      <th>Wind Speed</th>\n",
       "      <th>Date</th>\n",
       "    </tr>\n",
       "  </thead>\n",
       "  <tbody>\n",
       "    <tr>\n",
       "      <th>count</th>\n",
       "      <td>547.000000</td>\n",
       "      <td>547.000000</td>\n",
       "      <td>547.000000</td>\n",
       "      <td>547.000000</td>\n",
       "      <td>547.000000</td>\n",
       "      <td>547.000000</td>\n",
       "      <td>5.470000e+02</td>\n",
       "    </tr>\n",
       "    <tr>\n",
       "      <th>mean</th>\n",
       "      <td>20.383984</td>\n",
       "      <td>11.421072</td>\n",
       "      <td>61.612413</td>\n",
       "      <td>64.784278</td>\n",
       "      <td>51.400366</td>\n",
       "      <td>9.233309</td>\n",
       "      <td>1.618597e+09</td>\n",
       "    </tr>\n",
       "    <tr>\n",
       "      <th>std</th>\n",
       "      <td>32.834369</td>\n",
       "      <td>90.424486</td>\n",
       "      <td>23.701341</td>\n",
       "      <td>23.803397</td>\n",
       "      <td>36.635551</td>\n",
       "      <td>6.108785</td>\n",
       "      <td>8.709887e+01</td>\n",
       "    </tr>\n",
       "    <tr>\n",
       "      <th>min</th>\n",
       "      <td>-54.800000</td>\n",
       "      <td>-175.200000</td>\n",
       "      <td>-15.030000</td>\n",
       "      <td>5.000000</td>\n",
       "      <td>0.000000</td>\n",
       "      <td>0.270000</td>\n",
       "      <td>1.618596e+09</td>\n",
       "    </tr>\n",
       "    <tr>\n",
       "      <th>25%</th>\n",
       "      <td>-5.377900</td>\n",
       "      <td>-68.407250</td>\n",
       "      <td>46.065000</td>\n",
       "      <td>50.500000</td>\n",
       "      <td>20.000000</td>\n",
       "      <td>4.735000</td>\n",
       "      <td>1.618597e+09</td>\n",
       "    </tr>\n",
       "    <tr>\n",
       "      <th>50%</th>\n",
       "      <td>23.283300</td>\n",
       "      <td>14.505300</td>\n",
       "      <td>66.400000</td>\n",
       "      <td>70.000000</td>\n",
       "      <td>51.000000</td>\n",
       "      <td>8.050000</td>\n",
       "      <td>1.618597e+09</td>\n",
       "    </tr>\n",
       "    <tr>\n",
       "      <th>75%</th>\n",
       "      <td>47.788700</td>\n",
       "      <td>84.200000</td>\n",
       "      <td>80.600000</td>\n",
       "      <td>83.000000</td>\n",
       "      <td>90.000000</td>\n",
       "      <td>11.520000</td>\n",
       "      <td>1.618597e+09</td>\n",
       "    </tr>\n",
       "    <tr>\n",
       "      <th>max</th>\n",
       "      <td>78.218600</td>\n",
       "      <td>179.316700</td>\n",
       "      <td>105.780000</td>\n",
       "      <td>100.000000</td>\n",
       "      <td>100.000000</td>\n",
       "      <td>47.670000</td>\n",
       "      <td>1.618597e+09</td>\n",
       "    </tr>\n",
       "  </tbody>\n",
       "</table>\n",
       "</div>"
      ],
      "text/plain": [
       "              Lat         Lng    Max Temp    Humidity  Cloudiness  Wind Speed  \\\n",
       "count  547.000000  547.000000  547.000000  547.000000  547.000000  547.000000   \n",
       "mean    20.383984   11.421072   61.612413   64.784278   51.400366    9.233309   \n",
       "std     32.834369   90.424486   23.701341   23.803397   36.635551    6.108785   \n",
       "min    -54.800000 -175.200000  -15.030000    5.000000    0.000000    0.270000   \n",
       "25%     -5.377900  -68.407250   46.065000   50.500000   20.000000    4.735000   \n",
       "50%     23.283300   14.505300   66.400000   70.000000   51.000000    8.050000   \n",
       "75%     47.788700   84.200000   80.600000   83.000000   90.000000   11.520000   \n",
       "max     78.218600  179.316700  105.780000  100.000000  100.000000   47.670000   \n",
       "\n",
       "               Date  \n",
       "count  5.470000e+02  \n",
       "mean   1.618597e+09  \n",
       "std    8.709887e+01  \n",
       "min    1.618596e+09  \n",
       "25%    1.618597e+09  \n",
       "50%    1.618597e+09  \n",
       "75%    1.618597e+09  \n",
       "max    1.618597e+09  "
      ]
     },
     "execution_count": 9,
     "metadata": {},
     "output_type": "execute_result"
    }
   ],
   "source": [
    "\n",
    "new_city_df = city_df.drop(city_df.loc[city_df['Humidity'] > 100].index)\n",
    "new_city_df.describe()"
   ]
  },
  {
   "cell_type": "code",
   "execution_count": null,
   "metadata": {},
   "outputs": [],
   "source": []
  },
  {
   "cell_type": "code",
   "execution_count": 10,
   "metadata": {
    "scrolled": true
   },
   "outputs": [
    {
     "data": {
      "text/html": [
       "<div>\n",
       "<style scoped>\n",
       "    .dataframe tbody tr th:only-of-type {\n",
       "        vertical-align: middle;\n",
       "    }\n",
       "\n",
       "    .dataframe tbody tr th {\n",
       "        vertical-align: top;\n",
       "    }\n",
       "\n",
       "    .dataframe thead th {\n",
       "        text-align: right;\n",
       "    }\n",
       "</style>\n",
       "<table border=\"1\" class=\"dataframe\">\n",
       "  <thead>\n",
       "    <tr style=\"text-align: right;\">\n",
       "      <th></th>\n",
       "      <th>City</th>\n",
       "      <th>Lat</th>\n",
       "      <th>Lng</th>\n",
       "      <th>Max Temp</th>\n",
       "      <th>Humidity</th>\n",
       "      <th>Cloudiness</th>\n",
       "      <th>Wind Speed</th>\n",
       "      <th>Country</th>\n",
       "      <th>Date</th>\n",
       "    </tr>\n",
       "  </thead>\n",
       "  <tbody>\n",
       "    <tr>\n",
       "      <th>0</th>\n",
       "      <td>jamestown</td>\n",
       "      <td>42.0970</td>\n",
       "      <td>-79.2353</td>\n",
       "      <td>39.00</td>\n",
       "      <td>100</td>\n",
       "      <td>90</td>\n",
       "      <td>13.80</td>\n",
       "      <td>US</td>\n",
       "      <td>1618596399</td>\n",
       "    </tr>\n",
       "    <tr>\n",
       "      <th>1</th>\n",
       "      <td>tiksi</td>\n",
       "      <td>71.6872</td>\n",
       "      <td>128.8694</td>\n",
       "      <td>-9.56</td>\n",
       "      <td>100</td>\n",
       "      <td>99</td>\n",
       "      <td>5.39</td>\n",
       "      <td>RU</td>\n",
       "      <td>1618596645</td>\n",
       "    </tr>\n",
       "    <tr>\n",
       "      <th>2</th>\n",
       "      <td>vadso</td>\n",
       "      <td>70.0744</td>\n",
       "      <td>29.7487</td>\n",
       "      <td>39.20</td>\n",
       "      <td>81</td>\n",
       "      <td>75</td>\n",
       "      <td>20.71</td>\n",
       "      <td>NO</td>\n",
       "      <td>1618596646</td>\n",
       "    </tr>\n",
       "    <tr>\n",
       "      <th>3</th>\n",
       "      <td>castro</td>\n",
       "      <td>-24.7911</td>\n",
       "      <td>-50.0119</td>\n",
       "      <td>75.99</td>\n",
       "      <td>45</td>\n",
       "      <td>65</td>\n",
       "      <td>4.47</td>\n",
       "      <td>BR</td>\n",
       "      <td>1618596646</td>\n",
       "    </tr>\n",
       "    <tr>\n",
       "      <th>4</th>\n",
       "      <td>baykit</td>\n",
       "      <td>61.6700</td>\n",
       "      <td>96.3700</td>\n",
       "      <td>4.51</td>\n",
       "      <td>85</td>\n",
       "      <td>86</td>\n",
       "      <td>9.53</td>\n",
       "      <td>RU</td>\n",
       "      <td>1618596646</td>\n",
       "    </tr>\n",
       "  </tbody>\n",
       "</table>\n",
       "</div>"
      ],
      "text/plain": [
       "        City      Lat       Lng  Max Temp  Humidity  Cloudiness  Wind Speed  \\\n",
       "0  jamestown  42.0970  -79.2353     39.00       100          90       13.80   \n",
       "1      tiksi  71.6872  128.8694     -9.56       100          99        5.39   \n",
       "2      vadso  70.0744   29.7487     39.20        81          75       20.71   \n",
       "3     castro -24.7911  -50.0119     75.99        45          65        4.47   \n",
       "4     baykit  61.6700   96.3700      4.51        85          86        9.53   \n",
       "\n",
       "  Country        Date  \n",
       "0      US  1618596399  \n",
       "1      RU  1618596645  \n",
       "2      NO  1618596646  \n",
       "3      BR  1618596646  \n",
       "4      RU  1618596646  "
      ]
     },
     "execution_count": 10,
     "metadata": {},
     "output_type": "execute_result"
    }
   ],
   "source": [
    "# Make a new DataFrame equal to the city data to drop all humidity outliers by index.\n",
    "# Passing \"inplace=False\" will make a copy of the city_data DataFrame, which we call \"clean_city_data\".\n",
    "clean_city_data = city_df.drop(city_df.loc[city_df['Humidity'] > 100].index, inplace=False)\n",
    "clean_city_data.head()\n"
   ]
  },
  {
   "cell_type": "code",
   "execution_count": null,
   "metadata": {},
   "outputs": [],
   "source": []
  },
  {
   "cell_type": "code",
   "execution_count": null,
   "metadata": {},
   "outputs": [],
   "source": [
    "\n"
   ]
  },
  {
   "cell_type": "markdown",
   "metadata": {},
   "source": [
    "## Plotting the Data\n",
    "* Use proper labeling of the plots using plot titles (including date of analysis) and axes labels.\n",
    "* Save the plotted figures as .pngs."
   ]
  },
  {
   "cell_type": "markdown",
   "metadata": {},
   "source": [
    "## Latitude vs. Temperature Plot"
   ]
  },
  {
   "cell_type": "code",
   "execution_count": 39,
   "metadata": {
    "scrolled": true
   },
   "outputs": [
    {
     "data": {
      "image/png": "[encoded data removed]",
      "text/plain": [
       "<Figure size 432x288 with 1 Axes>"
      ]
     },
     "metadata": {
      "needs_background": "light"
     },
     "output_type": "display_data"
    },
    {
     "data": {
      "text/plain": [
       "<Figure size 432x288 with 0 Axes>"
      ]
     },
     "metadata": {},
     "output_type": "display_data"
    }
   ],
   "source": [
    "x_axis = clean_city_data['Lat']\n",
    "temp = clean_city_data['Max Temp']\n",
    "                           \n",
    "plt.scatter(x_axis, temp, marker=\"o\", color='blue', edgecolor='green')\n",
    "plt.xlabel('Latitude')\n",
    "plt.ylabel('Max Temperature (F)')\n",
    "plt.title(\"City Latitude vs. Max Temperature\")\n",
    "plt.show()\n"
   ]
  },
  {
   "cell_type": "markdown",
   "metadata": {},
   "source": [
    "## Latitude vs. Humidity Plot"
   ]
  },
  {
   "cell_type": "code",
   "execution_count": 40,
   "metadata": {},
   "outputs": [
    {
     "data": {
      "image/png": "[encoded data removed]",
      "text/plain": [
       "<Figure size 432x288 with 1 Axes>"
      ]
     },
     "metadata": {
      "needs_background": "light"
     },
     "output_type": "display_data"
    },
    {
     "data": {
      "text/plain": [
       "<Figure size 432x288 with 0 Axes>"
      ]
     },
     "metadata": {},
     "output_type": "display_data"
    }
   ],
   "source": [
    "x_axis = clean_city_data['Lat']\n",
    "y_axis = clean_city_data['Humidity']\n",
    "plt.scatter(x_axis, y_axis, marker=\"o\", color='blue', edgecolor='green')\n",
    "plt.xlabel('Latitude')\n",
    "plt.ylabel('Humidity %')\n",
    "plt.title(\"City Latitude vs. Humidity\")\n",
    "plt.show()\n"
   ]
  },
  {
   "cell_type": "markdown",
   "metadata": {},
   "source": [
    "## Latitude vs. Cloudiness Plot"
   ]
  },
  {
   "cell_type": "code",
   "execution_count": 41,
   "metadata": {},
   "outputs": [
    {
     "data": {
      "image/png": "[encoded data removed]",
      "text/plain": [
       "<Figure size 432x288 with 1 Axes>"
      ]
     },
     "metadata": {
      "needs_background": "light"
     },
     "output_type": "display_data"
    },
    {
     "data": {
      "text/plain": [
       "<Figure size 432x288 with 0 Axes>"
      ]
     },
     "metadata": {},
     "output_type": "display_data"
    }
   ],
   "source": [
    "x_axis = clean_city_data['Lat']\n",
    "clouds = clean_city_data['Max Temp']\n",
    "plt.scatter(x_axis, clouds, marker=\"o\", color='blue', edgecolor='green')\n",
    "plt.xlabel('Latitude')\n",
    "plt.ylabel('Cloudiness %')\n",
    "plt.title(\"City Latitude vs. Cloudiness\")\n",
    "plt.show()\n"
   ]
  },
  {
   "cell_type": "markdown",
   "metadata": {},
   "source": [
    "## Latitude vs. Wind Speed Plot"
   ]
  },
  {
   "cell_type": "code",
   "execution_count": 42,
   "metadata": {},
   "outputs": [
    {
     "data": {
      "image/png": "[encoded data removed]",
      "text/plain": [
       "<Figure size 432x288 with 1 Axes>"
      ]
     },
     "metadata": {
      "needs_background": "light"
     },
     "output_type": "display_data"
    },
    {
     "data": {
      "text/plain": [
       "<Figure size 432x288 with 0 Axes>"
      ]
     },
     "metadata": {},
     "output_type": "display_data"
    }
   ],
   "source": [
    "x_axis = clean_city_data['Lat']\n",
    "speed = clean_city_data['Wind Speed']\n",
    "plt.scatter(x_axis, speed, marker=\"o\", color='blue', edgecolor='green')\n",
    "plt.xlabel('Latitude')\n",
    "plt.ylabel('Wind Speed (mph)')\n",
    "plt.title(\"City Latitude vs. Wind Speed\")\n",
    "plt.show()\n"
   ]
  },
  {
   "cell_type": "markdown",
   "metadata": {},
   "source": [
    "# # Linear Regression"
   ]
  },
  {
   "cell_type": "code",
   "execution_count": 15,
   "metadata": {},
   "outputs": [],
   "source": [
    "#determine the north and south hemisphere to pull data from\n",
    "north_hemisphere = clean_city_data.loc[clean_city_data['Lat'] >= 0]\n",
    "#north_hemisphere\n",
    "south_hemisphere = clean_city_data.loc[clean_city_data['Lat'] < 0]\n",
    "#south_hemisphere"
   ]
  },
  {
   "cell_type": "markdown",
   "metadata": {},
   "source": [
    "####  Northern Hemisphere - Max Temp vs. Latitude Linear Regression"
   ]
  },
  {
   "cell_type": "code",
   "execution_count": 43,
   "metadata": {},
   "outputs": [
    {
     "data": {
      "image/png": "[encoded data removed]",
      "text/plain": [
       "<Figure size 432x288 with 1 Axes>"
      ]
     },
     "metadata": {
      "needs_background": "light"
     },
     "output_type": "display_data"
    },
    {
     "name": "stdout",
     "output_type": "stream",
     "text": [
      "The r-squared value is 0.7758533976111832\n"
     ]
    },
    {
     "data": {
      "text/plain": [
       "<Figure size 432x288 with 0 Axes>"
      ]
     },
     "metadata": {},
     "output_type": "display_data"
    }
   ],
   "source": [
    "x_axis = north_hemisphere['Lat']\n",
    "y_axis = north_hemisphere['Max Temp']\n",
    "(slope, intercept, rvalue, pvalue, stderr) = linregress(x_axis, y_axis)\n",
    "regress_values = x_axis * slope + intercept\n",
    "line_eq = \"y = \" + str(round(slope,2)) + \"x + \" + str(round(intercept,2))\n",
    "plt.scatter(x_axis, y_axis, color='blue', edgecolor='green')\n",
    "plt.xlabel('Latitude')\n",
    "plt.ylabel('Max Temp (F)')\n",
    "plt.title(\"N.Max Temp vs. Latitude Linear Regression\")\n",
    "plt.plot(x_axis,regress_values,\"r--\")\n",
    "plt.annotate(line_eq,(18,36),fontsize=15,color=\"green\")\n",
    "plt.show()\n",
    "print(f\"The r-squared value is {rvalue**2}\")\n"
   ]
  },
  {
   "cell_type": "markdown",
   "metadata": {},
   "source": [
    "####  Southern Hemisphere - Max Temp vs. Latitude Linear Regression"
   ]
  },
  {
   "cell_type": "code",
   "execution_count": 44,
   "metadata": {},
   "outputs": [
    {
     "data": {
      "image/png": "[encoded data removed]",
      "text/plain": [
       "<Figure size 432x288 with 1 Axes>"
      ]
     },
     "metadata": {
      "needs_background": "light"
     },
     "output_type": "display_data"
    },
    {
     "name": "stdout",
     "output_type": "stream",
     "text": [
      "The r-squared value is 0.42279838487949184\n"
     ]
    },
    {
     "data": {
      "text/plain": [
       "<Figure size 432x288 with 0 Axes>"
      ]
     },
     "metadata": {},
     "output_type": "display_data"
    }
   ],
   "source": [
    "x_axis = south_hemisphere['Lat']\n",
    "y_axis = south_hemisphere['Max Temp']\n",
    "(slope, intercept, rvalue, pvalue, stderr) = linregress(x_axis, y_axis)\n",
    "regress_values = x_axis * slope + intercept\n",
    "line_eq = \"y = \" + str(round(slope,2)) + \"x + \" + str(round(intercept,2))\n",
    "plt.scatter(x_axis, y_axis, color='blue', edgecolor='green')\n",
    "plt.xlabel('Latitude')\n",
    "plt.ylabel('Max Temp (F)')\n",
    "plt.title(\"S.Max Temp vs. Latitude Linear Regression\")\n",
    "plt.plot(x_axis,regress_values,\"r--\")\n",
    "plt.annotate(line_eq,(18,36),fontsize=15,color=\"green\")\n",
    "plt.show()\n",
    "print(f\"The r-squared value is {rvalue**2}\")\n"
   ]
  },
  {
   "cell_type": "markdown",
   "metadata": {},
   "source": [
    "####  Northern Hemisphere - Humidity (%) vs. Latitude Linear Regression"
   ]
  },
  {
   "cell_type": "code",
   "execution_count": 45,
   "metadata": {},
   "outputs": [
    {
     "data": {
      "image/png": "[encoded data removed]",
      "text/plain": [
       "<Figure size 432x288 with 1 Axes>"
      ]
     },
     "metadata": {
      "needs_background": "light"
     },
     "output_type": "display_data"
    },
    {
     "name": "stdout",
     "output_type": "stream",
     "text": [
      "The r-squared value is 0.06109094418218293\n"
     ]
    },
    {
     "data": {
      "text/plain": [
       "<Figure size 432x288 with 0 Axes>"
      ]
     },
     "metadata": {},
     "output_type": "display_data"
    }
   ],
   "source": [
    "x_axis = north_hemisphere['Lat']\n",
    "y_axis = north_hemisphere['Humidity']\n",
    "(slope, intercept, rvalue, pvalue, stderr) = linregress(x_axis, y_axis)\n",
    "regress_values = x_axis * slope + intercept\n",
    "line_eq = \"y = \" + str(round(slope,2)) + \"x + \" + str(round(intercept,2))\n",
    "plt.scatter(x_axis, y_axis, color='blue', edgecolor='green')\n",
    "plt.xlabel('Latitude')\n",
    "plt.ylabel('Humidity %')\n",
    "plt.title(\"N.Humidity vs. Latitude Linear Regression\")\n",
    "plt.plot(x_axis,regress_values,\"r--\")\n",
    "plt.annotate(line_eq,(18,36),fontsize=15,color=\"green\")\n",
    "plt.show()\n",
    "print(f\"The r-squared value is {rvalue**2}\")\n"
   ]
  },
  {
   "cell_type": "markdown",
   "metadata": {},
   "source": [
    "####  Southern Hemisphere - Humidity (%) vs. Latitude Linear Regression"
   ]
  },
  {
   "cell_type": "code",
   "execution_count": 46,
   "metadata": {},
   "outputs": [
    {
     "data": {
      "image/png": "[encoded data removed]",
      "text/plain": [
       "<Figure size 432x288 with 1 Axes>"
      ]
     },
     "metadata": {
      "needs_background": "light"
     },
     "output_type": "display_data"
    },
    {
     "name": "stdout",
     "output_type": "stream",
     "text": [
      "The r-squared value is 0.0634551207515364\n"
     ]
    },
    {
     "data": {
      "text/plain": [
       "<Figure size 432x288 with 0 Axes>"
      ]
     },
     "metadata": {},
     "output_type": "display_data"
    }
   ],
   "source": [
    "x_axis = south_hemisphere['Lat']\n",
    "y_axis = south_hemisphere['Humidity']\n",
    "(slope, intercept, rvalue, pvalue, stderr) = linregress(x_axis, y_axis)\n",
    "regress_values = x_axis * slope + intercept\n",
    "line_eq = \"y = \" + str(round(slope,2)) + \"x + \" + str(round(intercept,2))\n",
    "plt.scatter(x_axis, y_axis, color='blue', edgecolor='green')\n",
    "plt.xlabel('Latitude')\n",
    "plt.ylabel('Humidity %')\n",
    "plt.title(\"S.Humidity vs. Latitude Linear Regression\")\n",
    "plt.plot(x_axis,regress_values,\"r--\")\n",
    "plt.annotate(line_eq,(18,36),fontsize=15,color=\"green\")\n",
    "plt.show()\n",
    "print(f\"The r-squared value is {rvalue**2}\")\n"
   ]
  },
  {
   "cell_type": "markdown",
   "metadata": {},
   "source": [
    "####  Northern Hemisphere - Cloudiness (%) vs. Latitude Linear Regression"
   ]
  },
  {
   "cell_type": "code",
   "execution_count": 47,
   "metadata": {},
   "outputs": [
    {
     "data": {
      "image/png": "[encoded data removed]",
      "text/plain": [
       "<Figure size 432x288 with 1 Axes>"
      ]
     },
     "metadata": {
      "needs_background": "light"
     },
     "output_type": "display_data"
    },
    {
     "name": "stdout",
     "output_type": "stream",
     "text": [
      "The r-squared value is 0.0035955899411482597\n"
     ]
    },
    {
     "data": {
      "text/plain": [
       "<Figure size 432x288 with 0 Axes>"
      ]
     },
     "metadata": {},
     "output_type": "display_data"
    }
   ],
   "source": [
    "x_axis = north_hemisphere['Lat']\n",
    "y_axis = north_hemisphere['Cloudiness']\n",
    "(slope, intercept, rvalue, pvalue, stderr) = linregress(x_axis, y_axis)\n",
    "regress_values = x_axis * slope + intercept\n",
    "line_eq = \"y = \" + str(round(slope,2)) + \"x + \" + str(round(intercept,2))\n",
    "plt.scatter(x_axis, y_axis, color='blue', edgecolor='green')\n",
    "plt.xlabel('Latitude')\n",
    "plt.ylabel('Cloudiness %')\n",
    "plt.title(\"N.Cloudiness vs. Latitude Linear Regression\")\n",
    "plt.plot(x_axis,regress_values,\"r--\")\n",
    "plt.annotate(line_eq,(18,36),fontsize=15,color=\"green\")\n",
    "plt.show()\n",
    "print(f\"The r-squared value is {rvalue**2}\")\n"
   ]
  },
  {
   "cell_type": "markdown",
   "metadata": {},
   "source": [
    "####  Southern Hemisphere - Cloudiness (%) vs. Latitude Linear Regression"
   ]
  },
  {
   "cell_type": "code",
   "execution_count": 48,
   "metadata": {},
   "outputs": [
    {
     "data": {
      "image/png": "[encoded data removed]",
      "text/plain": [
       "<Figure size 432x288 with 1 Axes>"
      ]
     },
     "metadata": {
      "needs_background": "light"
     },
     "output_type": "display_data"
    },
    {
     "name": "stdout",
     "output_type": "stream",
     "text": [
      "The r-squared value is 0.009500007395838181\n"
     ]
    },
    {
     "data": {
      "text/plain": [
       "<Figure size 432x288 with 0 Axes>"
      ]
     },
     "metadata": {},
     "output_type": "display_data"
    }
   ],
   "source": [
    "x_axis = south_hemisphere['Lat']\n",
    "y_axis = south_hemisphere['Cloudiness']\n",
    "(slope, intercept, rvalue, pvalue, stderr) = linregress(x_axis, y_axis)\n",
    "regress_values = x_axis * slope + intercept\n",
    "line_eq = \"y = \" + str(round(slope,2)) + \"x + \" + str(round(intercept,2))\n",
    "plt.scatter(x_axis, y_axis, color='blue', edgecolor='green')\n",
    "plt.xlabel('Latitude')\n",
    "plt.ylabel('Cloudiness %')\n",
    "plt.title(\"S.Cloudiness vs. Latitude Linear Regression\")\n",
    "plt.plot(x_axis,regress_values,\"r--\")\n",
    "plt.annotate(line_eq,(18,36),fontsize=15,color=\"green\")\n",
    "plt.show()\n",
    "print(f\"The r-squared value is {rvalue**2}\")\n"
   ]
  },
  {
   "cell_type": "markdown",
   "metadata": {},
   "source": [
    "####  Northern Hemisphere - Wind Speed (mph) vs. Latitude Linear Regression"
   ]
  },
  {
   "cell_type": "code",
   "execution_count": 50,
   "metadata": {},
   "outputs": [
    {
     "data": {
      "image/png": "[encoded data removed]",
      "text/plain": [
       "<Figure size 432x288 with 1 Axes>"
      ]
     },
     "metadata": {
      "needs_background": "light"
     },
     "output_type": "display_data"
    },
    {
     "name": "stdout",
     "output_type": "stream",
     "text": [
      "The r-squared value is 0.007160813063447948\n"
     ]
    },
    {
     "data": {
      "text/plain": [
       "<Figure size 432x288 with 0 Axes>"
      ]
     },
     "metadata": {},
     "output_type": "display_data"
    }
   ],
   "source": [
    "x_axis = north_hemisphere['Lat']\n",
    "y_axis = north_hemisphere['Wind Speed']\n",
    "(slope, intercept, rvalue, pvalue, stderr) = linregress(x_axis, y_axis)\n",
    "regress_values = x_axis * slope + intercept\n",
    "line_eq = \"y = \" + str(round(slope,2)) + \"x + \" + str(round(intercept,2))\n",
    "plt.scatter(x_axis, y_axis, color='blue', edgecolor='green')\n",
    "plt.xlabel('Latitude')\n",
    "plt.ylabel('Wind Speed(mph)')\n",
    "plt.title(\"N.Wind Speed vs. Latitude Linear Regression\")\n",
    "plt.plot(x_axis,regress_values,\"r--\")\n",
    "plt.annotate(line_eq,(18,36),fontsize=15,color=\"green\")\n",
    "plt.show()\n",
    "print(f\"The r-squared value is {rvalue**2}\")\n"
   ]
  },
  {
   "cell_type": "markdown",
   "metadata": {},
   "source": [
    "####  Southern Hemisphere - Wind Speed (mph) vs. Latitude Linear Regression"
   ]
  },
  {
   "cell_type": "code",
   "execution_count": 52,
   "metadata": {},
   "outputs": [
    {
     "data": {
      "image/png": "[encoded data removed]",
      "text/plain": [
       "<Figure size 432x288 with 1 Axes>"
      ]
     },
     "metadata": {
      "needs_background": "light"
     },
     "output_type": "display_data"
    },
    {
     "name": "stdout",
     "output_type": "stream",
     "text": [
      "The r-squared value is 0.0633659106390999\n"
     ]
    },
    {
     "data": {
      "text/plain": [
       "<Figure size 432x288 with 0 Axes>"
      ]
     },
     "metadata": {},
     "output_type": "display_data"
    }
   ],
   "source": [
    "x_axis = south_hemisphere['Lat']\n",
    "y_axis = south_hemisphere['Wind Speed']\n",
    "(slope, intercept, rvalue, pvalue, stderr) = linregress(x_axis, y_axis)\n",
    "regress_values = x_axis * slope + intercept\n",
    "line_eq = \"y = \" + str(round(slope,2)) + \"x + \" + str(round(intercept,2))\n",
    "plt.scatter(x_axis, y_axis, color='blue', edgecolor='green')\n",
    "plt.xlabel('Latitude')\n",
    "plt.ylabel('Wind Speed(mph)')\n",
    "plt.title(\"S.Wind Speed vs. Latitude Linear Regression\")\n",
    "plt.plot(x_axis,regress_values,\"r--\")\n",
    "plt.annotate(line_eq,(18,36),fontsize=15,color=\"green\")\n",
    "plt.show()\n",
    "print(f\"The r-squared value is {rvalue**2}\")\n"
   ]
  },
  {
   "cell_type": "code",
   "execution_count": null,
   "metadata": {},
   "outputs": [],
   "source": []
  },
  {
   "cell_type": "code",
   "execution_count": null,
   "metadata": {},
   "outputs": [],
   "source": []
  }
 ],
 "metadata": {
  "anaconda-cloud": {},
  "kernel_info": {
   "name": "python3"
  },
  "kernelspec": {
   "display_name": "Python 3",
   "language": "python",
   "name": "python3"
  },
  "language_info": {
   "codemirror_mode": {
    "name": "ipython",
    "version": 3
   },
   "file_extension": ".py",
   "mimetype": "text/x-python",
   "name": "python",
   "nbconvert_exporter": "python",
   "pygments_lexer": "ipython3",
   "version": "3.8.5"
  },
  "latex_envs": {
   "LaTeX_envs_menu_present": true,
   "autoclose": false,
   "autocomplete": true,
   "bibliofile": "biblio.bib",
   "cite_by": "apalike",
   "current_citInitial": 1,
   "eqLabelWithNumbers": true,
   "eqNumInitial": 1,
   "hotkeys": {
    "equation": "Ctrl-E",
    "itemize": "Ctrl-I"
   },
   "labels_anchors": false,
   "latex_user_defs": false,
   "report_style_numbering": false,
   "user_envs_cfg": false
  },
  "nteract": {
   "version": "0.12.3"
  }
 },
 "nbformat": 4,
 "nbformat_minor": 2
}
