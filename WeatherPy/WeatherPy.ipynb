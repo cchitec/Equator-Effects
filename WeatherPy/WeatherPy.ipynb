{
 "cells": [
  {
   "cell_type": "markdown",
   "metadata": {},
   "source": [
    "# WeatherPy\n",
    "----\n",
    "\n",
    "#### Note\n",
    "* Instructions have been included for each segment. You do not have to follow them exactly, but they are included to help you think through the steps."
   ]
  },
  {
   "cell_type": "markdown",
   "metadata": {},
   "source": [
    "## Generate Cities List"
   ]
  },
  {
   "cell_type": "code",
   "execution_count": 1,
   "metadata": {
    "scrolled": true
   },
   "outputs": [],
   "source": [
    "# Dependencies and Setup\n",
    "import os\n",
    "import matplotlib.pyplot as plt\n",
    "import pandas as pd\n",
    "import numpy as np\n",
    "import requests\n",
    "import time\n",
    "from scipy.stats import linregress\n",
    "import json\n",
    "from pprint import pprint\n",
    "\n",
    "# Import API key\n",
    "from config import api_key\n",
    "\n",
    "# Incorporated citipy to determine city based on latitude and longitude\n",
    "from citipy import citipy\n",
    "\n",
    "# Output File (CSV)\n",
    "output_data_file = \"output_data/cities.csv\"\n",
    "\n",
    "# Range of latitudes and longitudes\n",
    "lat_range = (-90, 90)\n",
    "lng_range = (-180, 180)"
   ]
  },
  {
   "cell_type": "code",
   "execution_count": 2,
   "metadata": {},
   "outputs": [
    {
     "data": {
      "text/plain": [
       "595"
      ]
     },
     "execution_count": 2,
     "metadata": {},
     "output_type": "execute_result"
    }
   ],
   "source": [
    "# List for holding lat_lngs and cities\n",
    "lat_lngs = []\n",
    "cities = []\n",
    "\n",
    "# Create a set of random lat and lng combinations\n",
    "lats = np.random.uniform(lat_range[0], lat_range[1], size=1500)\n",
    "lngs = np.random.uniform(lng_range[0], lng_range[1], size=1500)\n",
    "lat_lngs = zip(lats, lngs)\n",
    "\n",
    "# Identify nearest city for each lat, lng combination\n",
    "for lat_lng in lat_lngs:\n",
    "    city = citipy.nearest_city(lat_lng[0], lat_lng[1]).city_name\n",
    "    \n",
    "    # If the city is unique, then add it to a our cities list\n",
    "    if city not in cities:\n",
    "        cities.append(city)\n",
    "\n",
    "# Print the city count to confirm sufficient count\n",
    "len(cities)\n",
    "#cities"
   ]
  },
  {
   "cell_type": "markdown",
   "metadata": {},
   "source": [
    "### Perform API Calls\n",
    "* Perform a weather check on each city using a series of successive API calls.\n",
    "* Include a print log of each city as it'sbeing processed (with the city number and city name).\n"
   ]
  },
  {
   "cell_type": "code",
   "execution_count": 3,
   "metadata": {},
   "outputs": [],
   "source": [
    "#url = \"http://api.openweathermap.org/data/2.5/weather?\"\n",
    "#units = \"imperial\"\n",
    "#query_url = f\"{url}appid={api_key}\"\n",
    "\n",
    "#target_url = query_url + city.replace(\" \", \"+\") + units\n",
    "#response = requests.get(target_url)\n",
    "#response_json = response.json()\n",
    "#response_json"
   ]
  },
  {
   "cell_type": "code",
   "execution_count": null,
   "metadata": {},
   "outputs": [
    {
     "name": "stdout",
     "output_type": "stream",
     "text": [
      "Beginning Data Retrieval    \n",
      "----------------------------\n",
      "Processing Record 1 of Set 1 | rikitea\n",
      "Processing Record 2 of Set 1 | sangar\n",
      "Processing Record 3 of Set 1 | qaanaaq\n",
      "Processing Record 4 of Set 1 | albany\n",
      "Processing Record 5 of Set 1 | mataura\n",
      "Processing Record 6 of Set 1 | unye\n",
      "City not found. Skipping ...\n",
      "Processing Record 7 of Set 1 | atuona\n",
      "Processing Record 8 of Set 1 | sao filipe\n",
      "Processing Record 9 of Set 1 | port alfred\n",
      "Processing Record 10 of Set 1 | komsomolskiy\n",
      "Processing Record 11 of Set 1 | aksu\n",
      "Processing Record 12 of Set 1 | bargal\n",
      "City not found. Skipping ...\n",
      "Processing Record 13 of Set 1 | semirom\n",
      "Processing Record 14 of Set 1 | skalistyy\n",
      "City not found. Skipping ...\n",
      "Processing Record 15 of Set 1 | ushuaia\n",
      "Processing Record 16 of Set 1 | kapaa\n",
      "Processing Record 17 of Set 1 | puerto ayora\n",
      "Processing Record 18 of Set 1 | busselton\n",
      "Processing Record 19 of Set 1 | vierzon\n",
      "Processing Record 20 of Set 1 | carnarvon\n",
      "Processing Record 21 of Set 1 | tsihombe\n",
      "City not found. Skipping ...\n",
      "Processing Record 22 of Set 1 | namatanai\n",
      "Processing Record 23 of Set 1 | hermanus\n",
      "Processing Record 24 of Set 1 | tabou\n",
      "Processing Record 25 of Set 1 | chagda\n",
      "City not found. Skipping ...\n",
      "Processing Record 26 of Set 1 | salalah\n",
      "Processing Record 27 of Set 1 | lebu\n",
      "Processing Record 28 of Set 1 | cherskiy\n",
      "Processing Record 29 of Set 1 | fuerte olimpo\n",
      "Processing Record 30 of Set 1 | port macquarie\n",
      "Processing Record 31 of Set 1 | anadyr\n",
      "Processing Record 32 of Set 1 | kenai\n",
      "Processing Record 33 of Set 1 | puerto escondido\n",
      "Processing Record 34 of Set 1 | sambava\n",
      "Processing Record 35 of Set 1 | tasiilaq\n",
      "Processing Record 36 of Set 1 | grindavik\n",
      "Processing Record 37 of Set 1 | hobart\n",
      "Processing Record 38 of Set 1 | aflu\n",
      "City not found. Skipping ...\n",
      "Processing Record 39 of Set 1 | cape town\n",
      "Processing Record 40 of Set 1 | kodiak\n",
      "Processing Record 41 of Set 1 | fairbanks\n",
      "Processing Record 42 of Set 1 | sur\n",
      "Processing Record 43 of Set 1 | faanui\n",
      "Processing Record 44 of Set 1 | buzuluk\n",
      "Processing Record 45 of Set 1 | uzhur-4\n",
      "City not found. Skipping ...\n",
      "Processing Record 46 of Set 1 | san francisco\n",
      "Processing Record 47 of Set 1 | attawapiskat\n",
      "City not found. Skipping ...\n",
      "Processing Record 48 of Set 1 | bethel\n",
      "Processing Record 49 of Set 1 | gat\n",
      "Processing Record 50 of Set 1 | nizhneyansk\n",
      "City not found. Skipping ...\n",
      "Processing Record 0 of Set 2 | klaksvik\n",
      "Processing Record 1 of Set 2 | kaitangata\n",
      "Processing Record 2 of Set 2 | barrow\n",
      "Processing Record 3 of Set 2 | moundsville\n",
      "Processing Record 4 of Set 2 | beisfjord\n",
      "Processing Record 5 of Set 2 | damara\n",
      "Processing Record 6 of Set 2 | chastyye\n",
      "Processing Record 7 of Set 2 | san cristobal\n",
      "Processing Record 8 of Set 2 | san rafael\n",
      "Processing Record 9 of Set 2 | pascagoula\n",
      "Processing Record 10 of Set 2 | karratha\n",
      "Processing Record 11 of Set 2 | alekseyevsk\n",
      "Processing Record 12 of Set 2 | thompson\n",
      "Processing Record 13 of Set 2 | matola\n",
      "Processing Record 14 of Set 2 | yellowknife\n",
      "Processing Record 15 of Set 2 | mount gambier\n",
      "Processing Record 16 of Set 2 | celestun\n",
      "Processing Record 17 of Set 2 | norman wells\n",
      "Processing Record 18 of Set 2 | nieuw amsterdam\n",
      "Processing Record 19 of Set 2 | georgetown\n",
      "Processing Record 20 of Set 2 | new norfolk\n",
      "Processing Record 21 of Set 2 | den helder\n",
      "Processing Record 22 of Set 2 | meridian\n",
      "Processing Record 23 of Set 2 | punta arenas\n",
      "Processing Record 24 of Set 2 | mayumba\n",
      "Processing Record 25 of Set 2 | halalo\n",
      "City not found. Skipping ...\n",
      "Processing Record 26 of Set 2 | victoria\n",
      "Processing Record 27 of Set 2 | vila velha\n",
      "Processing Record 28 of Set 2 | mar del plata\n",
      "Processing Record 29 of Set 2 | illoqqortoormiut\n",
      "City not found. Skipping ...\n",
      "Processing Record 30 of Set 2 | nampa\n",
      "Processing Record 31 of Set 2 | saint george\n",
      "Processing Record 32 of Set 2 | maputo\n",
      "Processing Record 33 of Set 2 | oleksandrivka\n",
      "Processing Record 34 of Set 2 | ahipara\n",
      "Processing Record 35 of Set 2 | nome\n",
      "Processing Record 36 of Set 2 | krasnoselkup\n",
      "Processing Record 37 of Set 2 | vaini\n",
      "Processing Record 38 of Set 2 | saint-philippe\n",
      "Processing Record 39 of Set 2 | mocuba\n",
      "Processing Record 40 of Set 2 | vaitupu\n",
      "City not found. Skipping ...\n",
      "Processing Record 41 of Set 2 | grand centre\n",
      "City not found. Skipping ...\n",
      "Processing Record 42 of Set 2 | kruisfontein\n",
      "Processing Record 43 of Set 2 | codrington\n",
      "Processing Record 44 of Set 2 | lewisporte\n",
      "Processing Record 45 of Set 2 | pangnirtung\n",
      "Processing Record 46 of Set 2 | ladan\n",
      "Processing Record 47 of Set 2 | kaduqli\n",
      "Processing Record 48 of Set 2 | kloulklubed\n",
      "Processing Record 49 of Set 2 | butaritari\n",
      "Processing Record 0 of Set 3 | xining\n",
      "Processing Record 1 of Set 3 | warrington\n",
      "Processing Record 2 of Set 3 | rorvik\n",
      "Processing Record 3 of Set 3 | bukachacha\n",
      "Processing Record 4 of Set 3 | saldanha\n",
      "Processing Record 5 of Set 3 | bambous virieux\n",
      "Processing Record 6 of Set 3 | narsaq\n",
      "Processing Record 7 of Set 3 | fortuna\n",
      "Processing Record 8 of Set 3 | tiksi\n",
      "Processing Record 9 of Set 3 | chokurdakh\n",
      "Processing Record 10 of Set 3 | castro\n",
      "Processing Record 11 of Set 3 | robertsport\n",
      "Processing Record 12 of Set 3 | hithadhoo\n",
      "Processing Record 13 of Set 3 | hoopstad\n",
      "Processing Record 14 of Set 3 | belushya guba\n",
      "City not found. Skipping ...\n",
      "Processing Record 15 of Set 3 | tabuk\n",
      "Processing Record 16 of Set 3 | mastic beach\n",
      "Processing Record 17 of Set 3 | arraial do cabo\n",
      "Processing Record 18 of Set 3 | caravelas\n",
      "Processing Record 19 of Set 3 | bac lieu\n",
      "Processing Record 20 of Set 3 | taolanaro\n",
      "City not found. Skipping ...\n",
      "Processing Record 21 of Set 3 | bumba\n",
      "Processing Record 22 of Set 3 | charters towers\n",
      "Processing Record 23 of Set 3 | kuzovatovo\n",
      "Processing Record 24 of Set 3 | mumford\n",
      "Processing Record 25 of Set 3 | touros\n",
      "Processing Record 26 of Set 3 | alta floresta\n",
      "Processing Record 27 of Set 3 | burica\n",
      "City not found. Skipping ...\n",
      "Processing Record 28 of Set 3 | port elizabeth\n",
      "Processing Record 29 of Set 3 | kaduy\n",
      "Processing Record 30 of Set 3 | cayenne\n",
      "Processing Record 31 of Set 3 | aykhal\n",
      "Processing Record 32 of Set 3 | brigantine\n",
      "Processing Record 33 of Set 3 | bredasdorp\n",
      "Processing Record 34 of Set 3 | ponta do sol\n",
      "Processing Record 35 of Set 3 | arcata\n",
      "Processing Record 36 of Set 3 | dali\n",
      "Processing Record 37 of Set 3 | bluff\n",
      "Processing Record 38 of Set 3 | laguna\n",
      "Processing Record 39 of Set 3 | mugur-aksy\n",
      "Processing Record 40 of Set 3 | harindanga\n",
      "Processing Record 41 of Set 3 | korla\n",
      "Processing Record 42 of Set 3 | hilo\n",
      "Processing Record 43 of Set 3 | lavrentiya\n",
      "Processing Record 44 of Set 3 | shellbrook\n",
      "Processing Record 45 of Set 3 | broken hill\n",
      "Processing Record 46 of Set 3 | ostrovnoy\n",
      "Processing Record 47 of Set 3 | alekseyevka\n",
      "Processing Record 48 of Set 3 | baykit\n",
      "Processing Record 49 of Set 3 | nalut\n",
      "Processing Record 0 of Set 4 | clyde river\n",
      "Processing Record 1 of Set 4 | rungata\n",
      "City not found. Skipping ...\n",
      "Processing Record 2 of Set 4 | barentsburg\n",
      "City not found. Skipping ...\n",
      "Processing Record 3 of Set 4 | agirish\n",
      "Processing Record 4 of Set 4 | marcona\n",
      "City not found. Skipping ...\n",
      "Processing Record 5 of Set 4 | newport\n",
      "Processing Record 6 of Set 4 | golden\n",
      "Processing Record 7 of Set 4 | esperance\n",
      "Processing Record 8 of Set 4 | mount isa\n",
      "Processing Record 9 of Set 4 | hamilton\n",
      "Processing Record 10 of Set 4 | upernavik\n",
      "Processing Record 11 of Set 4 | alofi\n",
      "Processing Record 12 of Set 4 | puerto del rosario\n",
      "Processing Record 13 of Set 4 | montepuez\n",
      "Processing Record 14 of Set 4 | severo-kurilsk\n",
      "Processing Record 15 of Set 4 | nikolskoye\n",
      "Processing Record 16 of Set 4 | assiniboia\n",
      "Processing Record 17 of Set 4 | hambantota\n",
      "Processing Record 18 of Set 4 | buraydah\n",
      "Processing Record 19 of Set 4 | inuvik\n",
      "Processing Record 20 of Set 4 | husavik\n",
      "Processing Record 21 of Set 4 | ribeira grande\n",
      "Processing Record 22 of Set 4 | san quintin\n",
      "Processing Record 23 of Set 4 | katherine\n",
      "Processing Record 24 of Set 4 | razdolnoye\n",
      "Processing Record 25 of Set 4 | martapura\n",
      "Processing Record 26 of Set 4 | champerico\n",
      "Processing Record 27 of Set 4 | menongue\n",
      "Processing Record 28 of Set 4 | turukhansk\n",
      "Processing Record 29 of Set 4 | coahuayana\n",
      "Processing Record 30 of Set 4 | zhicheng\n",
      "Processing Record 31 of Set 4 | altay\n",
      "Processing Record 32 of Set 4 | cockburn town\n"
     ]
    },
    {
     "name": "stdout",
     "output_type": "stream",
     "text": [
      "Processing Record 33 of Set 4 | chuy\n",
      "Processing Record 34 of Set 4 | calnali\n",
      "Processing Record 35 of Set 4 | tuktoyaktuk\n",
      "Processing Record 36 of Set 4 | kavieng\n",
      "Processing Record 37 of Set 4 | meyungs\n",
      "City not found. Skipping ...\n",
      "Processing Record 38 of Set 4 | pisco\n",
      "Processing Record 39 of Set 4 | cururupu\n",
      "Processing Record 40 of Set 4 | port lincoln\n",
      "Processing Record 41 of Set 4 | east london\n",
      "Processing Record 42 of Set 4 | vaitape\n",
      "Processing Record 43 of Set 4 | freeport\n",
      "Processing Record 44 of Set 4 | jamestown\n",
      "Processing Record 45 of Set 4 | yeovil\n",
      "Processing Record 46 of Set 4 | constitucion\n",
      "Processing Record 47 of Set 4 | yerbogachen\n",
      "Processing Record 48 of Set 4 | leningradskiy\n",
      "Processing Record 49 of Set 4 | inta\n",
      "Processing Record 0 of Set 5 | shahr-e babak\n",
      "Processing Record 1 of Set 5 | airai\n",
      "Processing Record 2 of Set 5 | vostok\n",
      "Processing Record 3 of Set 5 | sentyabrskiy\n",
      "City not found. Skipping ...\n",
      "Processing Record 4 of Set 5 | coracora\n",
      "Processing Record 5 of Set 5 | kidal\n",
      "Processing Record 6 of Set 5 | pemangkat\n",
      "Processing Record 7 of Set 5 | boa vista\n",
      "Processing Record 8 of Set 5 | portadown\n",
      "Processing Record 9 of Set 5 | launceston\n",
      "Processing Record 10 of Set 5 | lorengau\n",
      "Processing Record 11 of Set 5 | whitianga\n",
      "Processing Record 12 of Set 5 | torbay\n",
      "Processing Record 13 of Set 5 | akyab\n",
      "Processing Record 14 of Set 5 | naze\n",
      "Processing Record 15 of Set 5 | dikson\n",
      "Processing Record 16 of Set 5 | anshun\n",
      "Processing Record 17 of Set 5 | lisakovsk\n",
      "Processing Record 18 of Set 5 | buritis\n",
      "Processing Record 19 of Set 5 | aripuana\n",
      "Processing Record 20 of Set 5 | puerto gaitan\n",
      "Processing Record 21 of Set 5 | iqaluit\n",
      "Processing Record 22 of Set 5 | hofn\n",
      "Processing Record 23 of Set 5 | boyolangu\n",
      "Processing Record 24 of Set 5 | armacao dos buzios\n",
      "City not found. Skipping ...\n",
      "Processing Record 25 of Set 5 | preston\n",
      "Processing Record 26 of Set 5 | geraldton\n",
      "Processing Record 27 of Set 5 | haines junction\n",
      "Processing Record 28 of Set 5 | auki\n",
      "Processing Record 29 of Set 5 | rehoboth\n",
      "Processing Record 30 of Set 5 | pousat\n",
      "City not found. Skipping ...\n",
      "Processing Record 31 of Set 5 | igarka\n",
      "Processing Record 32 of Set 5 | nabire\n",
      "Processing Record 33 of Set 5 | praia da vitoria\n",
      "Processing Record 34 of Set 5 | birao\n",
      "Processing Record 35 of Set 5 | muros\n",
      "Processing Record 36 of Set 5 | yar-sale\n",
      "Processing Record 37 of Set 5 | madinat sittah uktubar\n",
      "Processing Record 38 of Set 5 | oksbol\n",
      "Processing Record 39 of Set 5 | saryshagan\n",
      "City not found. Skipping ...\n",
      "Processing Record 40 of Set 5 | vardo\n",
      "Processing Record 41 of Set 5 | ilulissat\n",
      "Processing Record 42 of Set 5 | ovsyanka\n",
      "Processing Record 43 of Set 5 | tadine\n",
      "Processing Record 44 of Set 5 | bonthe\n",
      "Processing Record 45 of Set 5 | hami\n",
      "Processing Record 46 of Set 5 | umzimvubu\n",
      "City not found. Skipping ...\n",
      "Processing Record 47 of Set 5 | mirabad\n",
      "Processing Record 48 of Set 5 | kendal\n",
      "Processing Record 49 of Set 5 | saskylakh\n",
      "Processing Record 0 of Set 6 | atambua\n",
      "Processing Record 1 of Set 6 | mao\n",
      "Processing Record 2 of Set 6 | suluq\n",
      "Processing Record 3 of Set 6 | raudeberg\n",
      "Processing Record 4 of Set 6 | yarmouth\n",
      "Processing Record 5 of Set 6 | vila franca do campo\n",
      "Processing Record 6 of Set 6 | pevek\n",
      "Processing Record 7 of Set 6 | santiago\n",
      "Processing Record 8 of Set 6 | marawi\n",
      "Processing Record 9 of Set 6 | rocha\n",
      "Processing Record 10 of Set 6 | goderich\n",
      "Processing Record 11 of Set 6 | taksimo\n",
      "Processing Record 12 of Set 6 | bathsheba\n",
      "Processing Record 13 of Set 6 | souillac\n",
      "Processing Record 14 of Set 6 | louisbourg\n",
      "City not found. Skipping ...\n",
      "Processing Record 15 of Set 6 | mamallapuram\n",
      "Processing Record 16 of Set 6 | cabo san lucas\n",
      "Processing Record 17 of Set 6 | florence\n",
      "Processing Record 18 of Set 6 | luena\n",
      "Processing Record 19 of Set 6 | mamakan\n",
      "Processing Record 20 of Set 6 | ternate\n",
      "Processing Record 21 of Set 6 | oktyabrskoye\n",
      "Processing Record 22 of Set 6 | ayan\n",
      "Processing Record 23 of Set 6 | chanthaburi\n",
      "Processing Record 24 of Set 6 | urusha\n",
      "Processing Record 25 of Set 6 | la orilla\n",
      "Processing Record 26 of Set 6 | san ignacio\n",
      "Processing Record 27 of Set 6 | rio gallegos\n",
      "Processing Record 28 of Set 6 | williston\n",
      "Processing Record 29 of Set 6 | berlevag\n",
      "Processing Record 30 of Set 6 | basco\n",
      "Processing Record 31 of Set 6 | mys shmidta\n",
      "City not found. Skipping ...\n",
      "Processing Record 32 of Set 6 | hoi an\n",
      "Processing Record 33 of Set 6 | guerrero negro\n",
      "Processing Record 34 of Set 6 | henties bay\n",
      "Processing Record 35 of Set 6 | ulladulla\n",
      "Processing Record 36 of Set 6 | umm lajj\n",
      "Processing Record 37 of Set 6 | kyle of lochalsh\n",
      "City not found. Skipping ...\n",
      "Processing Record 38 of Set 6 | kovilpatti\n",
      "Processing Record 39 of Set 6 | huron\n",
      "Processing Record 40 of Set 6 | hasaki\n",
      "Processing Record 41 of Set 6 | wahran\n",
      "City not found. Skipping ...\n",
      "Processing Record 42 of Set 6 | oranjestad\n",
      "Processing Record 43 of Set 6 | bilma\n",
      "Processing Record 44 of Set 6 | bubaque\n",
      "Processing Record 45 of Set 6 | amarwara\n",
      "Processing Record 46 of Set 6 | saint-augustin\n",
      "Processing Record 47 of Set 6 | nioki\n",
      "Processing Record 48 of Set 6 | pacific grove\n",
      "Processing Record 49 of Set 6 | road town\n",
      "Processing Record 0 of Set 7 | lagoa\n",
      "Processing Record 1 of Set 7 | namibe\n",
      "Processing Record 2 of Set 7 | srednekolymsk\n",
      "Processing Record 3 of Set 7 | tuatapere\n",
      "Processing Record 4 of Set 7 | vao\n",
      "Processing Record 5 of Set 7 | mogadishu\n",
      "Processing Record 6 of Set 7 | maniitsoq\n",
      "Processing Record 7 of Set 7 | marzuq\n",
      "Processing Record 8 of Set 7 | melbu\n",
      "Processing Record 9 of Set 7 | yumen\n",
      "Processing Record 10 of Set 7 | warqla\n",
      "City not found. Skipping ...\n",
      "Processing Record 11 of Set 7 | vilhena\n",
      "Processing Record 12 of Set 7 | barawe\n",
      "City not found. Skipping ...\n",
      "Processing Record 13 of Set 7 | swift current\n",
      "Processing Record 14 of Set 7 | englewood\n",
      "Processing Record 15 of Set 7 | landerneau\n",
      "Processing Record 16 of Set 7 | bela\n",
      "Processing Record 17 of Set 7 | nouadhibou\n",
      "Processing Record 18 of Set 7 | lima\n",
      "Processing Record 19 of Set 7 | santa rosa\n",
      "Processing Record 20 of Set 7 | sorland\n",
      "Processing Record 21 of Set 7 | bengkulu\n",
      "Processing Record 22 of Set 7 | bunia\n",
      "Processing Record 23 of Set 7 | ifanadiana\n",
      "Processing Record 24 of Set 7 | kutum\n",
      "Processing Record 25 of Set 7 | kudahuvadhoo\n",
      "Processing Record 26 of Set 7 | petropavlovsk-kamchatskiy\n",
      "Processing Record 27 of Set 7 | lompoc\n",
      "Processing Record 28 of Set 7 | genhe\n",
      "Processing Record 29 of Set 7 | taburi\n",
      "City not found. Skipping ...\n",
      "Processing Record 30 of Set 7 | doha\n",
      "Processing Record 31 of Set 7 | flin flon\n",
      "Processing Record 32 of Set 7 | cassia\n",
      "Processing Record 33 of Set 7 | luderitz\n",
      "Processing Record 34 of Set 7 | avarua\n",
      "Processing Record 35 of Set 7 | tumannyy\n",
      "City not found. Skipping ...\n",
      "Processing Record 36 of Set 7 | sharjah\n",
      "Processing Record 37 of Set 7 | khatanga\n",
      "Processing Record 38 of Set 7 | great falls\n",
      "Processing Record 39 of Set 7 | ribeira brava\n",
      "Processing Record 40 of Set 7 | paarl\n",
      "Processing Record 41 of Set 7 | pueblo\n",
      "Processing Record 42 of Set 7 | pangoa\n",
      "Processing Record 43 of Set 7 | ahuimanu\n",
      "Processing Record 44 of Set 7 | takaka\n",
      "Processing Record 45 of Set 7 | staritsa\n",
      "Processing Record 46 of Set 7 | palabuhanratu\n",
      "City not found. Skipping ...\n",
      "Processing Record 47 of Set 7 | anuppur\n",
      "Processing Record 48 of Set 7 | javanrud\n",
      "Processing Record 49 of Set 7 | benghazi\n",
      "Processing Record 0 of Set 8 | kortkeros\n",
      "Processing Record 1 of Set 8 | samusu\n",
      "City not found. Skipping ...\n",
      "Processing Record 2 of Set 8 | banikoara\n",
      "Processing Record 3 of Set 8 | east wenatchee bench\n",
      "Processing Record 4 of Set 8 | bella vista\n",
      "Processing Record 5 of Set 8 | suna\n",
      "Processing Record 6 of Set 8 | kununurra\n",
      "Processing Record 7 of Set 8 | niamey\n",
      "Processing Record 8 of Set 8 | cabedelo\n",
      "Processing Record 9 of Set 8 | nouakchott\n",
      "Processing Record 10 of Set 8 | shihezi\n",
      "Processing Record 11 of Set 8 | soignies\n",
      "Processing Record 12 of Set 8 | freetown\n",
      "Processing Record 13 of Set 8 | tubruq\n",
      "City not found. Skipping ...\n",
      "Processing Record 14 of Set 8 | kapit\n",
      "Processing Record 15 of Set 8 | siuna\n",
      "Processing Record 16 of Set 8 | dhidhdhoo\n",
      "Processing Record 17 of Set 8 | gambela\n",
      "Processing Record 18 of Set 8 | dingle\n",
      "Processing Record 19 of Set 8 | valdez\n",
      "Processing Record 20 of Set 8 | quatre cocos\n"
     ]
    },
    {
     "name": "stdout",
     "output_type": "stream",
     "text": [
      "Processing Record 21 of Set 8 | oriximina\n",
      "Processing Record 22 of Set 8 | garavuti\n",
      "Processing Record 23 of Set 8 | sitka\n",
      "Processing Record 24 of Set 8 | innisfail\n",
      "Processing Record 25 of Set 8 | roma\n",
      "Processing Record 26 of Set 8 | longyearbyen\n",
      "Processing Record 27 of Set 8 | cravo norte\n",
      "Processing Record 28 of Set 8 | aracati\n",
      "Processing Record 29 of Set 8 | sola\n",
      "Processing Record 30 of Set 8 | la ronge\n",
      "Processing Record 31 of Set 8 | nyurba\n",
      "Processing Record 32 of Set 8 | jumla\n",
      "Processing Record 33 of Set 8 | poum\n",
      "Processing Record 34 of Set 8 | tautira\n",
      "Processing Record 35 of Set 8 | uetze\n",
      "Processing Record 36 of Set 8 | cotonou\n",
      "Processing Record 37 of Set 8 | faya\n",
      "Processing Record 38 of Set 8 | nioro\n",
      "Processing Record 39 of Set 8 | goundam\n",
      "Processing Record 40 of Set 8 | najran\n",
      "Processing Record 41 of Set 8 | cidreira\n",
      "Processing Record 42 of Set 8 | flinders\n",
      "Processing Record 43 of Set 8 | denpasar\n",
      "Processing Record 44 of Set 8 | lowestoft\n",
      "Processing Record 45 of Set 8 | dezhou\n",
      "Processing Record 46 of Set 8 | gualaquiza\n",
      "Processing Record 47 of Set 8 | pokrovsk\n",
      "Processing Record 48 of Set 8 | gamba\n"
     ]
    }
   ],
   "source": [
    "url = \"http://api.openweathermap.org/data/2.5/weather?\"\n",
    "\n",
    "query_url = \"http://api.openweathermap.org/data/2.5/weather?units=Imperial&APPID=\" + api_key   \n",
    "\n",
    "city_data = []\n",
    "\n",
    "print(\"Beginning Data Retrieval    \")\n",
    "print(\"----------------------------\")\n",
    "\n",
    "#counters\n",
    "record_num =1\n",
    "set_num = 1\n",
    "\n",
    "for i, city in enumerate(cities):\n",
    "   #create groups of 50\n",
    "    if (i% 50 == 0 and i >= 50):\n",
    "        set_num += 1\n",
    "        record_num = 0\n",
    "        \n",
    "    #url for the loop to run through\n",
    "    city_url = query_url + \"&q=\" + city.replace(\" \", \"+\")\n",
    "    #print(city_url)\n",
    "    \n",
    "    print(\"Processing Record {} of Set {} | {}\".format(record_num, set_num, city))\n",
    "    \n",
    "    #update record_num within the loop\n",
    "    record_num += 1\n",
    "    \n",
    "    #request info on each city\n",
    "    try:\n",
    "        city_response = requests.get(city_url).json()\n",
    "        \n",
    "        #within this response find the data necessary for DataFrame\n",
    "        city_lat = city_response[\"coord\"][\"lat\"]\n",
    "        city_lon = city_response[\"coord\"][\"lon\"]\n",
    "        city_max_temp = city_response[\"main\"][\"temp_max\"]\n",
    "        city_humidity = city_response[\"main\"][\"humidity\"]\n",
    "        city_cloudiness = city_response[\"clouds\"][\"all\"]\n",
    "        city_windspeed = city_response[\"wind\"][\"speed\"]\n",
    "        city_country = city_response[\"sys\"][\"country\"]\n",
    "        city_date = city_response[\"dt\"]\n",
    "        \n",
    "        #append the city info to empty list\n",
    "        city_data.append({\"City\": city,\n",
    "                         \"Lat\": city_lat, \n",
    "                         \"Lng\": city_lon,\n",
    "                         \"Max Temp\": city_max_temp, \n",
    "                         \"Humidity\": city_humidity, \n",
    "                         \"Cloudiness\": city_cloudiness, \n",
    "                         \"Wind Speed\": city_windspeed,\n",
    "                         \"Country\": city_country, \n",
    "                         \"Date\": city_date})\n",
    "    #if no city info is found, skip\n",
    "    except:\n",
    "        print(\"City not found. Skipping ...\")\n",
    "        pass\n",
    "    \n",
    "print(\"---------------------\")\n",
    "print(\"Data Retrieval Complete\")\n",
    "print(\"---------------------\")    \n",
    "\n",
    "\n"
   ]
  },
  {
   "cell_type": "markdown",
   "metadata": {},
   "source": [
    "### Convert Raw Data to DataFrame\n",
    "* Export the city data into a .csv.\n",
    "* Display the DataFrame"
   ]
  },
  {
   "cell_type": "code",
   "execution_count": null,
   "metadata": {},
   "outputs": [],
   "source": [
    "#city_dict = {'City': city, 'Lat': [lat], 'Lng': lon, 'Max Temp': max_temp, 'Humidity': humidity, 'Cloudiness': cloudiness, 'Wind Speed': windspeed, 'Country': country, 'Date': date}\n",
    "city_df = pd.DataFrame(city_data)\n",
    "city_df"
   ]
  },
  {
   "cell_type": "code",
   "execution_count": null,
   "metadata": {},
   "outputs": [],
   "source": [
    "city_df.to_csv(index=False)"
   ]
  },
  {
   "cell_type": "code",
   "execution_count": null,
   "metadata": {},
   "outputs": [],
   "source": [
    "city_df.describe()"
   ]
  },
  {
   "cell_type": "markdown",
   "metadata": {},
   "source": [
    "## Inspect the data and remove the cities where the humidity > 100%.\n",
    "----\n",
    "Skip this step if there are no cities that have humidity > 100%. "
   ]
  },
  {
   "cell_type": "code",
   "execution_count": null,
   "metadata": {},
   "outputs": [],
   "source": [
    "new_city_df = city_df.drop(city_df.loc[city_df['Humidity'] > 100].index)\n",
    "new_city_df.describe()"
   ]
  },
  {
   "cell_type": "code",
   "execution_count": null,
   "metadata": {},
   "outputs": [],
   "source": [
    "#  Get the indices of cities that have humidity over 100%."
   ]
  },
  {
   "cell_type": "code",
   "execution_count": null,
   "metadata": {
    "scrolled": true
   },
   "outputs": [],
   "source": [
    "# Make a new DataFrame equal to the city data to drop all humidity outliers by index.\n",
    "# Passing \"inplace=False\" will make a copy of the city_data DataFrame, which we call \"clean_city_data\".\n",
    "clean_city_data = city_df.drop(city_df.loc[city_df['Humidity'] > 100].index, inplace=False)\n",
    "clean_city_data.head()\n"
   ]
  },
  {
   "cell_type": "code",
   "execution_count": null,
   "metadata": {},
   "outputs": [],
   "source": []
  },
  {
   "cell_type": "code",
   "execution_count": null,
   "metadata": {},
   "outputs": [],
   "source": [
    "\n"
   ]
  },
  {
   "cell_type": "markdown",
   "metadata": {},
   "source": [
    "## Plotting the Data\n",
    "* Use proper labeling of the plots using plot titles (including date of analysis) and axes labels.\n",
    "* Save the plotted figures as .pngs."
   ]
  },
  {
   "cell_type": "markdown",
   "metadata": {},
   "source": [
    "## Latitude vs. Temperature Plot"
   ]
  },
  {
   "cell_type": "code",
   "execution_count": null,
   "metadata": {
    "scrolled": true
   },
   "outputs": [],
   "source": []
  },
  {
   "cell_type": "markdown",
   "metadata": {},
   "source": [
    "## Latitude vs. Humidity Plot"
   ]
  },
  {
   "cell_type": "code",
   "execution_count": null,
   "metadata": {},
   "outputs": [],
   "source": []
  },
  {
   "cell_type": "markdown",
   "metadata": {},
   "source": [
    "## Latitude vs. Cloudiness Plot"
   ]
  },
  {
   "cell_type": "code",
   "execution_count": null,
   "metadata": {},
   "outputs": [],
   "source": []
  },
  {
   "cell_type": "markdown",
   "metadata": {},
   "source": [
    "## Latitude vs. Wind Speed Plot"
   ]
  },
  {
   "cell_type": "code",
   "execution_count": null,
   "metadata": {},
   "outputs": [],
   "source": []
  },
  {
   "cell_type": "markdown",
   "metadata": {},
   "source": [
    "## Linear Regression"
   ]
  },
  {
   "cell_type": "code",
   "execution_count": null,
   "metadata": {},
   "outputs": [],
   "source": []
  },
  {
   "cell_type": "markdown",
   "metadata": {},
   "source": [
    "####  Northern Hemisphere - Max Temp vs. Latitude Linear Regression"
   ]
  },
  {
   "cell_type": "code",
   "execution_count": null,
   "metadata": {},
   "outputs": [],
   "source": []
  },
  {
   "cell_type": "markdown",
   "metadata": {},
   "source": [
    "####  Southern Hemisphere - Max Temp vs. Latitude Linear Regression"
   ]
  },
  {
   "cell_type": "code",
   "execution_count": null,
   "metadata": {},
   "outputs": [],
   "source": []
  },
  {
   "cell_type": "markdown",
   "metadata": {},
   "source": [
    "####  Northern Hemisphere - Humidity (%) vs. Latitude Linear Regression"
   ]
  },
  {
   "cell_type": "code",
   "execution_count": null,
   "metadata": {},
   "outputs": [],
   "source": []
  },
  {
   "cell_type": "markdown",
   "metadata": {},
   "source": [
    "####  Southern Hemisphere - Humidity (%) vs. Latitude Linear Regression"
   ]
  },
  {
   "cell_type": "code",
   "execution_count": null,
   "metadata": {},
   "outputs": [],
   "source": []
  },
  {
   "cell_type": "markdown",
   "metadata": {},
   "source": [
    "####  Northern Hemisphere - Cloudiness (%) vs. Latitude Linear Regression"
   ]
  },
  {
   "cell_type": "code",
   "execution_count": null,
   "metadata": {},
   "outputs": [],
   "source": []
  },
  {
   "cell_type": "markdown",
   "metadata": {},
   "source": [
    "####  Southern Hemisphere - Cloudiness (%) vs. Latitude Linear Regression"
   ]
  },
  {
   "cell_type": "code",
   "execution_count": null,
   "metadata": {},
   "outputs": [],
   "source": []
  },
  {
   "cell_type": "markdown",
   "metadata": {},
   "source": [
    "####  Northern Hemisphere - Wind Speed (mph) vs. Latitude Linear Regression"
   ]
  },
  {
   "cell_type": "code",
   "execution_count": null,
   "metadata": {},
   "outputs": [],
   "source": []
  },
  {
   "cell_type": "markdown",
   "metadata": {},
   "source": [
    "####  Southern Hemisphere - Wind Speed (mph) vs. Latitude Linear Regression"
   ]
  },
  {
   "cell_type": "code",
   "execution_count": null,
   "metadata": {},
   "outputs": [],
   "source": []
  },
  {
   "cell_type": "code",
   "execution_count": null,
   "metadata": {},
   "outputs": [],
   "source": []
  },
  {
   "cell_type": "code",
   "execution_count": null,
   "metadata": {},
   "outputs": [],
   "source": []
  }
 ],
 "metadata": {
  "anaconda-cloud": {},
  "kernel_info": {
   "name": "python3"
  },
  "kernelspec": {
   "display_name": "Python 3",
   "language": "python",
   "name": "python3"
  },
  "language_info": {
   "codemirror_mode": {
    "name": "ipython",
    "version": 3
   },
   "file_extension": ".py",
   "mimetype": "text/x-python",
   "name": "python",
   "nbconvert_exporter": "python",
   "pygments_lexer": "ipython3",
   "version": "3.8.5"
  },
  "latex_envs": {
   "LaTeX_envs_menu_present": true,
   "autoclose": false,
   "autocomplete": true,
   "bibliofile": "biblio.bib",
   "cite_by": "apalike",
   "current_citInitial": 1,
   "eqLabelWithNumbers": true,
   "eqNumInitial": 1,
   "hotkeys": {
    "equation": "Ctrl-E",
    "itemize": "Ctrl-I"
   },
   "labels_anchors": false,
   "latex_user_defs": false,
   "report_style_numbering": false,
   "user_envs_cfg": false
  },
  "nteract": {
   "version": "0.12.3"
  }
 },
 "nbformat": 4,
 "nbformat_minor": 2
}
