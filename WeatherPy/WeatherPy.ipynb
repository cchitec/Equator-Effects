{
 "cells": [
  {
   "cell_type": "markdown",
   "metadata": {},
   "source": [
    "# WeatherPy\n",
    "----\n",
    "\n",
    "#### Note\n",
    "* Instructions have been included for each segment. You do not have to follow them exactly, but they are included to help you think through the steps."
   ]
  },
  {
   "cell_type": "markdown",
   "metadata": {},
   "source": [
    "## Generate Cities List"
   ]
  },
  {
   "cell_type": "code",
   "execution_count": 1,
   "metadata": {
    "scrolled": true
   },
   "outputs": [],
   "source": [
    "# Dependencies and Setup\n",
    "import os\n",
    "import matplotlib.pyplot as plt\n",
    "import pandas as pd\n",
    "import numpy as np\n",
    "import requests\n",
    "import time\n",
    "from scipy.stats import linregress\n",
    "import json\n",
    "from pprint import pprint\n",
    "\n",
    "# Import API key\n",
    "from config import api_key\n",
    "\n",
    "# Incorporated citipy to determine city based on latitude and longitude\n",
    "from citipy import citipy\n",
    "\n",
    "# Output File (CSV)\n",
    "output_data_file = \"output_data/cities.csv\"\n",
    "\n",
    "# Range of latitudes and longitudes\n",
    "lat_range = (-90, 90)\n",
    "lng_range = (-180, 180)"
   ]
  },
  {
   "cell_type": "code",
   "execution_count": 2,
   "metadata": {},
   "outputs": [
    {
     "data": {
      "text/plain": [
       "587"
      ]
     },
     "execution_count": 2,
     "metadata": {},
     "output_type": "execute_result"
    }
   ],
   "source": [
    "# List for holding lat_lngs and cities\n",
    "lat_lngs = []\n",
    "cities = []\n",
    "\n",
    "# Create a set of random lat and lng combinations\n",
    "lats = np.random.uniform(lat_range[0], lat_range[1], size=1500)\n",
    "lngs = np.random.uniform(lng_range[0], lng_range[1], size=1500)\n",
    "lat_lngs = zip(lats, lngs)\n",
    "\n",
    "# Identify nearest city for each lat, lng combination\n",
    "for lat_lng in lat_lngs:\n",
    "    city = citipy.nearest_city(lat_lng[0], lat_lng[1]).city_name\n",
    "    \n",
    "    # If the city is unique, then add it to a our cities list\n",
    "    if city not in cities:\n",
    "        cities.append(city)\n",
    "\n",
    "# Print the city count to confirm sufficient count\n",
    "len(cities)\n",
    "#cities"
   ]
  },
  {
   "cell_type": "markdown",
   "metadata": {},
   "source": [
    "### Perform API Calls\n",
    "* Perform a weather check on each city using a series of successive API calls.\n",
    "* Include a print log of each city as it'sbeing processed (with the city number and city name).\n"
   ]
  },
  {
   "cell_type": "code",
   "execution_count": 3,
   "metadata": {},
   "outputs": [],
   "source": [
    "#url = \"http://api.openweathermap.org/data/2.5/weather?\"\n",
    "#units = \"imperial\"\n",
    "#query_url = f\"{url}appid={api_key}\"\n",
    "\n",
    "#target_url = query_url + city.replace(\" \", \"+\") + units\n",
    "#response = requests.get(target_url)\n",
    "#response_json = response.json()\n",
    "#response_json"
   ]
  },
  {
   "cell_type": "code",
   "execution_count": 4,
   "metadata": {},
   "outputs": [
    {
     "name": "stdout",
     "output_type": "stream",
     "text": [
      "Beginning Data Retrieval    \n",
      "----------------------------\n",
      "Processing Record 1 of Set 1 | show low\n",
      "Processing Record 2 of Set 1 | upernavik\n",
      "Processing Record 3 of Set 1 | barrow\n",
      "Processing Record 4 of Set 1 | lebu\n",
      "Processing Record 5 of Set 1 | kaitong\n",
      "Processing Record 6 of Set 1 | gorin\n",
      "Processing Record 7 of Set 1 | port alfred\n",
      "Processing Record 8 of Set 1 | sabang\n",
      "Processing Record 9 of Set 1 | karauzyak\n",
      "City not found. Skipping ...\n",
      "Processing Record 10 of Set 1 | butaritari\n",
      "Processing Record 11 of Set 1 | luderitz\n",
      "Processing Record 12 of Set 1 | westport\n",
      "Processing Record 13 of Set 1 | yellowknife\n",
      "Processing Record 14 of Set 1 | castro\n",
      "Processing Record 15 of Set 1 | fortuna\n",
      "Processing Record 16 of Set 1 | rikitea\n",
      "Processing Record 17 of Set 1 | mataura\n",
      "Processing Record 18 of Set 1 | mahebourg\n",
      "Processing Record 19 of Set 1 | hobart\n",
      "Processing Record 20 of Set 1 | barentsburg\n",
      "City not found. Skipping ...\n",
      "Processing Record 21 of Set 1 | bethel\n",
      "Processing Record 22 of Set 1 | bengkulu\n",
      "Processing Record 23 of Set 1 | avera\n",
      "Processing Record 24 of Set 1 | buin\n",
      "Processing Record 25 of Set 1 | puerto ayora\n",
      "Processing Record 26 of Set 1 | provideniya\n",
      "Processing Record 27 of Set 1 | mananjary\n",
      "Processing Record 28 of Set 1 | albany\n",
      "Processing Record 29 of Set 1 | tete\n",
      "Processing Record 30 of Set 1 | georgetown\n",
      "Processing Record 31 of Set 1 | taolanaro\n",
      "City not found. Skipping ...\n",
      "Processing Record 32 of Set 1 | saint-philippe\n",
      "Processing Record 33 of Set 1 | niteroi\n",
      "Processing Record 34 of Set 1 | saint-pierre\n",
      "Processing Record 35 of Set 1 | tasiilaq\n",
      "Processing Record 36 of Set 1 | san cristobal\n",
      "Processing Record 37 of Set 1 | thinadhoo\n",
      "Processing Record 38 of Set 1 | atuona\n",
      "Processing Record 39 of Set 1 | avarua\n",
      "Processing Record 40 of Set 1 | airai\n",
      "Processing Record 41 of Set 1 | bolungarvik\n",
      "City not found. Skipping ...\n",
      "Processing Record 42 of Set 1 | hermanus\n",
      "Processing Record 43 of Set 1 | high level\n",
      "Processing Record 44 of Set 1 | victoria\n",
      "Processing Record 45 of Set 1 | grand river south east\n",
      "City not found. Skipping ...\n",
      "Processing Record 46 of Set 1 | drummondville\n",
      "Processing Record 47 of Set 1 | thakurgaon\n",
      "Processing Record 48 of Set 1 | rudkobing\n",
      "Processing Record 49 of Set 1 | vaitupu\n",
      "City not found. Skipping ...\n",
      "Processing Record 50 of Set 1 | pacific grove\n",
      "Processing Record 0 of Set 2 | zhigansk\n",
      "Processing Record 1 of Set 2 | lamu\n",
      "Processing Record 2 of Set 2 | marcona\n",
      "City not found. Skipping ...\n",
      "Processing Record 3 of Set 2 | ponta do sol\n",
      "Processing Record 4 of Set 2 | kudahuvadhoo\n",
      "Processing Record 5 of Set 2 | nizhneyansk\n",
      "City not found. Skipping ...\n",
      "Processing Record 6 of Set 2 | san policarpo\n",
      "Processing Record 7 of Set 2 | sentyabrskiy\n",
      "City not found. Skipping ...\n",
      "Processing Record 8 of Set 2 | eenhana\n",
      "Processing Record 9 of Set 2 | salalah\n",
      "Processing Record 10 of Set 2 | bandarbeyla\n",
      "Processing Record 11 of Set 2 | chokurdakh\n",
      "Processing Record 12 of Set 2 | champerico\n",
      "Processing Record 13 of Set 2 | halalo\n",
      "City not found. Skipping ...\n",
      "Processing Record 14 of Set 2 | noumea\n",
      "Processing Record 15 of Set 2 | juegang\n",
      "Processing Record 16 of Set 2 | new norfolk\n",
      "Processing Record 17 of Set 2 | thompson\n",
      "Processing Record 18 of Set 2 | tiksi\n",
      "Processing Record 19 of Set 2 | shenjiamen\n",
      "Processing Record 20 of Set 2 | kapaa\n",
      "Processing Record 21 of Set 2 | talnakh\n",
      "Processing Record 22 of Set 2 | abha\n",
      "Processing Record 23 of Set 2 | dikson\n",
      "Processing Record 24 of Set 2 | busselton\n",
      "Processing Record 25 of Set 2 | east london\n",
      "Processing Record 26 of Set 2 | krasnovishersk\n",
      "Processing Record 27 of Set 2 | cape town\n",
      "Processing Record 28 of Set 2 | north bend\n",
      "Processing Record 29 of Set 2 | baker city\n",
      "Processing Record 30 of Set 2 | marrakesh\n",
      "Processing Record 31 of Set 2 | esperance\n",
      "Processing Record 32 of Set 2 | laguna\n",
      "Processing Record 33 of Set 2 | manglaur\n",
      "Processing Record 34 of Set 2 | broome\n",
      "Processing Record 35 of Set 2 | pevek\n",
      "Processing Record 36 of Set 2 | tuktoyaktuk\n",
      "Processing Record 37 of Set 2 | pervomayskiy\n",
      "Processing Record 38 of Set 2 | fort frances\n",
      "Processing Record 39 of Set 2 | lasem\n",
      "Processing Record 40 of Set 2 | ushuaia\n",
      "Processing Record 41 of Set 2 | vaini\n",
      "Processing Record 42 of Set 2 | saskylakh\n",
      "Processing Record 43 of Set 2 | olafsvik\n",
      "Processing Record 44 of Set 2 | corinto\n",
      "Processing Record 45 of Set 2 | baghdad\n",
      "Processing Record 46 of Set 2 | eldikan\n",
      "City not found. Skipping ...\n",
      "Processing Record 47 of Set 2 | kieta\n",
      "Processing Record 48 of Set 2 | natal\n",
      "Processing Record 49 of Set 2 | khatanga\n",
      "Processing Record 0 of Set 3 | itoman\n",
      "Processing Record 1 of Set 3 | coihaique\n",
      "Processing Record 2 of Set 3 | asau\n",
      "Processing Record 3 of Set 3 | qaanaaq\n",
      "Processing Record 4 of Set 3 | jaque\n",
      "Processing Record 5 of Set 3 | birao\n",
      "Processing Record 6 of Set 3 | ribeira grande\n",
      "Processing Record 7 of Set 3 | bismarck\n",
      "Processing Record 8 of Set 3 | belushya guba\n",
      "City not found. Skipping ...\n",
      "Processing Record 9 of Set 3 | qaqortoq\n",
      "Processing Record 10 of Set 3 | faanui\n",
      "Processing Record 11 of Set 3 | apatity\n",
      "Processing Record 12 of Set 3 | tucuma\n",
      "Processing Record 13 of Set 3 | novyy urengoy\n",
      "Processing Record 14 of Set 3 | punta arenas\n",
      "Processing Record 15 of Set 3 | deputatskiy\n",
      "Processing Record 16 of Set 3 | vestmannaeyjar\n",
      "Processing Record 17 of Set 3 | forest acres\n",
      "Processing Record 18 of Set 3 | port elizabeth\n",
      "Processing Record 19 of Set 3 | sindor\n",
      "Processing Record 20 of Set 3 | bulgan\n",
      "Processing Record 21 of Set 3 | norman wells\n",
      "Processing Record 22 of Set 3 | kleck\n",
      "City not found. Skipping ...\n",
      "Processing Record 23 of Set 3 | mar del plata\n",
      "Processing Record 24 of Set 3 | turukhansk\n",
      "Processing Record 25 of Set 3 | carnarvon\n",
      "Processing Record 26 of Set 3 | codrington\n",
      "Processing Record 27 of Set 3 | alofi\n",
      "Processing Record 28 of Set 3 | nikolskoye\n",
      "Processing Record 29 of Set 3 | hithadhoo\n",
      "Processing Record 30 of Set 3 | ahuimanu\n",
      "Processing Record 31 of Set 3 | port blair\n",
      "Processing Record 32 of Set 3 | kaoma\n",
      "Processing Record 33 of Set 3 | illoqqortoormiut\n",
      "City not found. Skipping ...\n",
      "Processing Record 34 of Set 3 | sioux lookout\n",
      "Processing Record 35 of Set 3 | bredasdorp\n",
      "Processing Record 36 of Set 3 | cidreira\n",
      "Processing Record 37 of Set 3 | port-gentil\n",
      "Processing Record 38 of Set 3 | lagoa\n",
      "Processing Record 39 of Set 3 | zverinogolovskoye\n",
      "Processing Record 40 of Set 3 | ures\n",
      "Processing Record 41 of Set 3 | vardo\n",
      "Processing Record 42 of Set 3 | diamantino\n",
      "Processing Record 43 of Set 3 | beroroha\n",
      "Processing Record 44 of Set 3 | kavaratti\n",
      "Processing Record 45 of Set 3 | cabo san lucas\n",
      "Processing Record 46 of Set 3 | namibe\n",
      "Processing Record 47 of Set 3 | oskarshamn\n",
      "Processing Record 48 of Set 3 | bose\n",
      "Processing Record 49 of Set 3 | ormond beach\n",
      "Processing Record 0 of Set 4 | atocha\n",
      "Processing Record 1 of Set 4 | aksarka\n",
      "Processing Record 2 of Set 4 | katsuura\n",
      "Processing Record 3 of Set 4 | kodiak\n",
      "Processing Record 4 of Set 4 | saldanha\n",
      "Processing Record 5 of Set 4 | porto novo\n",
      "Processing Record 6 of Set 4 | lima\n",
      "Processing Record 7 of Set 4 | mkushi\n",
      "Processing Record 8 of Set 4 | shubarshi\n",
      "Processing Record 9 of Set 4 | conceicao do araguaia\n",
      "Processing Record 10 of Set 4 | ozgon\n",
      "City not found. Skipping ...\n",
      "Processing Record 11 of Set 4 | bluff\n",
      "Processing Record 12 of Set 4 | rock hill\n",
      "Processing Record 13 of Set 4 | karaul\n",
      "City not found. Skipping ...\n",
      "Processing Record 14 of Set 4 | tessalit\n",
      "Processing Record 15 of Set 4 | mys shmidta\n",
      "City not found. Skipping ...\n",
      "Processing Record 16 of Set 4 | jamestown\n",
      "Processing Record 17 of Set 4 | asfi\n",
      "Processing Record 18 of Set 4 | gazli\n",
      "Processing Record 19 of Set 4 | burica\n",
      "City not found. Skipping ...\n",
      "Processing Record 20 of Set 4 | severo-kurilsk\n",
      "Processing Record 21 of Set 4 | vanavara\n",
      "Processing Record 22 of Set 4 | saint-michel-des-saints\n",
      "Processing Record 23 of Set 4 | eyl\n",
      "Processing Record 24 of Set 4 | williams lake\n",
      "Processing Record 25 of Set 4 | itarema\n",
      "Processing Record 26 of Set 4 | port hardy\n",
      "Processing Record 27 of Set 4 | idukki\n",
      "Processing Record 28 of Set 4 | mount gambier\n",
      "Processing Record 29 of Set 4 | hilo\n",
      "Processing Record 30 of Set 4 | ghanzi\n",
      "Processing Record 31 of Set 4 | sao felix do xingu\n",
      "Processing Record 32 of Set 4 | vila franca do campo\n",
      "Processing Record 33 of Set 4 | meiganga\n"
     ]
    },
    {
     "name": "stdout",
     "output_type": "stream",
     "text": [
      "Processing Record 34 of Set 4 | kayes\n",
      "Processing Record 35 of Set 4 | kupiskis\n",
      "Processing Record 36 of Set 4 | yerbogachen\n",
      "Processing Record 37 of Set 4 | kruisfontein\n",
      "Processing Record 38 of Set 4 | geraldton\n",
      "Processing Record 39 of Set 4 | chuy\n",
      "Processing Record 40 of Set 4 | baykit\n",
      "Processing Record 41 of Set 4 | miyako\n",
      "Processing Record 42 of Set 4 | mitsamiouli\n",
      "Processing Record 43 of Set 4 | kattivakkam\n",
      "Processing Record 44 of Set 4 | yamada\n",
      "Processing Record 45 of Set 4 | bestobe\n",
      "Processing Record 46 of Set 4 | san patricio\n",
      "Processing Record 47 of Set 4 | sao filipe\n",
      "Processing Record 48 of Set 4 | nanortalik\n",
      "Processing Record 49 of Set 4 | waipawa\n",
      "Processing Record 0 of Set 5 | perth\n",
      "Processing Record 1 of Set 5 | umzimvubu\n",
      "City not found. Skipping ...\n",
      "Processing Record 2 of Set 5 | wadi maliz\n",
      "Processing Record 3 of Set 5 | ilmajoki\n",
      "Processing Record 4 of Set 5 | misratah\n",
      "Processing Record 5 of Set 5 | birin\n",
      "Processing Record 6 of Set 5 | constitucion\n",
      "Processing Record 7 of Set 5 | grand gaube\n",
      "Processing Record 8 of Set 5 | souillac\n",
      "Processing Record 9 of Set 5 | mahibadhoo\n",
      "Processing Record 10 of Set 5 | bambous virieux\n",
      "Processing Record 11 of Set 5 | havoysund\n",
      "Processing Record 12 of Set 5 | aswan\n",
      "Processing Record 13 of Set 5 | isangel\n",
      "Processing Record 14 of Set 5 | meyungs\n",
      "City not found. Skipping ...\n",
      "Processing Record 15 of Set 5 | huarmey\n",
      "Processing Record 16 of Set 5 | sorland\n",
      "Processing Record 17 of Set 5 | humaita\n",
      "Processing Record 18 of Set 5 | festus\n",
      "Processing Record 19 of Set 5 | cockburn town\n",
      "Processing Record 20 of Set 5 | kedgwick\n",
      "Processing Record 21 of Set 5 | arraial do cabo\n",
      "Processing Record 22 of Set 5 | sorong\n",
      "Processing Record 23 of Set 5 | pitimbu\n",
      "Processing Record 24 of Set 5 | wulanhaote\n",
      "City not found. Skipping ...\n",
      "Processing Record 25 of Set 5 | vryburg\n",
      "Processing Record 26 of Set 5 | pemba\n",
      "Processing Record 27 of Set 5 | kalangala\n",
      "Processing Record 28 of Set 5 | gebze\n",
      "Processing Record 29 of Set 5 | inta\n",
      "Processing Record 30 of Set 5 | nynashamn\n",
      "Processing Record 31 of Set 5 | kurayoshi\n",
      "Processing Record 32 of Set 5 | santa rosalia\n",
      "Processing Record 33 of Set 5 | dvorichna\n",
      "Processing Record 34 of Set 5 | bima\n",
      "Processing Record 35 of Set 5 | marawi\n",
      "Processing Record 36 of Set 5 | taywarah\n",
      "Processing Record 37 of Set 5 | tuatapere\n",
      "Processing Record 38 of Set 5 | ilulissat\n",
      "Processing Record 39 of Set 5 | samusu\n",
      "City not found. Skipping ...\n",
      "Processing Record 40 of Set 5 | itanhaem\n",
      "Processing Record 41 of Set 5 | kastamonu\n",
      "Processing Record 42 of Set 5 | hasaki\n",
      "Processing Record 43 of Set 5 | klyuchi\n",
      "Processing Record 44 of Set 5 | nuuk\n",
      "Processing Record 45 of Set 5 | namestovo\n",
      "Processing Record 46 of Set 5 | mormugao\n",
      "Processing Record 47 of Set 5 | araouane\n",
      "Processing Record 48 of Set 5 | klaksvik\n",
      "Processing Record 49 of Set 5 | sembakung\n",
      "Processing Record 0 of Set 6 | ukiah\n",
      "Processing Record 1 of Set 6 | xining\n",
      "Processing Record 2 of Set 6 | inhambane\n",
      "Processing Record 3 of Set 6 | okhotsk\n",
      "Processing Record 4 of Set 6 | chapayevka\n",
      "Processing Record 5 of Set 6 | zhaozhou\n",
      "Processing Record 6 of Set 6 | safut\n",
      "Processing Record 7 of Set 6 | tabou\n",
      "Processing Record 8 of Set 6 | sitka\n",
      "Processing Record 9 of Set 6 | cedar city\n",
      "Processing Record 10 of Set 6 | dongning\n",
      "Processing Record 11 of Set 6 | svetlaya\n",
      "Processing Record 12 of Set 6 | naze\n",
      "Processing Record 13 of Set 6 | leshukonskoye\n",
      "Processing Record 14 of Set 6 | charters towers\n",
      "Processing Record 15 of Set 6 | diebougou\n",
      "Processing Record 16 of Set 6 | clyde river\n",
      "Processing Record 17 of Set 6 | cayenne\n",
      "Processing Record 18 of Set 6 | ituni\n",
      "City not found. Skipping ...\n",
      "Processing Record 19 of Set 6 | agadir\n",
      "Processing Record 20 of Set 6 | dunedin\n",
      "Processing Record 21 of Set 6 | kikwit\n",
      "Processing Record 22 of Set 6 | ponta delgada\n",
      "Processing Record 23 of Set 6 | mikhaylovka\n",
      "Processing Record 24 of Set 6 | victor harbor\n",
      "Processing Record 25 of Set 6 | attawapiskat\n",
      "City not found. Skipping ...\n",
      "Processing Record 26 of Set 6 | chernyshevskiy\n",
      "Processing Record 27 of Set 6 | alyangula\n",
      "Processing Record 28 of Set 6 | touros\n",
      "Processing Record 29 of Set 6 | palabuhanratu\n",
      "City not found. Skipping ...\n",
      "Processing Record 30 of Set 6 | cherskiy\n",
      "Processing Record 31 of Set 6 | dudinka\n",
      "Processing Record 32 of Set 6 | sakakah\n",
      "Processing Record 33 of Set 6 | haibowan\n",
      "City not found. Skipping ...\n",
      "Processing Record 34 of Set 6 | pisco\n",
      "Processing Record 35 of Set 6 | challapata\n",
      "Processing Record 36 of Set 6 | chagda\n",
      "City not found. Skipping ...\n",
      "Processing Record 37 of Set 6 | guhagar\n",
      "Processing Record 38 of Set 6 | nadym\n",
      "Processing Record 39 of Set 6 | buraydah\n",
      "Processing Record 40 of Set 6 | sao domingos\n",
      "Processing Record 41 of Set 6 | joshimath\n",
      "Processing Record 42 of Set 6 | matamoros\n",
      "Processing Record 43 of Set 6 | khorixas\n",
      "Processing Record 44 of Set 6 | alice springs\n",
      "Processing Record 45 of Set 6 | yomitan\n",
      "City not found. Skipping ...\n",
      "Processing Record 46 of Set 6 | verkhnyaya inta\n",
      "Processing Record 47 of Set 6 | san gabriel\n",
      "Processing Record 48 of Set 6 | port lincoln\n",
      "Processing Record 49 of Set 6 | novooleksiyivka\n",
      "Processing Record 0 of Set 7 | itaituba\n",
      "Processing Record 1 of Set 7 | ixtapa\n",
      "Processing Record 2 of Set 7 | plettenberg bay\n",
      "Processing Record 3 of Set 7 | ouricuri\n",
      "Processing Record 4 of Set 7 | mutare\n",
      "Processing Record 5 of Set 7 | inuvik\n",
      "Processing Record 6 of Set 7 | mount isa\n",
      "Processing Record 7 of Set 7 | mayumba\n",
      "Processing Record 8 of Set 7 | lolua\n",
      "City not found. Skipping ...\n",
      "Processing Record 9 of Set 7 | college\n",
      "Processing Record 10 of Set 7 | la union\n",
      "Processing Record 11 of Set 7 | maceio\n",
      "Processing Record 12 of Set 7 | lincoln\n",
      "Processing Record 13 of Set 7 | narsaq\n",
      "Processing Record 14 of Set 7 | rongcheng\n",
      "Processing Record 15 of Set 7 | lucea\n",
      "Processing Record 16 of Set 7 | niles\n",
      "Processing Record 17 of Set 7 | pingliang\n",
      "Processing Record 18 of Set 7 | doctor pedro p. pena\n",
      "City not found. Skipping ...\n",
      "Processing Record 19 of Set 7 | tabiauea\n",
      "City not found. Skipping ...\n",
      "Processing Record 20 of Set 7 | zhuhai\n",
      "Processing Record 21 of Set 7 | serravalle\n",
      "Processing Record 22 of Set 7 | dawson creek\n",
      "Processing Record 23 of Set 7 | ji-parana\n",
      "City not found. Skipping ...\n",
      "Processing Record 24 of Set 7 | tres lagoas\n",
      "Processing Record 25 of Set 7 | santa maria\n",
      "Processing Record 26 of Set 7 | yurimaguas\n",
      "Processing Record 27 of Set 7 | menongue\n",
      "Processing Record 28 of Set 7 | bure\n",
      "Processing Record 29 of Set 7 | viligili\n",
      "City not found. Skipping ...\n",
      "Processing Record 30 of Set 7 | zelenogorskiy\n",
      "Processing Record 31 of Set 7 | taoudenni\n",
      "Processing Record 32 of Set 7 | onega\n",
      "Processing Record 33 of Set 7 | kamenka\n",
      "Processing Record 34 of Set 7 | ewa beach\n",
      "Processing Record 35 of Set 7 | nyanguge\n",
      "Processing Record 36 of Set 7 | yar-sale\n",
      "Processing Record 37 of Set 7 | madimba\n",
      "Processing Record 38 of Set 7 | tilichiki\n",
      "Processing Record 39 of Set 7 | pfarrkirchen\n",
      "Processing Record 40 of Set 7 | kangaatsiaq\n",
      "Processing Record 41 of Set 7 | ilhabela\n",
      "Processing Record 42 of Set 7 | cap malheureux\n",
      "Processing Record 43 of Set 7 | andenes\n",
      "Processing Record 44 of Set 7 | tiarei\n",
      "Processing Record 45 of Set 7 | aktau\n",
      "Processing Record 46 of Set 7 | rabo de peixe\n",
      "Processing Record 47 of Set 7 | aklavik\n",
      "Processing Record 48 of Set 7 | moreira sales\n",
      "Processing Record 49 of Set 7 | iqaluit\n",
      "Processing Record 0 of Set 8 | aasiaat\n",
      "Processing Record 1 of Set 8 | hamilton\n",
      "Processing Record 2 of Set 8 | umm kaddadah\n",
      "Processing Record 3 of Set 8 | kaitangata\n",
      "Processing Record 4 of Set 8 | rantepao\n",
      "Processing Record 5 of Set 8 | dauriya\n",
      "Processing Record 6 of Set 8 | skibbereen\n",
      "Processing Record 7 of Set 8 | narrabri\n",
      "Processing Record 8 of Set 8 | sidi ali\n",
      "Processing Record 9 of Set 8 | makasar\n",
      "Processing Record 10 of Set 8 | kerecsend\n",
      "Processing Record 11 of Set 8 | kununurra\n",
      "Processing Record 12 of Set 8 | kidal\n",
      "Processing Record 13 of Set 8 | filadelfia\n",
      "Processing Record 14 of Set 8 | puri\n",
      "Processing Record 15 of Set 8 | vadso\n",
      "Processing Record 16 of Set 8 | manggar\n",
      "Processing Record 17 of Set 8 | moron\n",
      "Processing Record 18 of Set 8 | nhulunbuy\n",
      "Processing Record 19 of Set 8 | kavieng\n",
      "Processing Record 20 of Set 8 | veraval\n",
      "Processing Record 21 of Set 8 | port macquarie\n",
      "Processing Record 22 of Set 8 | gilleleje\n"
     ]
    },
    {
     "name": "stdout",
     "output_type": "stream",
     "text": [
      "Processing Record 23 of Set 8 | saint-georges\n",
      "Processing Record 24 of Set 8 | roebourne\n",
      "Processing Record 25 of Set 8 | kalmunai\n",
      "Processing Record 26 of Set 8 | oktyabrskiy\n",
      "Processing Record 27 of Set 8 | awjilah\n",
      "Processing Record 28 of Set 8 | aykhal\n",
      "Processing Record 29 of Set 8 | inskoy\n",
      "Processing Record 30 of Set 8 | te anau\n",
      "Processing Record 31 of Set 8 | luwuk\n",
      "Processing Record 32 of Set 8 | songjianghe\n",
      "Processing Record 33 of Set 8 | acapulco\n",
      "Processing Record 34 of Set 8 | aporawan\n",
      "City not found. Skipping ...\n",
      "Processing Record 35 of Set 8 | goianesia\n",
      "Processing Record 36 of Set 8 | labuhan\n",
      "Processing Record 37 of Set 8 | sinnamary\n",
      "Processing Record 38 of Set 8 | sehithwa\n",
      "Processing Record 39 of Set 8 | belokurikha\n",
      "Processing Record 40 of Set 8 | berezovyy\n",
      "Processing Record 41 of Set 8 | ahipara\n",
      "Processing Record 42 of Set 8 | evanston\n",
      "Processing Record 43 of Set 8 | tabas\n",
      "Processing Record 44 of Set 8 | korla\n",
      "Processing Record 45 of Set 8 | vila velha\n",
      "Processing Record 46 of Set 8 | konakovo\n",
      "Processing Record 47 of Set 8 | kamenskoye\n",
      "City not found. Skipping ...\n",
      "Processing Record 48 of Set 8 | jiexiu\n",
      "Processing Record 49 of Set 8 | kusk\n",
      "City not found. Skipping ...\n",
      "Processing Record 0 of Set 9 | warqla\n",
      "City not found. Skipping ...\n",
      "Processing Record 1 of Set 9 | santa cruz del sur\n",
      "Processing Record 2 of Set 9 | batagay-alyta\n",
      "Processing Record 3 of Set 9 | kapoeta\n",
      "Processing Record 4 of Set 9 | dingle\n",
      "Processing Record 5 of Set 9 | erzin\n",
      "Processing Record 6 of Set 9 | shahreza\n",
      "Processing Record 7 of Set 9 | boa vista\n",
      "Processing Record 8 of Set 9 | mitu\n",
      "Processing Record 9 of Set 9 | berdigestyakh\n",
      "Processing Record 10 of Set 9 | tubuala\n",
      "Processing Record 11 of Set 9 | puerto rondon\n",
      "Processing Record 12 of Set 9 | guerrero negro\n",
      "Processing Record 13 of Set 9 | atbasar\n",
      "Processing Record 14 of Set 9 | nouadhibou\n",
      "Processing Record 15 of Set 9 | bengbu\n",
      "Processing Record 16 of Set 9 | carutapera\n",
      "Processing Record 17 of Set 9 | sangar\n",
      "Processing Record 18 of Set 9 | glasgow\n",
      "Processing Record 19 of Set 9 | hirara\n",
      "Processing Record 20 of Set 9 | male\n",
      "Processing Record 21 of Set 9 | ambulu\n",
      "Processing Record 22 of Set 9 | owosso\n",
      "Processing Record 23 of Set 9 | chihuahua\n",
      "Processing Record 24 of Set 9 | aguimes\n",
      "Processing Record 25 of Set 9 | manokwari\n",
      "Processing Record 26 of Set 9 | meulaboh\n",
      "Processing Record 27 of Set 9 | marabba\n",
      "Processing Record 28 of Set 9 | ginir\n",
      "Processing Record 29 of Set 9 | nome\n",
      "Processing Record 30 of Set 9 | hagi\n",
      "Processing Record 31 of Set 9 | le port\n",
      "Processing Record 32 of Set 9 | dwarka\n",
      "Processing Record 33 of Set 9 | hauterive\n",
      "Processing Record 34 of Set 9 | khuzhir\n",
      "Processing Record 35 of Set 9 | bolu\n",
      "Processing Record 36 of Set 9 | pucallpa\n",
      "Processing Record 37 of Set 9 | kanda\n",
      "Processing Record 38 of Set 9 | cockburn harbour\n",
      "City not found. Skipping ...\n",
      "Processing Record 39 of Set 9 | eppingen\n",
      "Processing Record 40 of Set 9 | andreapol\n",
      "Processing Record 41 of Set 9 | leningradskiy\n",
      "Processing Record 42 of Set 9 | phan thiet\n",
      "Processing Record 43 of Set 9 | kahului\n",
      "Processing Record 44 of Set 9 | angoche\n",
      "Processing Record 45 of Set 9 | north platte\n",
      "Processing Record 46 of Set 9 | amderma\n",
      "City not found. Skipping ...\n",
      "Processing Record 47 of Set 9 | bouna\n",
      "Processing Record 48 of Set 9 | lalomanu\n",
      "City not found. Skipping ...\n",
      "Processing Record 49 of Set 9 | berberati\n",
      "Processing Record 0 of Set 10 | saint pete beach\n",
      "Processing Record 1 of Set 10 | umarkot\n",
      "Processing Record 2 of Set 10 | san quintin\n",
      "Processing Record 3 of Set 10 | kulhudhuffushi\n",
      "Processing Record 4 of Set 10 | salobrena\n",
      "Processing Record 5 of Set 10 | toliary\n",
      "City not found. Skipping ...\n",
      "Processing Record 6 of Set 10 | kamaishi\n",
      "Processing Record 7 of Set 10 | ayia\n",
      "City not found. Skipping ...\n",
      "Processing Record 8 of Set 10 | srednekolymsk\n",
      "Processing Record 9 of Set 10 | banepa\n",
      "Processing Record 10 of Set 10 | sarahan\n",
      "Processing Record 11 of Set 10 | kapit\n",
      "Processing Record 12 of Set 10 | ludvika\n",
      "Processing Record 13 of Set 10 | coquimbo\n",
      "Processing Record 14 of Set 10 | yulara\n",
      "Processing Record 15 of Set 10 | porbandar\n",
      "Processing Record 16 of Set 10 | nampula\n",
      "Processing Record 17 of Set 10 | sao jose da coroa grande\n",
      "Processing Record 18 of Set 10 | miri\n",
      "Processing Record 19 of Set 10 | kokopo\n",
      "Processing Record 20 of Set 10 | monzon\n",
      "Processing Record 21 of Set 10 | vao\n",
      "Processing Record 22 of Set 10 | poum\n",
      "Processing Record 23 of Set 10 | anadyr\n",
      "Processing Record 24 of Set 10 | longyearbyen\n",
      "Processing Record 25 of Set 10 | lazi\n",
      "Processing Record 26 of Set 10 | torbay\n",
      "Processing Record 27 of Set 10 | kirakira\n",
      "Processing Record 28 of Set 10 | potsdam\n",
      "Processing Record 29 of Set 10 | pueblo nuevo\n",
      "Processing Record 30 of Set 10 | chiman\n",
      "Processing Record 31 of Set 10 | alamosa\n",
      "Processing Record 32 of Set 10 | popondetta\n",
      "Processing Record 33 of Set 10 | hami\n",
      "Processing Record 34 of Set 10 | caravelas\n",
      "Processing Record 35 of Set 10 | nanyamba\n",
      "Processing Record 36 of Set 10 | los llanos de aridane\n",
      "Processing Record 37 of Set 10 | la tebaida\n",
      "Processing Record 38 of Set 10 | gulshat\n",
      "City not found. Skipping ...\n",
      "Processing Record 39 of Set 10 | cervo\n",
      "Processing Record 40 of Set 10 | paita\n",
      "Processing Record 41 of Set 10 | vostok\n",
      "Processing Record 42 of Set 10 | new ulm\n",
      "Processing Record 43 of Set 10 | de-kastri\n",
      "Processing Record 44 of Set 10 | akyab\n",
      "Processing Record 45 of Set 10 | marsa matruh\n",
      "Processing Record 46 of Set 10 | mineros\n",
      "Processing Record 47 of Set 10 | tinjah\n",
      "City not found. Skipping ...\n",
      "Processing Record 48 of Set 10 | kuusamo\n",
      "Processing Record 49 of Set 10 | kungurtug\n",
      "Processing Record 0 of Set 11 | novosergiyevka\n",
      "Processing Record 1 of Set 11 | wooster\n",
      "Processing Record 2 of Set 11 | sawtell\n",
      "Processing Record 3 of Set 11 | ondjiva\n",
      "Processing Record 4 of Set 11 | monrovia\n",
      "Processing Record 5 of Set 11 | dryden\n",
      "Processing Record 6 of Set 11 | bindura\n",
      "Processing Record 7 of Set 11 | bayir\n",
      "Processing Record 8 of Set 11 | ayan\n",
      "Processing Record 9 of Set 11 | zarya\n",
      "Processing Record 10 of Set 11 | pyapon\n",
      "Processing Record 11 of Set 11 | saint george\n",
      "Processing Record 12 of Set 11 | atambua\n",
      "Processing Record 13 of Set 11 | tunoshna\n",
      "Processing Record 14 of Set 11 | qui nhon\n",
      "Processing Record 15 of Set 11 | maarianhamina\n",
      "Processing Record 16 of Set 11 | jiayuguan\n",
      "Processing Record 17 of Set 11 | karratha\n",
      "Processing Record 18 of Set 11 | rome\n",
      "Processing Record 19 of Set 11 | ullapool\n",
      "Processing Record 20 of Set 11 | tsihombe\n",
      "City not found. Skipping ...\n",
      "Processing Record 21 of Set 11 | abapo\n",
      "Processing Record 22 of Set 11 | artyk\n",
      "City not found. Skipping ...\n",
      "Processing Record 23 of Set 11 | shostka\n",
      "Processing Record 24 of Set 11 | port hedland\n",
      "Processing Record 25 of Set 11 | birjand\n",
      "Processing Record 26 of Set 11 | ancud\n",
      "Processing Record 27 of Set 11 | la ronge\n",
      "Processing Record 28 of Set 11 | lola\n",
      "Processing Record 29 of Set 11 | mongo\n",
      "Processing Record 30 of Set 11 | biloela\n",
      "Processing Record 31 of Set 11 | lata\n",
      "Processing Record 32 of Set 11 | pangnirtung\n",
      "Processing Record 33 of Set 11 | dodola\n",
      "Processing Record 34 of Set 11 | bafoulabe\n",
      "Processing Record 35 of Set 11 | ternate\n",
      "Processing Record 36 of Set 11 | jacksonville\n",
      "Processing Record 37 of Set 11 | bartica\n",
      "Processing Record 38 of Set 11 | carmen\n",
      "Processing Record 39 of Set 11 | saint-francois\n",
      "Processing Record 40 of Set 11 | sistranda\n",
      "Processing Record 41 of Set 11 | shimoda\n",
      "Processing Record 42 of Set 11 | yaroslavl\n",
      "Processing Record 43 of Set 11 | satitoa\n",
      "City not found. Skipping ...\n",
      "Processing Record 44 of Set 11 | ligayan\n",
      "Processing Record 45 of Set 11 | lumsden\n",
      "Processing Record 46 of Set 11 | zavetnoye\n",
      "Processing Record 47 of Set 11 | bac lieu\n",
      "Processing Record 48 of Set 11 | sao joao da barra\n",
      "Processing Record 49 of Set 11 | namanyere\n",
      "Processing Record 0 of Set 12 | gizo\n",
      "Processing Record 1 of Set 12 | calama\n",
      "Processing Record 2 of Set 12 | aloleng\n",
      "Processing Record 3 of Set 12 | luancheng\n",
      "Processing Record 4 of Set 12 | leh\n",
      "Processing Record 5 of Set 12 | raudeberg\n",
      "Processing Record 6 of Set 12 | padang\n",
      "Processing Record 7 of Set 12 | margate\n",
      "Processing Record 8 of Set 12 | kano\n",
      "Processing Record 9 of Set 12 | eureka\n",
      "Processing Record 10 of Set 12 | temaraia\n",
      "City not found. Skipping ...\n",
      "Processing Record 11 of Set 12 | rocha\n"
     ]
    },
    {
     "name": "stdout",
     "output_type": "stream",
     "text": [
      "Processing Record 12 of Set 12 | hasanabad\n",
      "Processing Record 13 of Set 12 | garowe\n",
      "Processing Record 14 of Set 12 | krasnousolskiy\n",
      "City not found. Skipping ...\n",
      "Processing Record 15 of Set 12 | mittagong\n",
      "Processing Record 16 of Set 12 | chifeng\n",
      "Processing Record 17 of Set 12 | abancay\n",
      "Processing Record 18 of Set 12 | anar darreh\n",
      "City not found. Skipping ...\n",
      "Processing Record 19 of Set 12 | porterville\n",
      "Processing Record 20 of Set 12 | obidos\n",
      "Processing Record 21 of Set 12 | ostrovnoy\n",
      "Processing Record 22 of Set 12 | tunduru\n",
      "City not found. Skipping ...\n",
      "Processing Record 23 of Set 12 | esso\n",
      "Processing Record 24 of Set 12 | tautira\n",
      "Processing Record 25 of Set 12 | udachnyy\n",
      "Processing Record 26 of Set 12 | durres\n",
      "Processing Record 27 of Set 12 | altay\n",
      "Processing Record 28 of Set 12 | sertania\n",
      "Processing Record 29 of Set 12 | nanpiao\n",
      "Processing Record 30 of Set 12 | vsevolodo-vilva\n",
      "City not found. Skipping ...\n",
      "Processing Record 31 of Set 12 | roald\n",
      "Processing Record 32 of Set 12 | mullingar\n",
      "Processing Record 33 of Set 12 | ust-kuyga\n",
      "Processing Record 34 of Set 12 | kouroussa\n",
      "Processing Record 35 of Set 12 | slave lake\n",
      "Processing Record 36 of Set 12 | castelldefels\n",
      "---------------------\n",
      "Data Retrieval Complete\n",
      "---------------------\n"
     ]
    }
   ],
   "source": [
    "url = \"http://api.openweathermap.org/data/2.5/weather?\"\n",
    "\n",
    "query_url = \"http://api.openweathermap.org/data/2.5/weather?units=Imperial&APPID=\" + api_key   \n",
    "\n",
    "city_data = []\n",
    "\n",
    "print(\"Beginning Data Retrieval    \")\n",
    "print(\"----------------------------\")\n",
    "\n",
    "#counters\n",
    "record_num =1\n",
    "set_num = 1\n",
    "\n",
    "for i, city in enumerate(cities):\n",
    "   #create groups of 50\n",
    "    if (i% 50 == 0 and i >= 50):\n",
    "        set_num += 1\n",
    "        record_num = 0\n",
    "        \n",
    "    #url for the loop to run through\n",
    "    city_url = query_url + \"&q=\" + city.replace(\" \", \"+\")\n",
    "    #print(city_url)\n",
    "    \n",
    "    print(\"Processing Record {} of Set {} | {}\".format(record_num, set_num, city))\n",
    "    \n",
    "    #update record_num within the loop\n",
    "    record_num += 1\n",
    "    \n",
    "    #request info on each city\n",
    "    try:\n",
    "        city_response = requests.get(city_url).json()\n",
    "        \n",
    "        #within this response find the data necessary for DataFrame\n",
    "        city_lat = city_response[\"coord\"][\"lat\"]\n",
    "        city_lon = city_response[\"coord\"][\"lon\"]\n",
    "        city_max_temp = city_response[\"main\"][\"temp_max\"]\n",
    "        city_humidity = city_response[\"main\"][\"humidity\"]\n",
    "        city_cloudiness = city_response[\"clouds\"][\"all\"]\n",
    "        city_windspeed = city_response[\"wind\"][\"speed\"]\n",
    "        city_country = city_response[\"sys\"][\"country\"]\n",
    "        city_date = city_response[\"dt\"]\n",
    "        \n",
    "        #append the city info to empty list\n",
    "        city_data.append({\"City\": city,\n",
    "                         \"Lat\": city_lat, \n",
    "                         \"Lng\": city_lon,\n",
    "                         \"Max Temp\": city_max_temp, \n",
    "                         \"Humidity\": city_humidity, \n",
    "                         \"Cloudiness\": city_cloudiness, \n",
    "                         \"Wind Speed\": city_windspeed,\n",
    "                         \"Country\": city_country, \n",
    "                         \"Date\": city_date})\n",
    "    #if no city info is found, skip\n",
    "    except:\n",
    "        print(\"City not found. Skipping ...\")\n",
    "        pass\n",
    "    \n",
    "print(\"---------------------\")\n",
    "print(\"Data Retrieval Complete\")\n",
    "print(\"---------------------\")    \n",
    "\n",
    "\n"
   ]
  },
  {
   "cell_type": "markdown",
   "metadata": {},
   "source": [
    "### Convert Raw Data to DataFrame\n",
    "* Export the city data into a .csv.\n",
    "* Display the DataFrame"
   ]
  },
  {
   "cell_type": "code",
   "execution_count": 5,
   "metadata": {},
   "outputs": [
    {
     "data": {
      "text/html": [
       "<div>\n",
       "<style scoped>\n",
       "    .dataframe tbody tr th:only-of-type {\n",
       "        vertical-align: middle;\n",
       "    }\n",
       "\n",
       "    .dataframe tbody tr th {\n",
       "        vertical-align: top;\n",
       "    }\n",
       "\n",
       "    .dataframe thead th {\n",
       "        text-align: right;\n",
       "    }\n",
       "</style>\n",
       "<table border=\"1\" class=\"dataframe\">\n",
       "  <thead>\n",
       "    <tr style=\"text-align: right;\">\n",
       "      <th></th>\n",
       "      <th>City</th>\n",
       "      <th>Lat</th>\n",
       "      <th>Lng</th>\n",
       "      <th>Max Temp</th>\n",
       "      <th>Humidity</th>\n",
       "      <th>Cloudiness</th>\n",
       "      <th>Wind Speed</th>\n",
       "      <th>Country</th>\n",
       "      <th>Date</th>\n",
       "    </tr>\n",
       "  </thead>\n",
       "  <tbody>\n",
       "    <tr>\n",
       "      <th>0</th>\n",
       "      <td>show low</td>\n",
       "      <td>34.2542</td>\n",
       "      <td>-110.0298</td>\n",
       "      <td>41.00</td>\n",
       "      <td>24</td>\n",
       "      <td>1</td>\n",
       "      <td>9.22</td>\n",
       "      <td>US</td>\n",
       "      <td>1618645100</td>\n",
       "    </tr>\n",
       "    <tr>\n",
       "      <th>1</th>\n",
       "      <td>upernavik</td>\n",
       "      <td>72.7868</td>\n",
       "      <td>-56.1549</td>\n",
       "      <td>-10.37</td>\n",
       "      <td>93</td>\n",
       "      <td>79</td>\n",
       "      <td>6.60</td>\n",
       "      <td>GL</td>\n",
       "      <td>1618645101</td>\n",
       "    </tr>\n",
       "    <tr>\n",
       "      <th>2</th>\n",
       "      <td>barrow</td>\n",
       "      <td>71.2906</td>\n",
       "      <td>-156.7887</td>\n",
       "      <td>23.00</td>\n",
       "      <td>80</td>\n",
       "      <td>90</td>\n",
       "      <td>12.66</td>\n",
       "      <td>US</td>\n",
       "      <td>1618645101</td>\n",
       "    </tr>\n",
       "    <tr>\n",
       "      <th>3</th>\n",
       "      <td>lebu</td>\n",
       "      <td>-37.6167</td>\n",
       "      <td>-73.6500</td>\n",
       "      <td>52.14</td>\n",
       "      <td>82</td>\n",
       "      <td>24</td>\n",
       "      <td>4.63</td>\n",
       "      <td>CL</td>\n",
       "      <td>1618645102</td>\n",
       "    </tr>\n",
       "    <tr>\n",
       "      <th>4</th>\n",
       "      <td>kaitong</td>\n",
       "      <td>44.8135</td>\n",
       "      <td>123.1500</td>\n",
       "      <td>53.29</td>\n",
       "      <td>34</td>\n",
       "      <td>74</td>\n",
       "      <td>12.35</td>\n",
       "      <td>CN</td>\n",
       "      <td>1618645102</td>\n",
       "    </tr>\n",
       "    <tr>\n",
       "      <th>...</th>\n",
       "      <td>...</td>\n",
       "      <td>...</td>\n",
       "      <td>...</td>\n",
       "      <td>...</td>\n",
       "      <td>...</td>\n",
       "      <td>...</td>\n",
       "      <td>...</td>\n",
       "      <td>...</td>\n",
       "      <td>...</td>\n",
       "    </tr>\n",
       "    <tr>\n",
       "      <th>530</th>\n",
       "      <td>mullingar</td>\n",
       "      <td>53.5333</td>\n",
       "      <td>-7.3500</td>\n",
       "      <td>46.00</td>\n",
       "      <td>76</td>\n",
       "      <td>18</td>\n",
       "      <td>5.01</td>\n",
       "      <td>IE</td>\n",
       "      <td>1618645306</td>\n",
       "    </tr>\n",
       "    <tr>\n",
       "      <th>531</th>\n",
       "      <td>ust-kuyga</td>\n",
       "      <td>70.0167</td>\n",
       "      <td>135.6000</td>\n",
       "      <td>26.46</td>\n",
       "      <td>80</td>\n",
       "      <td>100</td>\n",
       "      <td>3.00</td>\n",
       "      <td>RU</td>\n",
       "      <td>1618645307</td>\n",
       "    </tr>\n",
       "    <tr>\n",
       "      <th>532</th>\n",
       "      <td>kouroussa</td>\n",
       "      <td>10.6500</td>\n",
       "      <td>-9.8833</td>\n",
       "      <td>78.49</td>\n",
       "      <td>67</td>\n",
       "      <td>81</td>\n",
       "      <td>7.36</td>\n",
       "      <td>GN</td>\n",
       "      <td>1618645307</td>\n",
       "    </tr>\n",
       "    <tr>\n",
       "      <th>533</th>\n",
       "      <td>slave lake</td>\n",
       "      <td>55.2834</td>\n",
       "      <td>-114.7690</td>\n",
       "      <td>41.00</td>\n",
       "      <td>60</td>\n",
       "      <td>90</td>\n",
       "      <td>1.12</td>\n",
       "      <td>CA</td>\n",
       "      <td>1618645308</td>\n",
       "    </tr>\n",
       "    <tr>\n",
       "      <th>534</th>\n",
       "      <td>castelldefels</td>\n",
       "      <td>41.2779</td>\n",
       "      <td>1.9703</td>\n",
       "      <td>50.00</td>\n",
       "      <td>76</td>\n",
       "      <td>20</td>\n",
       "      <td>6.91</td>\n",
       "      <td>ES</td>\n",
       "      <td>1618645308</td>\n",
       "    </tr>\n",
       "  </tbody>\n",
       "</table>\n",
       "<p>535 rows × 9 columns</p>\n",
       "</div>"
      ],
      "text/plain": [
       "              City      Lat       Lng  Max Temp  Humidity  Cloudiness  \\\n",
       "0         show low  34.2542 -110.0298     41.00        24           1   \n",
       "1        upernavik  72.7868  -56.1549    -10.37        93          79   \n",
       "2           barrow  71.2906 -156.7887     23.00        80          90   \n",
       "3             lebu -37.6167  -73.6500     52.14        82          24   \n",
       "4          kaitong  44.8135  123.1500     53.29        34          74   \n",
       "..             ...      ...       ...       ...       ...         ...   \n",
       "530      mullingar  53.5333   -7.3500     46.00        76          18   \n",
       "531      ust-kuyga  70.0167  135.6000     26.46        80         100   \n",
       "532      kouroussa  10.6500   -9.8833     78.49        67          81   \n",
       "533     slave lake  55.2834 -114.7690     41.00        60          90   \n",
       "534  castelldefels  41.2779    1.9703     50.00        76          20   \n",
       "\n",
       "     Wind Speed Country        Date  \n",
       "0          9.22      US  1618645100  \n",
       "1          6.60      GL  1618645101  \n",
       "2         12.66      US  1618645101  \n",
       "3          4.63      CL  1618645102  \n",
       "4         12.35      CN  1618645102  \n",
       "..          ...     ...         ...  \n",
       "530        5.01      IE  1618645306  \n",
       "531        3.00      RU  1618645307  \n",
       "532        7.36      GN  1618645307  \n",
       "533        1.12      CA  1618645308  \n",
       "534        6.91      ES  1618645308  \n",
       "\n",
       "[535 rows x 9 columns]"
      ]
     },
     "execution_count": 5,
     "metadata": {},
     "output_type": "execute_result"
    }
   ],
   "source": [
    "#city_dict = {'City': city, 'Lat': [lat], 'Lng': lon, 'Max Temp': max_temp, 'Humidity': humidity, 'Cloudiness': cloudiness, 'Wind Speed': windspeed, 'Country': country, 'Date': date}\n",
    "city_df = pd.DataFrame(city_data)\n",
    "city_df"
   ]
  },
  {
   "cell_type": "code",
   "execution_count": 6,
   "metadata": {},
   "outputs": [],
   "source": [
    "city_df.to_csv(\"output.csv\", index=False)"
   ]
  },
  {
   "cell_type": "code",
   "execution_count": 7,
   "metadata": {},
   "outputs": [
    {
     "data": {
      "text/html": [
       "<div>\n",
       "<style scoped>\n",
       "    .dataframe tbody tr th:only-of-type {\n",
       "        vertical-align: middle;\n",
       "    }\n",
       "\n",
       "    .dataframe tbody tr th {\n",
       "        vertical-align: top;\n",
       "    }\n",
       "\n",
       "    .dataframe thead th {\n",
       "        text-align: right;\n",
       "    }\n",
       "</style>\n",
       "<table border=\"1\" class=\"dataframe\">\n",
       "  <thead>\n",
       "    <tr style=\"text-align: right;\">\n",
       "      <th></th>\n",
       "      <th>Lat</th>\n",
       "      <th>Lng</th>\n",
       "      <th>Max Temp</th>\n",
       "      <th>Humidity</th>\n",
       "      <th>Cloudiness</th>\n",
       "      <th>Wind Speed</th>\n",
       "      <th>Date</th>\n",
       "    </tr>\n",
       "  </thead>\n",
       "  <tbody>\n",
       "    <tr>\n",
       "      <th>count</th>\n",
       "      <td>535.000000</td>\n",
       "      <td>535.000000</td>\n",
       "      <td>535.000000</td>\n",
       "      <td>535.000000</td>\n",
       "      <td>535.000000</td>\n",
       "      <td>535.000000</td>\n",
       "      <td>5.350000e+02</td>\n",
       "    </tr>\n",
       "    <tr>\n",
       "      <th>mean</th>\n",
       "      <td>20.670326</td>\n",
       "      <td>20.865605</td>\n",
       "      <td>59.877028</td>\n",
       "      <td>66.852336</td>\n",
       "      <td>54.960748</td>\n",
       "      <td>8.245944</td>\n",
       "      <td>1.618645e+09</td>\n",
       "    </tr>\n",
       "    <tr>\n",
       "      <th>std</th>\n",
       "      <td>33.121174</td>\n",
       "      <td>88.584427</td>\n",
       "      <td>22.417262</td>\n",
       "      <td>23.801824</td>\n",
       "      <td>39.516700</td>\n",
       "      <td>5.672233</td>\n",
       "      <td>7.924579e+01</td>\n",
       "    </tr>\n",
       "    <tr>\n",
       "      <th>min</th>\n",
       "      <td>-54.800000</td>\n",
       "      <td>-175.200000</td>\n",
       "      <td>-10.370000</td>\n",
       "      <td>1.000000</td>\n",
       "      <td>0.000000</td>\n",
       "      <td>0.450000</td>\n",
       "      <td>1.618645e+09</td>\n",
       "    </tr>\n",
       "    <tr>\n",
       "      <th>25%</th>\n",
       "      <td>-7.978050</td>\n",
       "      <td>-53.635500</td>\n",
       "      <td>46.000000</td>\n",
       "      <td>54.000000</td>\n",
       "      <td>14.000000</td>\n",
       "      <td>3.825000</td>\n",
       "      <td>1.618645e+09</td>\n",
       "    </tr>\n",
       "    <tr>\n",
       "      <th>50%</th>\n",
       "      <td>26.124700</td>\n",
       "      <td>26.687600</td>\n",
       "      <td>62.600000</td>\n",
       "      <td>72.000000</td>\n",
       "      <td>69.000000</td>\n",
       "      <td>6.910000</td>\n",
       "      <td>1.618645e+09</td>\n",
       "    </tr>\n",
       "    <tr>\n",
       "      <th>75%</th>\n",
       "      <td>48.509600</td>\n",
       "      <td>97.911400</td>\n",
       "      <td>77.720000</td>\n",
       "      <td>85.000000</td>\n",
       "      <td>96.000000</td>\n",
       "      <td>11.500000</td>\n",
       "      <td>1.618645e+09</td>\n",
       "    </tr>\n",
       "    <tr>\n",
       "      <th>max</th>\n",
       "      <td>78.218600</td>\n",
       "      <td>178.416700</td>\n",
       "      <td>102.740000</td>\n",
       "      <td>100.000000</td>\n",
       "      <td>100.000000</td>\n",
       "      <td>43.780000</td>\n",
       "      <td>1.618645e+09</td>\n",
       "    </tr>\n",
       "  </tbody>\n",
       "</table>\n",
       "</div>"
      ],
      "text/plain": [
       "              Lat         Lng    Max Temp    Humidity  Cloudiness  Wind Speed  \\\n",
       "count  535.000000  535.000000  535.000000  535.000000  535.000000  535.000000   \n",
       "mean    20.670326   20.865605   59.877028   66.852336   54.960748    8.245944   \n",
       "std     33.121174   88.584427   22.417262   23.801824   39.516700    5.672233   \n",
       "min    -54.800000 -175.200000  -10.370000    1.000000    0.000000    0.450000   \n",
       "25%     -7.978050  -53.635500   46.000000   54.000000   14.000000    3.825000   \n",
       "50%     26.124700   26.687600   62.600000   72.000000   69.000000    6.910000   \n",
       "75%     48.509600   97.911400   77.720000   85.000000   96.000000   11.500000   \n",
       "max     78.218600  178.416700  102.740000  100.000000  100.000000   43.780000   \n",
       "\n",
       "               Date  \n",
       "count  5.350000e+02  \n",
       "mean   1.618645e+09  \n",
       "std    7.924579e+01  \n",
       "min    1.618645e+09  \n",
       "25%    1.618645e+09  \n",
       "50%    1.618645e+09  \n",
       "75%    1.618645e+09  \n",
       "max    1.618645e+09  "
      ]
     },
     "execution_count": 7,
     "metadata": {},
     "output_type": "execute_result"
    }
   ],
   "source": [
    "city_df.describe()"
   ]
  },
  {
   "cell_type": "markdown",
   "metadata": {},
   "source": [
    "## Inspect the data and remove the cities where the humidity > 100%.\n",
    "----\n",
    "Skip this step if there are no cities that have humidity > 100%. "
   ]
  },
  {
   "cell_type": "code",
   "execution_count": 8,
   "metadata": {},
   "outputs": [
    {
     "data": {
      "text/plain": [
       "Int64Index([24, 93, 80, 82, 34, 88, 44, 65, 76, 28,\n",
       "            ...\n",
       "            76, 36, 96, 24, 45, 76, 80, 67, 60, 76],\n",
       "           dtype='int64', length=535)"
      ]
     },
     "execution_count": 8,
     "metadata": {},
     "output_type": "execute_result"
    }
   ],
   "source": [
    "#  Get the indices of cities that have humidity over 100%.\n",
    "\n",
    "idx = city_df.index[city_df['Humidity']]\n",
    "idx"
   ]
  },
  {
   "cell_type": "code",
   "execution_count": 9,
   "metadata": {},
   "outputs": [
    {
     "data": {
      "text/html": [
       "<div>\n",
       "<style scoped>\n",
       "    .dataframe tbody tr th:only-of-type {\n",
       "        vertical-align: middle;\n",
       "    }\n",
       "\n",
       "    .dataframe tbody tr th {\n",
       "        vertical-align: top;\n",
       "    }\n",
       "\n",
       "    .dataframe thead th {\n",
       "        text-align: right;\n",
       "    }\n",
       "</style>\n",
       "<table border=\"1\" class=\"dataframe\">\n",
       "  <thead>\n",
       "    <tr style=\"text-align: right;\">\n",
       "      <th></th>\n",
       "      <th>Lat</th>\n",
       "      <th>Lng</th>\n",
       "      <th>Max Temp</th>\n",
       "      <th>Humidity</th>\n",
       "      <th>Cloudiness</th>\n",
       "      <th>Wind Speed</th>\n",
       "      <th>Date</th>\n",
       "    </tr>\n",
       "  </thead>\n",
       "  <tbody>\n",
       "    <tr>\n",
       "      <th>count</th>\n",
       "      <td>535.000000</td>\n",
       "      <td>535.000000</td>\n",
       "      <td>535.000000</td>\n",
       "      <td>535.000000</td>\n",
       "      <td>535.000000</td>\n",
       "      <td>535.000000</td>\n",
       "      <td>5.350000e+02</td>\n",
       "    </tr>\n",
       "    <tr>\n",
       "      <th>mean</th>\n",
       "      <td>20.670326</td>\n",
       "      <td>20.865605</td>\n",
       "      <td>59.877028</td>\n",
       "      <td>66.852336</td>\n",
       "      <td>54.960748</td>\n",
       "      <td>8.245944</td>\n",
       "      <td>1.618645e+09</td>\n",
       "    </tr>\n",
       "    <tr>\n",
       "      <th>std</th>\n",
       "      <td>33.121174</td>\n",
       "      <td>88.584427</td>\n",
       "      <td>22.417262</td>\n",
       "      <td>23.801824</td>\n",
       "      <td>39.516700</td>\n",
       "      <td>5.672233</td>\n",
       "      <td>7.924579e+01</td>\n",
       "    </tr>\n",
       "    <tr>\n",
       "      <th>min</th>\n",
       "      <td>-54.800000</td>\n",
       "      <td>-175.200000</td>\n",
       "      <td>-10.370000</td>\n",
       "      <td>1.000000</td>\n",
       "      <td>0.000000</td>\n",
       "      <td>0.450000</td>\n",
       "      <td>1.618645e+09</td>\n",
       "    </tr>\n",
       "    <tr>\n",
       "      <th>25%</th>\n",
       "      <td>-7.978050</td>\n",
       "      <td>-53.635500</td>\n",
       "      <td>46.000000</td>\n",
       "      <td>54.000000</td>\n",
       "      <td>14.000000</td>\n",
       "      <td>3.825000</td>\n",
       "      <td>1.618645e+09</td>\n",
       "    </tr>\n",
       "    <tr>\n",
       "      <th>50%</th>\n",
       "      <td>26.124700</td>\n",
       "      <td>26.687600</td>\n",
       "      <td>62.600000</td>\n",
       "      <td>72.000000</td>\n",
       "      <td>69.000000</td>\n",
       "      <td>6.910000</td>\n",
       "      <td>1.618645e+09</td>\n",
       "    </tr>\n",
       "    <tr>\n",
       "      <th>75%</th>\n",
       "      <td>48.509600</td>\n",
       "      <td>97.911400</td>\n",
       "      <td>77.720000</td>\n",
       "      <td>85.000000</td>\n",
       "      <td>96.000000</td>\n",
       "      <td>11.500000</td>\n",
       "      <td>1.618645e+09</td>\n",
       "    </tr>\n",
       "    <tr>\n",
       "      <th>max</th>\n",
       "      <td>78.218600</td>\n",
       "      <td>178.416700</td>\n",
       "      <td>102.740000</td>\n",
       "      <td>100.000000</td>\n",
       "      <td>100.000000</td>\n",
       "      <td>43.780000</td>\n",
       "      <td>1.618645e+09</td>\n",
       "    </tr>\n",
       "  </tbody>\n",
       "</table>\n",
       "</div>"
      ],
      "text/plain": [
       "              Lat         Lng    Max Temp    Humidity  Cloudiness  Wind Speed  \\\n",
       "count  535.000000  535.000000  535.000000  535.000000  535.000000  535.000000   \n",
       "mean    20.670326   20.865605   59.877028   66.852336   54.960748    8.245944   \n",
       "std     33.121174   88.584427   22.417262   23.801824   39.516700    5.672233   \n",
       "min    -54.800000 -175.200000  -10.370000    1.000000    0.000000    0.450000   \n",
       "25%     -7.978050  -53.635500   46.000000   54.000000   14.000000    3.825000   \n",
       "50%     26.124700   26.687600   62.600000   72.000000   69.000000    6.910000   \n",
       "75%     48.509600   97.911400   77.720000   85.000000   96.000000   11.500000   \n",
       "max     78.218600  178.416700  102.740000  100.000000  100.000000   43.780000   \n",
       "\n",
       "               Date  \n",
       "count  5.350000e+02  \n",
       "mean   1.618645e+09  \n",
       "std    7.924579e+01  \n",
       "min    1.618645e+09  \n",
       "25%    1.618645e+09  \n",
       "50%    1.618645e+09  \n",
       "75%    1.618645e+09  \n",
       "max    1.618645e+09  "
      ]
     },
     "execution_count": 9,
     "metadata": {},
     "output_type": "execute_result"
    }
   ],
   "source": [
    "\n",
    "new_city_df = city_df.drop(city_df.loc[city_df['Humidity'] > 100].index)\n",
    "new_city_df.describe()"
   ]
  },
  {
   "cell_type": "code",
   "execution_count": null,
   "metadata": {},
   "outputs": [],
   "source": []
  },
  {
   "cell_type": "code",
   "execution_count": 10,
   "metadata": {
    "scrolled": true
   },
   "outputs": [
    {
     "data": {
      "text/html": [
       "<div>\n",
       "<style scoped>\n",
       "    .dataframe tbody tr th:only-of-type {\n",
       "        vertical-align: middle;\n",
       "    }\n",
       "\n",
       "    .dataframe tbody tr th {\n",
       "        vertical-align: top;\n",
       "    }\n",
       "\n",
       "    .dataframe thead th {\n",
       "        text-align: right;\n",
       "    }\n",
       "</style>\n",
       "<table border=\"1\" class=\"dataframe\">\n",
       "  <thead>\n",
       "    <tr style=\"text-align: right;\">\n",
       "      <th></th>\n",
       "      <th>City</th>\n",
       "      <th>Lat</th>\n",
       "      <th>Lng</th>\n",
       "      <th>Max Temp</th>\n",
       "      <th>Humidity</th>\n",
       "      <th>Cloudiness</th>\n",
       "      <th>Wind Speed</th>\n",
       "      <th>Country</th>\n",
       "      <th>Date</th>\n",
       "    </tr>\n",
       "  </thead>\n",
       "  <tbody>\n",
       "    <tr>\n",
       "      <th>0</th>\n",
       "      <td>show low</td>\n",
       "      <td>34.2542</td>\n",
       "      <td>-110.0298</td>\n",
       "      <td>41.00</td>\n",
       "      <td>24</td>\n",
       "      <td>1</td>\n",
       "      <td>9.22</td>\n",
       "      <td>US</td>\n",
       "      <td>1618645100</td>\n",
       "    </tr>\n",
       "    <tr>\n",
       "      <th>1</th>\n",
       "      <td>upernavik</td>\n",
       "      <td>72.7868</td>\n",
       "      <td>-56.1549</td>\n",
       "      <td>-10.37</td>\n",
       "      <td>93</td>\n",
       "      <td>79</td>\n",
       "      <td>6.60</td>\n",
       "      <td>GL</td>\n",
       "      <td>1618645101</td>\n",
       "    </tr>\n",
       "    <tr>\n",
       "      <th>2</th>\n",
       "      <td>barrow</td>\n",
       "      <td>71.2906</td>\n",
       "      <td>-156.7887</td>\n",
       "      <td>23.00</td>\n",
       "      <td>80</td>\n",
       "      <td>90</td>\n",
       "      <td>12.66</td>\n",
       "      <td>US</td>\n",
       "      <td>1618645101</td>\n",
       "    </tr>\n",
       "    <tr>\n",
       "      <th>3</th>\n",
       "      <td>lebu</td>\n",
       "      <td>-37.6167</td>\n",
       "      <td>-73.6500</td>\n",
       "      <td>52.14</td>\n",
       "      <td>82</td>\n",
       "      <td>24</td>\n",
       "      <td>4.63</td>\n",
       "      <td>CL</td>\n",
       "      <td>1618645102</td>\n",
       "    </tr>\n",
       "    <tr>\n",
       "      <th>4</th>\n",
       "      <td>kaitong</td>\n",
       "      <td>44.8135</td>\n",
       "      <td>123.1500</td>\n",
       "      <td>53.29</td>\n",
       "      <td>34</td>\n",
       "      <td>74</td>\n",
       "      <td>12.35</td>\n",
       "      <td>CN</td>\n",
       "      <td>1618645102</td>\n",
       "    </tr>\n",
       "  </tbody>\n",
       "</table>\n",
       "</div>"
      ],
      "text/plain": [
       "        City      Lat       Lng  Max Temp  Humidity  Cloudiness  Wind Speed  \\\n",
       "0   show low  34.2542 -110.0298     41.00        24           1        9.22   \n",
       "1  upernavik  72.7868  -56.1549    -10.37        93          79        6.60   \n",
       "2     barrow  71.2906 -156.7887     23.00        80          90       12.66   \n",
       "3       lebu -37.6167  -73.6500     52.14        82          24        4.63   \n",
       "4    kaitong  44.8135  123.1500     53.29        34          74       12.35   \n",
       "\n",
       "  Country        Date  \n",
       "0      US  1618645100  \n",
       "1      GL  1618645101  \n",
       "2      US  1618645101  \n",
       "3      CL  1618645102  \n",
       "4      CN  1618645102  "
      ]
     },
     "execution_count": 10,
     "metadata": {},
     "output_type": "execute_result"
    }
   ],
   "source": [
    "# Make a new DataFrame equal to the city data to drop all humidity outliers by index.\n",
    "# Passing \"inplace=False\" will make a copy of the city_data DataFrame, which we call \"clean_city_data\".\n",
    "clean_city_data = city_df.drop(city_df.loc[city_df['Humidity'] > 100].index, inplace=False)\n",
    "clean_city_data.head()\n"
   ]
  },
  {
   "cell_type": "code",
   "execution_count": null,
   "metadata": {},
   "outputs": [],
   "source": []
  },
  {
   "cell_type": "code",
   "execution_count": null,
   "metadata": {},
   "outputs": [],
   "source": [
    "\n"
   ]
  },
  {
   "cell_type": "markdown",
   "metadata": {},
   "source": [
    "## Plotting the Data\n",
    "* Use proper labeling of the plots using plot titles (including date of analysis) and axes labels.\n",
    "* Save the plotted figures as .pngs."
   ]
  },
  {
   "cell_type": "markdown",
   "metadata": {},
   "source": [
    "## Latitude vs. Temperature Plot"
   ]
  },
  {
   "cell_type": "code",
   "execution_count": 11,
   "metadata": {
    "scrolled": true
   },
   "outputs": [
    {
     "data": {
      "image/png": "[encoded data removed]",
      "text/plain": [
       "<Figure size 432x288 with 1 Axes>"
      ]
     },
     "metadata": {
      "needs_background": "light"
     },
     "output_type": "display_data"
    },
    {
     "data": {
      "text/plain": [
       "<Figure size 432x288 with 0 Axes>"
      ]
     },
     "metadata": {},
     "output_type": "display_data"
    }
   ],
   "source": [
    "x_axis = clean_city_data['Lat']\n",
    "temp = clean_city_data['Max Temp']\n",
    "                           \n",
    "plt.scatter(x_axis, temp, marker=\"o\", color='blue', edgecolor='green')\n",
    "plt.xlabel('Latitude')\n",
    "plt.ylabel('Max Temperature (F)')\n",
    "plt.title(\"City Latitude vs. Max Temperature\")\n",
    "plt.show()\n",
    "plt.savefig(\"images/maxtemp.png\")"
   ]
  },
  {
   "cell_type": "markdown",
   "metadata": {},
   "source": [
    "## Latitude vs. Humidity Plot"
   ]
  },
  {
   "cell_type": "code",
   "execution_count": 12,
   "metadata": {},
   "outputs": [
    {
     "data": {
      "image/png": "[encoded data removed]",
      "text/plain": [
       "<Figure size 432x288 with 1 Axes>"
      ]
     },
     "metadata": {
      "needs_background": "light"
     },
     "output_type": "display_data"
    },
    {
     "data": {
      "text/plain": [
       "<Figure size 432x288 with 0 Axes>"
      ]
     },
     "metadata": {},
     "output_type": "display_data"
    }
   ],
   "source": [
    "x_axis = clean_city_data['Lat']\n",
    "y_axis = clean_city_data['Humidity']\n",
    "plt.scatter(x_axis, y_axis, marker=\"o\", color='blue', edgecolor='green')\n",
    "plt.xlabel('Latitude')\n",
    "plt.ylabel('Humidity %')\n",
    "plt.title(\"City Latitude vs. Humidity\")\n",
    "plt.show()\n",
    "plt.savefig(\"images/humidity.png\")"
   ]
  },
  {
   "cell_type": "markdown",
   "metadata": {},
   "source": [
    "## Latitude vs. Cloudiness Plot"
   ]
  },
  {
   "cell_type": "code",
   "execution_count": 13,
   "metadata": {},
   "outputs": [
    {
     "data": {
      "image/png": "[encoded data removed]",
      "text/plain": [
       "<Figure size 432x288 with 1 Axes>"
      ]
     },
     "metadata": {
      "needs_background": "light"
     },
     "output_type": "display_data"
    },
    {
     "data": {
      "text/plain": [
       "<Figure size 432x288 with 0 Axes>"
      ]
     },
     "metadata": {},
     "output_type": "display_data"
    }
   ],
   "source": [
    "x_axis = clean_city_data['Lat']\n",
    "clouds = clean_city_data['Max Temp']\n",
    "plt.scatter(x_axis, clouds, marker=\"o\", color='blue', edgecolor='green')\n",
    "plt.xlabel('Latitude')\n",
    "plt.ylabel('Cloudiness %')\n",
    "plt.title(\"City Latitude vs. Cloudiness\")\n",
    "plt.show()\n",
    "plt.savefig(\"images/cloudiness.png\")"
   ]
  },
  {
   "cell_type": "markdown",
   "metadata": {},
   "source": [
    "## Latitude vs. Wind Speed Plot"
   ]
  },
  {
   "cell_type": "code",
   "execution_count": 14,
   "metadata": {},
   "outputs": [
    {
     "data": {
      "image/png": "[encoded data removed]",
      "text/plain": [
       "<Figure size 432x288 with 1 Axes>"
      ]
     },
     "metadata": {
      "needs_background": "light"
     },
     "output_type": "display_data"
    },
    {
     "data": {
      "text/plain": [
       "<Figure size 432x288 with 0 Axes>"
      ]
     },
     "metadata": {},
     "output_type": "display_data"
    }
   ],
   "source": [
    "x_axis = clean_city_data['Lat']\n",
    "speed = clean_city_data['Wind Speed']\n",
    "plt.scatter(x_axis, speed, marker=\"o\", color='blue', edgecolor='green')\n",
    "plt.xlabel('Latitude')\n",
    "plt.ylabel('Wind Speed (mph)')\n",
    "plt.title(\"City Latitude vs. Wind Speed\")\n",
    "plt.show()\n",
    "plt.savefig(\"images/windspeed.png\")"
   ]
  },
  {
   "cell_type": "markdown",
   "metadata": {},
   "source": [
    "# # Linear Regression"
   ]
  },
  {
   "cell_type": "code",
   "execution_count": 15,
   "metadata": {},
   "outputs": [],
   "source": [
    "#determine the north and south hemisphere to pull data from\n",
    "north_hemisphere = clean_city_data.loc[clean_city_data['Lat'] >= 0]\n",
    "#north_hemisphere\n",
    "south_hemisphere = clean_city_data.loc[clean_city_data['Lat'] < 0]\n",
    "#south_hemisphere"
   ]
  },
  {
   "cell_type": "markdown",
   "metadata": {},
   "source": [
    "####  Northern Hemisphere - Max Temp vs. Latitude Linear Regression"
   ]
  },
  {
   "cell_type": "code",
   "execution_count": 16,
   "metadata": {},
   "outputs": [
    {
     "data": {
      "image/png": "[encoded data removed]",
      "text/plain": [
       "<Figure size 432x288 with 1 Axes>"
      ]
     },
     "metadata": {
      "needs_background": "light"
     },
     "output_type": "display_data"
    },
    {
     "name": "stdout",
     "output_type": "stream",
     "text": [
      "The r-squared value is 0.7551951918496207\n"
     ]
    },
    {
     "data": {
      "text/plain": [
       "<Figure size 432x288 with 0 Axes>"
      ]
     },
     "metadata": {},
     "output_type": "display_data"
    }
   ],
   "source": [
    "x_axis = north_hemisphere['Lat']\n",
    "y_axis = north_hemisphere['Max Temp']\n",
    "(slope, intercept, rvalue, pvalue, stderr) = linregress(x_axis, y_axis)\n",
    "regress_values = x_axis * slope + intercept\n",
    "line_eq = \"y = \" + str(round(slope,2)) + \"x + \" + str(round(intercept,2))\n",
    "plt.scatter(x_axis, y_axis, color='blue', edgecolor='green')\n",
    "plt.xlabel('Latitude')\n",
    "plt.ylabel('Max Temp (F)')\n",
    "plt.title(\"N.Max Temp vs. Latitude Linear Regression\")\n",
    "plt.plot(x_axis,regress_values,\"r--\")\n",
    "plt.annotate(line_eq,(18,36),fontsize=15,color=\"green\")\n",
    "plt.show()\n",
    "print(f\"The r-squared value is {rvalue**2}\")\n",
    "plt.savefig(\"images/n_maxtemp.png\")"
   ]
  },
  {
   "cell_type": "markdown",
   "metadata": {},
   "source": [
    "####  Southern Hemisphere - Max Temp vs. Latitude Linear Regression"
   ]
  },
  {
   "cell_type": "code",
   "execution_count": 17,
   "metadata": {},
   "outputs": [
    {
     "data": {
      "image/png": "[encoded data removed]",
      "text/plain": [
       "<Figure size 432x288 with 1 Axes>"
      ]
     },
     "metadata": {
      "needs_background": "light"
     },
     "output_type": "display_data"
    },
    {
     "name": "stdout",
     "output_type": "stream",
     "text": [
      "The r-squared value is 0.39791465762703304\n"
     ]
    },
    {
     "data": {
      "text/plain": [
       "<Figure size 432x288 with 0 Axes>"
      ]
     },
     "metadata": {},
     "output_type": "display_data"
    }
   ],
   "source": [
    "x_axis = south_hemisphere['Lat']\n",
    "y_axis = south_hemisphere['Max Temp']\n",
    "(slope, intercept, rvalue, pvalue, stderr) = linregress(x_axis, y_axis)\n",
    "regress_values = x_axis * slope + intercept\n",
    "line_eq = \"y = \" + str(round(slope,2)) + \"x + \" + str(round(intercept,2))\n",
    "plt.scatter(x_axis, y_axis, color='blue', edgecolor='green')\n",
    "plt.xlabel('Latitude')\n",
    "plt.ylabel('Max Temp (F)')\n",
    "plt.title(\"S.Max Temp vs. Latitude Linear Regression\")\n",
    "plt.plot(x_axis,regress_values,\"r--\")\n",
    "plt.annotate(line_eq,(18,36),fontsize=15,color=\"green\")\n",
    "plt.show()\n",
    "print(f\"The r-squared value is {rvalue**2}\")\n",
    "plt.savefig(\"images/s_maxtemp.png\")"
   ]
  },
  {
   "cell_type": "markdown",
   "metadata": {},
   "source": [
    "####  Northern Hemisphere - Humidity (%) vs. Latitude Linear Regression"
   ]
  },
  {
   "cell_type": "code",
   "execution_count": 18,
   "metadata": {},
   "outputs": [
    {
     "data": {
      "image/png": "[encoded data removed]",
      "text/plain": [
       "<Figure size 432x288 with 1 Axes>"
      ]
     },
     "metadata": {
      "needs_background": "light"
     },
     "output_type": "display_data"
    },
    {
     "name": "stdout",
     "output_type": "stream",
     "text": [
      "The r-squared value is 0.04356427335122029\n"
     ]
    },
    {
     "data": {
      "text/plain": [
       "<Figure size 432x288 with 0 Axes>"
      ]
     },
     "metadata": {},
     "output_type": "display_data"
    }
   ],
   "source": [
    "x_axis = north_hemisphere['Lat']\n",
    "y_axis = north_hemisphere['Humidity']\n",
    "(slope, intercept, rvalue, pvalue, stderr) = linregress(x_axis, y_axis)\n",
    "regress_values = x_axis * slope + intercept\n",
    "line_eq = \"y = \" + str(round(slope,2)) + \"x + \" + str(round(intercept,2))\n",
    "plt.scatter(x_axis, y_axis, color='blue', edgecolor='green')\n",
    "plt.xlabel('Latitude')\n",
    "plt.ylabel('Humidity %')\n",
    "plt.title(\"N.Humidity vs. Latitude Linear Regression\")\n",
    "plt.plot(x_axis,regress_values,\"r--\")\n",
    "plt.annotate(line_eq,(18,36),fontsize=15,color=\"green\")\n",
    "plt.show()\n",
    "print(f\"The r-squared value is {rvalue**2}\")\n",
    "plt.savefig(\"images/n_humidity.png\")"
   ]
  },
  {
   "cell_type": "markdown",
   "metadata": {},
   "source": [
    "####  Southern Hemisphere - Humidity (%) vs. Latitude Linear Regression"
   ]
  },
  {
   "cell_type": "code",
   "execution_count": 19,
   "metadata": {},
   "outputs": [
    {
     "data": {
      "image/png": "[encoded data removed]",
      "text/plain": [
       "<Figure size 432x288 with 1 Axes>"
      ]
     },
     "metadata": {
      "needs_background": "light"
     },
     "output_type": "display_data"
    },
    {
     "name": "stdout",
     "output_type": "stream",
     "text": [
      "The r-squared value is 0.02771854706252175\n"
     ]
    },
    {
     "data": {
      "text/plain": [
       "<Figure size 432x288 with 0 Axes>"
      ]
     },
     "metadata": {},
     "output_type": "display_data"
    }
   ],
   "source": [
    "x_axis = south_hemisphere['Lat']\n",
    "y_axis = south_hemisphere['Humidity']\n",
    "(slope, intercept, rvalue, pvalue, stderr) = linregress(x_axis, y_axis)\n",
    "regress_values = x_axis * slope + intercept\n",
    "line_eq = \"y = \" + str(round(slope,2)) + \"x + \" + str(round(intercept,2))\n",
    "plt.scatter(x_axis, y_axis, color='blue', edgecolor='green')\n",
    "plt.xlabel('Latitude')\n",
    "plt.ylabel('Humidity %')\n",
    "plt.title(\"S.Humidity vs. Latitude Linear Regression\")\n",
    "plt.plot(x_axis,regress_values,\"r--\")\n",
    "plt.annotate(line_eq,(18,36),fontsize=15,color=\"green\")\n",
    "plt.show()\n",
    "print(f\"The r-squared value is {rvalue**2}\")\n",
    "plt.savefig(\"images/s_humidity.png\")"
   ]
  },
  {
   "cell_type": "markdown",
   "metadata": {},
   "source": [
    "####  Northern Hemisphere - Cloudiness (%) vs. Latitude Linear Regression"
   ]
  },
  {
   "cell_type": "code",
   "execution_count": 20,
   "metadata": {},
   "outputs": [
    {
     "data": {
      "image/png": "[encoded data removed]",
      "text/plain": [
       "<Figure size 432x288 with 1 Axes>"
      ]
     },
     "metadata": {
      "needs_background": "light"
     },
     "output_type": "display_data"
    },
    {
     "name": "stdout",
     "output_type": "stream",
     "text": [
      "The r-squared value is 0.0073903072368007435\n"
     ]
    },
    {
     "data": {
      "text/plain": [
       "<Figure size 432x288 with 0 Axes>"
      ]
     },
     "metadata": {},
     "output_type": "display_data"
    }
   ],
   "source": [
    "x_axis = north_hemisphere['Lat']\n",
    "y_axis = north_hemisphere['Cloudiness']\n",
    "(slope, intercept, rvalue, pvalue, stderr) = linregress(x_axis, y_axis)\n",
    "regress_values = x_axis * slope + intercept\n",
    "line_eq = \"y = \" + str(round(slope,2)) + \"x + \" + str(round(intercept,2))\n",
    "plt.scatter(x_axis, y_axis, color='blue', edgecolor='green')\n",
    "plt.xlabel('Latitude')\n",
    "plt.ylabel('Cloudiness %')\n",
    "plt.title(\"N.Cloudiness vs. Latitude Linear Regression\")\n",
    "plt.plot(x_axis,regress_values,\"r--\")\n",
    "plt.annotate(line_eq,(18,36),fontsize=15,color=\"green\")\n",
    "plt.show()\n",
    "print(f\"The r-squared value is {rvalue**2}\")\n",
    "plt.savefig(\"images/n_cloudines.png\")"
   ]
  },
  {
   "cell_type": "markdown",
   "metadata": {},
   "source": [
    "####  Southern Hemisphere - Cloudiness (%) vs. Latitude Linear Regression"
   ]
  },
  {
   "cell_type": "code",
   "execution_count": 21,
   "metadata": {},
   "outputs": [
    {
     "data": {
      "image/png": "[encoded data removed]",
      "text/plain": [
       "<Figure size 432x288 with 1 Axes>"
      ]
     },
     "metadata": {
      "needs_background": "light"
     },
     "output_type": "display_data"
    },
    {
     "name": "stdout",
     "output_type": "stream",
     "text": [
      "The r-squared value is 0.03511177550884245\n"
     ]
    },
    {
     "data": {
      "text/plain": [
       "<Figure size 432x288 with 0 Axes>"
      ]
     },
     "metadata": {},
     "output_type": "display_data"
    }
   ],
   "source": [
    "x_axis = south_hemisphere['Lat']\n",
    "y_axis = south_hemisphere['Cloudiness']\n",
    "(slope, intercept, rvalue, pvalue, stderr) = linregress(x_axis, y_axis)\n",
    "regress_values = x_axis * slope + intercept\n",
    "line_eq = \"y = \" + str(round(slope,2)) + \"x + \" + str(round(intercept,2))\n",
    "plt.scatter(x_axis, y_axis, color='blue', edgecolor='green')\n",
    "plt.xlabel('Latitude')\n",
    "plt.ylabel('Cloudiness %')\n",
    "plt.title(\"S.Cloudiness vs. Latitude Linear Regression\")\n",
    "plt.plot(x_axis,regress_values,\"r--\")\n",
    "plt.annotate(line_eq,(18,36),fontsize=15,color=\"green\")\n",
    "plt.show()\n",
    "print(f\"The r-squared value is {rvalue**2}\")\n",
    "plt.savefig(\"images/s_cloudiness.png\")"
   ]
  },
  {
   "cell_type": "markdown",
   "metadata": {},
   "source": [
    "####  Northern Hemisphere - Wind Speed (mph) vs. Latitude Linear Regression"
   ]
  },
  {
   "cell_type": "code",
   "execution_count": 22,
   "metadata": {},
   "outputs": [
    {
     "data": {
      "image/png": "[encoded data removed]",
      "text/plain": [
       "<Figure size 432x288 with 1 Axes>"
      ]
     },
     "metadata": {
      "needs_background": "light"
     },
     "output_type": "display_data"
    },
    {
     "name": "stdout",
     "output_type": "stream",
     "text": [
      "The r-squared value is 0.003934202712235572\n"
     ]
    },
    {
     "data": {
      "text/plain": [
       "<Figure size 432x288 with 0 Axes>"
      ]
     },
     "metadata": {},
     "output_type": "display_data"
    }
   ],
   "source": [
    "x_axis = north_hemisphere['Lat']\n",
    "y_axis = north_hemisphere['Wind Speed']\n",
    "(slope, intercept, rvalue, pvalue, stderr) = linregress(x_axis, y_axis)\n",
    "regress_values = x_axis * slope + intercept\n",
    "line_eq = \"y = \" + str(round(slope,2)) + \"x + \" + str(round(intercept,2))\n",
    "plt.scatter(x_axis, y_axis, color='blue', edgecolor='green')\n",
    "plt.xlabel('Latitude')\n",
    "plt.ylabel('Wind Speed(mph)')\n",
    "plt.title(\"N.Wind Speed vs. Latitude Linear Regression\")\n",
    "plt.plot(x_axis,regress_values,\"r--\")\n",
    "plt.annotate(line_eq,(18,36),fontsize=15,color=\"green\")\n",
    "plt.show()\n",
    "print(f\"The r-squared value is {rvalue**2}\")\n",
    "plt.savefig(\"images/n_windspeed.png\")"
   ]
  },
  {
   "cell_type": "markdown",
   "metadata": {},
   "source": [
    "####  Southern Hemisphere - Wind Speed (mph) vs. Latitude Linear Regression"
   ]
  },
  {
   "cell_type": "code",
   "execution_count": 23,
   "metadata": {},
   "outputs": [
    {
     "data": {
      "image/png": "[encoded data removed]",
      "text/plain": [
       "<Figure size 432x288 with 1 Axes>"
      ]
     },
     "metadata": {
      "needs_background": "light"
     },
     "output_type": "display_data"
    },
    {
     "name": "stdout",
     "output_type": "stream",
     "text": [
      "The r-squared value is 0.0038503254659552955\n"
     ]
    },
    {
     "data": {
      "text/plain": [
       "<Figure size 432x288 with 0 Axes>"
      ]
     },
     "metadata": {},
     "output_type": "display_data"
    }
   ],
   "source": [
    "x_axis = south_hemisphere['Lat']\n",
    "y_axis = south_hemisphere['Wind Speed']\n",
    "(slope, intercept, rvalue, pvalue, stderr) = linregress(x_axis, y_axis)\n",
    "regress_values = x_axis * slope + intercept\n",
    "line_eq = \"y = \" + str(round(slope,2)) + \"x + \" + str(round(intercept,2))\n",
    "plt.scatter(x_axis, y_axis, color='blue', edgecolor='green')\n",
    "plt.xlabel('Latitude')\n",
    "plt.ylabel('Wind Speed(mph)')\n",
    "plt.title(\"S.Wind Speed vs. Latitude Linear Regression\")\n",
    "plt.plot(x_axis,regress_values,\"r--\")\n",
    "plt.annotate(line_eq,(18,36),fontsize=15,color=\"green\")\n",
    "plt.show()\n",
    "print(f\"The r-squared value is {rvalue**2}\")\n",
    "plt.savefig(\"images/s_windspeed.png\")"
   ]
  },
  {
   "cell_type": "code",
   "execution_count": null,
   "metadata": {},
   "outputs": [],
   "source": []
  },
  {
   "cell_type": "code",
   "execution_count": null,
   "metadata": {},
   "outputs": [],
   "source": []
  }
 ],
 "metadata": {
  "anaconda-cloud": {},
  "kernel_info": {
   "name": "python3"
  },
  "kernelspec": {
   "display_name": "Python 3",
   "language": "python",
   "name": "python3"
  },
  "language_info": {
   "codemirror_mode": {
    "name": "ipython",
    "version": 3
   },
   "file_extension": ".py",
   "mimetype": "text/x-python",
   "name": "python",
   "nbconvert_exporter": "python",
   "pygments_lexer": "ipython3",
   "version": "3.8.5"
  },
  "latex_envs": {
   "LaTeX_envs_menu_present": true,
   "autoclose": false,
   "autocomplete": true,
   "bibliofile": "biblio.bib",
   "cite_by": "apalike",
   "current_citInitial": 1,
   "eqLabelWithNumbers": true,
   "eqNumInitial": 1,
   "hotkeys": {
    "equation": "Ctrl-E",
    "itemize": "Ctrl-I"
   },
   "labels_anchors": false,
   "latex_user_defs": false,
   "report_style_numbering": false,
   "user_envs_cfg": false
  },
  "nteract": {
   "version": "0.12.3"
  }
 },
 "nbformat": 4,
 "nbformat_minor": 2
}
